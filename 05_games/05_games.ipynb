{
 "cells": [
  {
   "cell_type": "markdown",
   "metadata": {},
   "source": [
    "# Исследование компьютерной игры "
   ]
  },
  {
   "cell_type": "markdown",
   "metadata": {},
   "source": [
    "**Цель исследования** — выявить определяющие успешность игры закономерности. Это позволит сделать ставку на потенциально популярный продукт и спланировать рекламные кампании.\n",
    "\n",
    "Необходимо провсти исследовательский анализ:\n",
    "1. Сколько игр выпускалось в разные годы. Важны ли данные за все периоды?\n",
    "2. Как менялись продажи по платформам. Для платформ с наибольшими суммарными продажами и построить распределение по годам. За какой характерный срок появляются новые и исчезают старые платформы?\n",
    "3. Какие платформы лидируют по продажам, растут или падают? \n",
    "4. Построить график «ящик с усами» по глобальным продажам игр в разбивке по платформам. Опиать результат.\n",
    "5. Как влияют на продажи внутри одной популярной платформы отзывы пользователей и критиков. Построить диаграмму рассеяния и посчитать корреляцию между отзывами и продажами.\n",
    "6. Что можно сказать о самых прибыльных жанрах? Выделяются ли жанры с высокими и низкими продажами?\n",
    "7. Необходимо составить портрет пользователя каждого региона\n",
    "\n",
    "Необходимо проверить гипотезы:\n",
    "1. Средние пользовательские рейтинги платформ Xbox One и PC одинаковые;\n",
    "2. Средние пользовательские рейтинги жанров Action (англ. «действие», экшен-игры) и Sports (англ. «спортивные соревнования») разные.\n",
    "\n",
    "**Описание проекта**\n",
    "\n",
    "Заказчик — интернет-магазин «Стримчик», который продаёт по всему миру компьютерные игры. Нужно выявить определяющие успешность игры закономерности. Результаты исследования позволит сделать ставку на потенциально популярный продукт и спланировать рекламные кампании.\n",
    "\n",
    "Данны данные до 2016 года и я планирую кампанию на 2017-й. Я проверю данные на ошибки и оценю их влияние на исследование. Затем, на этапе предобработки буду искать возможность исправить самые критичные ошибки данных.\n",
    " \n",
    "Таким образом, исследование пройдёт в четыре этапа:\n",
    " 1. Обзор данных.\n",
    " 2. Предобработка данных.\n",
    " 3. Исследовательский анализ.\n",
    " 4. Проверка гипотез.\n",
    " \n",
    "## Описание данных\n",
    "\n",
    "* `Name` — название игры\n",
    "* `Platform` — платформа\n",
    "* `Year_of_Release` — год выпуска\n",
    "* `Genre` — жанр игры\n",
    "* `NA_sales` — продажи в Северной Америке (миллионы проданных копий)\n",
    "* `EU_sales` — продажи в Европе (миллионы проданных копий)\n",
    "* `JP_sales` — продажи в Японии (миллионы проданных копий)\n",
    "* `Other_sales` — продажи в других странах (миллионы проданных копий)\n",
    "* `Critic_Score` — оценка критиков (максимум 100)\n",
    "* `User_Score` — оценка пользователей (максимум 10)\n",
    "* `Rating` — рейтинг от организации ESRB (англ. Entertainment Software Rating Board). Эта ассоциация определяет рейтинг компьютерных игр и присваивает им подходящую возрастную категорию.\n",
    "\n",
    "**Обозначение рейтинга в столбце `Rating`:**\n",
    "* `E` - для всех;\n",
    "* `M` - для взрослых (от 17 лет и старше);\n",
    "* `T` - для подростков (от 13 лет и старше);\n",
    "* `E10+` - для всех (от 10 лет и старше);\n",
    "* `K-A` - для детей и взрослых. Этот рейтинг использовался до 1998 года, когда он был переименован в E.\n",
    "* `AO` - для взрослых (от 18 лет и старше);\n",
    "* `EC` - для детей младшего возраста (от 3 лет и старше);\n",
    "* `RP` - рейтинг ожидается. Данный логотип используется только на рекламных презентациях и в демо-версиях игр до официальной даты выпуска в продажу"
   ]
  },
  {
   "cell_type": "markdown",
   "metadata": {},
   "source": [
    "## Обзор данных\n",
    "\n",
    "### Открыть файл с данными и изучить общую информацию\n",
    "\n",
    "Импортирую библиотеки."
   ]
  },
  {
   "cell_type": "code",
   "execution_count": 1,
   "metadata": {},
   "outputs": [],
   "source": [
    "import pandas as pd\n",
    "import numpy as np\n",
    "import seaborn as sns\n",
    "import matplotlib.pyplot as plt\n",
    "from scipy import stats as st\n",
    "\n",
    "# импорт библиотеки warnings\n",
    "import warnings\n",
    "warnings.filterwarnings('ignore')\n",
    "\n",
    "# задам точность отображения данных типа float (2 знака после запятой)\n",
    "pd.options.display.float_format = '{:.2f}'.format"
   ]
  },
  {
   "cell_type": "markdown",
   "metadata": {},
   "source": [
    "Считываю данные из файла games.csv и сохраню их в датафрейм data."
   ]
  },
  {
   "cell_type": "code",
   "execution_count": 2,
   "metadata": {},
   "outputs": [],
   "source": [
    "import os\n",
    "\n",
    "pth1 = '/datasets/games.csv' \n",
    "pth2 = 'https://code.s3.yandex.net/datasets/games.csv' \n",
    "\n",
    "if os.path.exists(pth1):\n",
    "    data = pd.read_csv(pth1) \n",
    "elif os.path.exists(pth2):\n",
    "    data = pd.read_csv(pth2) \n",
    "else:\n",
    "    print('Something is wrong')"
   ]
  },
  {
   "cell_type": "markdown",
   "metadata": {},
   "source": [
    "Выведу первые 10 строчек датафрейма на экран, чтобы ознакомиться с данными, проверить нужные ли данные были загружены."
   ]
  },
  {
   "cell_type": "code",
   "execution_count": 3,
   "metadata": {},
   "outputs": [
    {
     "data": {
      "text/html": [
       "<div>\n",
       "<style scoped>\n",
       "    .dataframe tbody tr th:only-of-type {\n",
       "        vertical-align: middle;\n",
       "    }\n",
       "\n",
       "    .dataframe tbody tr th {\n",
       "        vertical-align: top;\n",
       "    }\n",
       "\n",
       "    .dataframe thead th {\n",
       "        text-align: right;\n",
       "    }\n",
       "</style>\n",
       "<table border=\"1\" class=\"dataframe\">\n",
       "  <thead>\n",
       "    <tr style=\"text-align: right;\">\n",
       "      <th></th>\n",
       "      <th>Name</th>\n",
       "      <th>Platform</th>\n",
       "      <th>Year_of_Release</th>\n",
       "      <th>Genre</th>\n",
       "      <th>NA_sales</th>\n",
       "      <th>EU_sales</th>\n",
       "      <th>JP_sales</th>\n",
       "      <th>Other_sales</th>\n",
       "      <th>Critic_Score</th>\n",
       "      <th>User_Score</th>\n",
       "      <th>Rating</th>\n",
       "    </tr>\n",
       "  </thead>\n",
       "  <tbody>\n",
       "    <tr>\n",
       "      <th>0</th>\n",
       "      <td>Wii Sports</td>\n",
       "      <td>Wii</td>\n",
       "      <td>2006.00</td>\n",
       "      <td>Sports</td>\n",
       "      <td>41.36</td>\n",
       "      <td>28.96</td>\n",
       "      <td>3.77</td>\n",
       "      <td>8.45</td>\n",
       "      <td>76.00</td>\n",
       "      <td>8</td>\n",
       "      <td>E</td>\n",
       "    </tr>\n",
       "    <tr>\n",
       "      <th>1</th>\n",
       "      <td>Super Mario Bros.</td>\n",
       "      <td>NES</td>\n",
       "      <td>1985.00</td>\n",
       "      <td>Platform</td>\n",
       "      <td>29.08</td>\n",
       "      <td>3.58</td>\n",
       "      <td>6.81</td>\n",
       "      <td>0.77</td>\n",
       "      <td>NaN</td>\n",
       "      <td>NaN</td>\n",
       "      <td>NaN</td>\n",
       "    </tr>\n",
       "    <tr>\n",
       "      <th>2</th>\n",
       "      <td>Mario Kart Wii</td>\n",
       "      <td>Wii</td>\n",
       "      <td>2008.00</td>\n",
       "      <td>Racing</td>\n",
       "      <td>15.68</td>\n",
       "      <td>12.76</td>\n",
       "      <td>3.79</td>\n",
       "      <td>3.29</td>\n",
       "      <td>82.00</td>\n",
       "      <td>8.3</td>\n",
       "      <td>E</td>\n",
       "    </tr>\n",
       "    <tr>\n",
       "      <th>3</th>\n",
       "      <td>Wii Sports Resort</td>\n",
       "      <td>Wii</td>\n",
       "      <td>2009.00</td>\n",
       "      <td>Sports</td>\n",
       "      <td>15.61</td>\n",
       "      <td>10.93</td>\n",
       "      <td>3.28</td>\n",
       "      <td>2.95</td>\n",
       "      <td>80.00</td>\n",
       "      <td>8</td>\n",
       "      <td>E</td>\n",
       "    </tr>\n",
       "    <tr>\n",
       "      <th>4</th>\n",
       "      <td>Pokemon Red/Pokemon Blue</td>\n",
       "      <td>GB</td>\n",
       "      <td>1996.00</td>\n",
       "      <td>Role-Playing</td>\n",
       "      <td>11.27</td>\n",
       "      <td>8.89</td>\n",
       "      <td>10.22</td>\n",
       "      <td>1.00</td>\n",
       "      <td>NaN</td>\n",
       "      <td>NaN</td>\n",
       "      <td>NaN</td>\n",
       "    </tr>\n",
       "    <tr>\n",
       "      <th>5</th>\n",
       "      <td>Tetris</td>\n",
       "      <td>GB</td>\n",
       "      <td>1989.00</td>\n",
       "      <td>Puzzle</td>\n",
       "      <td>23.20</td>\n",
       "      <td>2.26</td>\n",
       "      <td>4.22</td>\n",
       "      <td>0.58</td>\n",
       "      <td>NaN</td>\n",
       "      <td>NaN</td>\n",
       "      <td>NaN</td>\n",
       "    </tr>\n",
       "    <tr>\n",
       "      <th>6</th>\n",
       "      <td>New Super Mario Bros.</td>\n",
       "      <td>DS</td>\n",
       "      <td>2006.00</td>\n",
       "      <td>Platform</td>\n",
       "      <td>11.28</td>\n",
       "      <td>9.14</td>\n",
       "      <td>6.50</td>\n",
       "      <td>2.88</td>\n",
       "      <td>89.00</td>\n",
       "      <td>8.5</td>\n",
       "      <td>E</td>\n",
       "    </tr>\n",
       "    <tr>\n",
       "      <th>7</th>\n",
       "      <td>Wii Play</td>\n",
       "      <td>Wii</td>\n",
       "      <td>2006.00</td>\n",
       "      <td>Misc</td>\n",
       "      <td>13.96</td>\n",
       "      <td>9.18</td>\n",
       "      <td>2.93</td>\n",
       "      <td>2.84</td>\n",
       "      <td>58.00</td>\n",
       "      <td>6.6</td>\n",
       "      <td>E</td>\n",
       "    </tr>\n",
       "    <tr>\n",
       "      <th>8</th>\n",
       "      <td>New Super Mario Bros. Wii</td>\n",
       "      <td>Wii</td>\n",
       "      <td>2009.00</td>\n",
       "      <td>Platform</td>\n",
       "      <td>14.44</td>\n",
       "      <td>6.94</td>\n",
       "      <td>4.70</td>\n",
       "      <td>2.24</td>\n",
       "      <td>87.00</td>\n",
       "      <td>8.4</td>\n",
       "      <td>E</td>\n",
       "    </tr>\n",
       "    <tr>\n",
       "      <th>9</th>\n",
       "      <td>Duck Hunt</td>\n",
       "      <td>NES</td>\n",
       "      <td>1984.00</td>\n",
       "      <td>Shooter</td>\n",
       "      <td>26.93</td>\n",
       "      <td>0.63</td>\n",
       "      <td>0.28</td>\n",
       "      <td>0.47</td>\n",
       "      <td>NaN</td>\n",
       "      <td>NaN</td>\n",
       "      <td>NaN</td>\n",
       "    </tr>\n",
       "  </tbody>\n",
       "</table>\n",
       "</div>"
      ],
      "text/plain": [
       "                        Name Platform  Year_of_Release         Genre  \\\n",
       "0                 Wii Sports      Wii          2006.00        Sports   \n",
       "1          Super Mario Bros.      NES          1985.00      Platform   \n",
       "2             Mario Kart Wii      Wii          2008.00        Racing   \n",
       "3          Wii Sports Resort      Wii          2009.00        Sports   \n",
       "4   Pokemon Red/Pokemon Blue       GB          1996.00  Role-Playing   \n",
       "5                     Tetris       GB          1989.00        Puzzle   \n",
       "6      New Super Mario Bros.       DS          2006.00      Platform   \n",
       "7                   Wii Play      Wii          2006.00          Misc   \n",
       "8  New Super Mario Bros. Wii      Wii          2009.00      Platform   \n",
       "9                  Duck Hunt      NES          1984.00       Shooter   \n",
       "\n",
       "   NA_sales  EU_sales  JP_sales  Other_sales  Critic_Score User_Score Rating  \n",
       "0     41.36     28.96      3.77         8.45         76.00          8      E  \n",
       "1     29.08      3.58      6.81         0.77           NaN        NaN    NaN  \n",
       "2     15.68     12.76      3.79         3.29         82.00        8.3      E  \n",
       "3     15.61     10.93      3.28         2.95         80.00          8      E  \n",
       "4     11.27      8.89     10.22         1.00           NaN        NaN    NaN  \n",
       "5     23.20      2.26      4.22         0.58           NaN        NaN    NaN  \n",
       "6     11.28      9.14      6.50         2.88         89.00        8.5      E  \n",
       "7     13.96      9.18      2.93         2.84         58.00        6.6      E  \n",
       "8     14.44      6.94      4.70         2.24         87.00        8.4      E  \n",
       "9     26.93      0.63      0.28         0.47           NaN        NaN    NaN  "
      ]
     },
     "execution_count": 3,
     "metadata": {},
     "output_type": "execute_result"
    }
   ],
   "source": [
    "data.head(10)"
   ]
  },
  {
   "cell_type": "markdown",
   "metadata": {},
   "source": [
    "Выведe основную информацию о датафрейме."
   ]
  },
  {
   "cell_type": "code",
   "execution_count": 4,
   "metadata": {},
   "outputs": [
    {
     "name": "stdout",
     "output_type": "stream",
     "text": [
      "<class 'pandas.core.frame.DataFrame'>\n",
      "RangeIndex: 16715 entries, 0 to 16714\n",
      "Data columns (total 11 columns):\n",
      " #   Column           Non-Null Count  Dtype  \n",
      "---  ------           --------------  -----  \n",
      " 0   Name             16713 non-null  object \n",
      " 1   Platform         16715 non-null  object \n",
      " 2   Year_of_Release  16446 non-null  float64\n",
      " 3   Genre            16713 non-null  object \n",
      " 4   NA_sales         16715 non-null  float64\n",
      " 5   EU_sales         16715 non-null  float64\n",
      " 6   JP_sales         16715 non-null  float64\n",
      " 7   Other_sales      16715 non-null  float64\n",
      " 8   Critic_Score     8137 non-null   float64\n",
      " 9   User_Score       10014 non-null  object \n",
      " 10  Rating           9949 non-null   object \n",
      "dtypes: float64(6), object(5)\n",
      "memory usage: 1.4+ MB\n"
     ]
    }
   ],
   "source": [
    "data.info()"
   ]
  },
  {
   "cell_type": "markdown",
   "metadata": {},
   "source": [
    "В таблице 11 столбцов и 16715 строки: \n",
    "- 6 столбцов - тип данных float;\n",
    "- 5 столбцов - тип данных object.\n",
    "\n",
    "1. Названия столбцов необходимо привести к нижнему регистру.\n",
    "\n",
    "2. У столбца `User_Score` тип данных object , когда в нем записаны числа, с этим надо будет поработать и изменить тип данных. В столбце `Year_of_Release` записан год выпуска с типом данных float, хотя информация соответствует типу данных datetime, поэтому изменю тип данных в этом столбце. Тип данных остальных столбцов вполне соответствует действительности. \n",
    "\n",
    "3. Видно, что во многих столбцах есть пропуски данных, причем где то пропущено всего несколько значений, а где - то несколько тысяча пропусков, с ними буду работать дальше. \n",
    "\n",
    "Согласно документации к данным:\n",
    "Описание данных\n",
    "* `Name` — название игры\n",
    "* `Platform` — платформа\n",
    "* `Year_of_Release` — год выпуска\n",
    "* `Genre` — жанр игры\n",
    "* `NA_sales` — продажи в Северной Америке (миллионы проданных копий)\n",
    "* `EU_sales` — продажи в Европе (миллионы проданных копий)\n",
    "* `JP_sales` — продажи в Японии (миллионы проданных копий)\n",
    "* `Other_sales` — продажи в других странах (миллионы проданных копий)\n",
    "* `Critic_Score` — оценка критиков (максимум 100)\n",
    "* `User_Score` — оценка пользователей (максимум 10)\n",
    "* `Rating` — рейтинг от организации ESRB (англ. Entertainment Software Rating Board). Эта ассоциация определяет рейтинг компьютерных игр и присваивает им подходящую возрастную категорию.\n",
    "\n",
    "Построю общую гистограмму для всех числовых столбцов таблицы."
   ]
  },
  {
   "cell_type": "code",
   "execution_count": 5,
   "metadata": {},
   "outputs": [
    {
     "data": {
      "image/png": "[encoded data removed]",
      "text/plain": [
       "<Figure size 576x576 with 6 Axes>"
      ]
     },
     "metadata": {
      "needs_background": "light"
     },
     "output_type": "display_data"
    }
   ],
   "source": [
    "data.hist(figsize=(8, 8));"
   ]
  },
  {
   "cell_type": "markdown",
   "metadata": {},
   "source": [
    "В столбцах с продажами много околонулевых или нулевых значений, хотя пропусков в этих данных нет, с этим следует разобраться. Остальные столбцы следует рассмотреть более детально.\n",
    "\n",
    "### Предобработка данных\n",
    "\n",
    "#### Переименование столбцов"
   ]
  },
  {
   "cell_type": "code",
   "execution_count": 6,
   "metadata": {},
   "outputs": [],
   "source": [
    "data = data.rename(str.lower, axis='columns')"
   ]
  },
  {
   "cell_type": "code",
   "execution_count": 7,
   "metadata": {},
   "outputs": [
    {
     "data": {
      "text/html": [
       "<div>\n",
       "<style scoped>\n",
       "    .dataframe tbody tr th:only-of-type {\n",
       "        vertical-align: middle;\n",
       "    }\n",
       "\n",
       "    .dataframe tbody tr th {\n",
       "        vertical-align: top;\n",
       "    }\n",
       "\n",
       "    .dataframe thead th {\n",
       "        text-align: right;\n",
       "    }\n",
       "</style>\n",
       "<table border=\"1\" class=\"dataframe\">\n",
       "  <thead>\n",
       "    <tr style=\"text-align: right;\">\n",
       "      <th></th>\n",
       "      <th>name</th>\n",
       "      <th>platform</th>\n",
       "      <th>year_of_release</th>\n",
       "      <th>genre</th>\n",
       "      <th>na_sales</th>\n",
       "      <th>eu_sales</th>\n",
       "      <th>jp_sales</th>\n",
       "      <th>other_sales</th>\n",
       "      <th>critic_score</th>\n",
       "      <th>user_score</th>\n",
       "      <th>rating</th>\n",
       "    </tr>\n",
       "  </thead>\n",
       "  <tbody>\n",
       "    <tr>\n",
       "      <th>0</th>\n",
       "      <td>Wii Sports</td>\n",
       "      <td>Wii</td>\n",
       "      <td>2006.00</td>\n",
       "      <td>Sports</td>\n",
       "      <td>41.36</td>\n",
       "      <td>28.96</td>\n",
       "      <td>3.77</td>\n",
       "      <td>8.45</td>\n",
       "      <td>76.00</td>\n",
       "      <td>8</td>\n",
       "      <td>E</td>\n",
       "    </tr>\n",
       "    <tr>\n",
       "      <th>1</th>\n",
       "      <td>Super Mario Bros.</td>\n",
       "      <td>NES</td>\n",
       "      <td>1985.00</td>\n",
       "      <td>Platform</td>\n",
       "      <td>29.08</td>\n",
       "      <td>3.58</td>\n",
       "      <td>6.81</td>\n",
       "      <td>0.77</td>\n",
       "      <td>NaN</td>\n",
       "      <td>NaN</td>\n",
       "      <td>NaN</td>\n",
       "    </tr>\n",
       "    <tr>\n",
       "      <th>2</th>\n",
       "      <td>Mario Kart Wii</td>\n",
       "      <td>Wii</td>\n",
       "      <td>2008.00</td>\n",
       "      <td>Racing</td>\n",
       "      <td>15.68</td>\n",
       "      <td>12.76</td>\n",
       "      <td>3.79</td>\n",
       "      <td>3.29</td>\n",
       "      <td>82.00</td>\n",
       "      <td>8.3</td>\n",
       "      <td>E</td>\n",
       "    </tr>\n",
       "    <tr>\n",
       "      <th>3</th>\n",
       "      <td>Wii Sports Resort</td>\n",
       "      <td>Wii</td>\n",
       "      <td>2009.00</td>\n",
       "      <td>Sports</td>\n",
       "      <td>15.61</td>\n",
       "      <td>10.93</td>\n",
       "      <td>3.28</td>\n",
       "      <td>2.95</td>\n",
       "      <td>80.00</td>\n",
       "      <td>8</td>\n",
       "      <td>E</td>\n",
       "    </tr>\n",
       "    <tr>\n",
       "      <th>4</th>\n",
       "      <td>Pokemon Red/Pokemon Blue</td>\n",
       "      <td>GB</td>\n",
       "      <td>1996.00</td>\n",
       "      <td>Role-Playing</td>\n",
       "      <td>11.27</td>\n",
       "      <td>8.89</td>\n",
       "      <td>10.22</td>\n",
       "      <td>1.00</td>\n",
       "      <td>NaN</td>\n",
       "      <td>NaN</td>\n",
       "      <td>NaN</td>\n",
       "    </tr>\n",
       "  </tbody>\n",
       "</table>\n",
       "</div>"
      ],
      "text/plain": [
       "                       name platform  year_of_release         genre  na_sales  \\\n",
       "0                Wii Sports      Wii          2006.00        Sports     41.36   \n",
       "1         Super Mario Bros.      NES          1985.00      Platform     29.08   \n",
       "2            Mario Kart Wii      Wii          2008.00        Racing     15.68   \n",
       "3         Wii Sports Resort      Wii          2009.00        Sports     15.61   \n",
       "4  Pokemon Red/Pokemon Blue       GB          1996.00  Role-Playing     11.27   \n",
       "\n",
       "   eu_sales  jp_sales  other_sales  critic_score user_score rating  \n",
       "0     28.96      3.77         8.45         76.00          8      E  \n",
       "1      3.58      6.81         0.77           NaN        NaN    NaN  \n",
       "2     12.76      3.79         3.29         82.00        8.3      E  \n",
       "3     10.93      3.28         2.95         80.00          8      E  \n",
       "4      8.89     10.22         1.00           NaN        NaN    NaN  "
      ]
     },
     "execution_count": 7,
     "metadata": {},
     "output_type": "execute_result"
    }
   ],
   "source": [
    "# проверка, как изменились названия столбцов\n",
    "data.head()"
   ]
  },
  {
   "cell_type": "markdown",
   "metadata": {},
   "source": [
    "#### Удаление пропусков\n",
    "\n",
    "Выведу долю пропущенных значений для каждого столбца. Так мы увидим, что можно отбросить, а с чем надо работать. "
   ]
  },
  {
   "cell_type": "code",
   "execution_count": 8,
   "metadata": {},
   "outputs": [
    {
     "data": {
      "text/html": [
       "<style  type=\"text/css\" >\n",
       "#T_03de0_row0_col0,#T_03de0_row1_col0,#T_03de0_row3_col0,#T_03de0_row4_col0,#T_03de0_row5_col0,#T_03de0_row6_col0,#T_03de0_row7_col0{\n",
       "            background-color:  #3b4cc0;\n",
       "            color:  #f1f1f1;\n",
       "        }#T_03de0_row2_col0{\n",
       "            background-color:  #445acc;\n",
       "            color:  #f1f1f1;\n",
       "        }#T_03de0_row8_col0{\n",
       "            background-color:  #b40426;\n",
       "            color:  #f1f1f1;\n",
       "        }#T_03de0_row9_col0{\n",
       "            background-color:  #f18d6f;\n",
       "            color:  #000000;\n",
       "        }#T_03de0_row10_col0{\n",
       "            background-color:  #f08a6c;\n",
       "            color:  #000000;\n",
       "        }</style><table id=\"T_03de0_\" ><thead>    <tr>        <th class=\"blank level0\" ></th>        <th class=\"col_heading level0 col0\" >0</th>    </tr></thead><tbody>\n",
       "                <tr>\n",
       "                        <th id=\"T_03de0_level0_row0\" class=\"row_heading level0 row0\" >name</th>\n",
       "                        <td id=\"T_03de0_row0_col0\" class=\"data row0 col0\" >0.01</td>\n",
       "            </tr>\n",
       "            <tr>\n",
       "                        <th id=\"T_03de0_level0_row1\" class=\"row_heading level0 row1\" >platform</th>\n",
       "                        <td id=\"T_03de0_row1_col0\" class=\"data row1 col0\" >0.00</td>\n",
       "            </tr>\n",
       "            <tr>\n",
       "                        <th id=\"T_03de0_level0_row2\" class=\"row_heading level0 row2\" >year_of_release</th>\n",
       "                        <td id=\"T_03de0_row2_col0\" class=\"data row2 col0\" >1.61</td>\n",
       "            </tr>\n",
       "            <tr>\n",
       "                        <th id=\"T_03de0_level0_row3\" class=\"row_heading level0 row3\" >genre</th>\n",
       "                        <td id=\"T_03de0_row3_col0\" class=\"data row3 col0\" >0.01</td>\n",
       "            </tr>\n",
       "            <tr>\n",
       "                        <th id=\"T_03de0_level0_row4\" class=\"row_heading level0 row4\" >na_sales</th>\n",
       "                        <td id=\"T_03de0_row4_col0\" class=\"data row4 col0\" >0.00</td>\n",
       "            </tr>\n",
       "            <tr>\n",
       "                        <th id=\"T_03de0_level0_row5\" class=\"row_heading level0 row5\" >eu_sales</th>\n",
       "                        <td id=\"T_03de0_row5_col0\" class=\"data row5 col0\" >0.00</td>\n",
       "            </tr>\n",
       "            <tr>\n",
       "                        <th id=\"T_03de0_level0_row6\" class=\"row_heading level0 row6\" >jp_sales</th>\n",
       "                        <td id=\"T_03de0_row6_col0\" class=\"data row6 col0\" >0.00</td>\n",
       "            </tr>\n",
       "            <tr>\n",
       "                        <th id=\"T_03de0_level0_row7\" class=\"row_heading level0 row7\" >other_sales</th>\n",
       "                        <td id=\"T_03de0_row7_col0\" class=\"data row7 col0\" >0.00</td>\n",
       "            </tr>\n",
       "            <tr>\n",
       "                        <th id=\"T_03de0_level0_row8\" class=\"row_heading level0 row8\" >critic_score</th>\n",
       "                        <td id=\"T_03de0_row8_col0\" class=\"data row8 col0\" >51.32</td>\n",
       "            </tr>\n",
       "            <tr>\n",
       "                        <th id=\"T_03de0_level0_row9\" class=\"row_heading level0 row9\" >user_score</th>\n",
       "                        <td id=\"T_03de0_row9_col0\" class=\"data row9 col0\" >40.09</td>\n",
       "            </tr>\n",
       "            <tr>\n",
       "                        <th id=\"T_03de0_level0_row10\" class=\"row_heading level0 row10\" >rating</th>\n",
       "                        <td id=\"T_03de0_row10_col0\" class=\"data row10 col0\" >40.48</td>\n",
       "            </tr>\n",
       "    </tbody></table>"
      ],
      "text/plain": [
       "<pandas.io.formats.style.Styler at 0x7f179c85b190>"
      ]
     },
     "execution_count": 8,
     "metadata": {},
     "output_type": "execute_result"
    }
   ],
   "source": [
    "pd.DataFrame(data.isna().mean()*100).style.set_precision(2).background_gradient('coolwarm')"
   ]
  },
  {
   "cell_type": "markdown",
   "metadata": {},
   "source": [
    "В столбцах `name` и `genre` пропущено менее 1% данных. В столбце `year_of_release` пропущено менее 2% данных. Строки с пропусками можно удалить, тогда в датафрейме сохранится достаточное количество информации.\n",
    "\n",
    "В столбце `user_score` и `rating` пропущено примерно 41% данных, а в столбце `critic_score` - 51%. Изучу по отдельности каждый столбец с пропусками.\n",
    "\n",
    "В столбце `year_of_release` удалю строки с пропусками."
   ]
  },
  {
   "cell_type": "code",
   "execution_count": 9,
   "metadata": {},
   "outputs": [],
   "source": [
    "data = data.dropna(subset=['year_of_release', 'name', 'genre'])"
   ]
  },
  {
   "cell_type": "markdown",
   "metadata": {},
   "source": [
    "Рассмотрю уникальные значения в столбце `user_score`."
   ]
  },
  {
   "cell_type": "code",
   "execution_count": 10,
   "metadata": {},
   "outputs": [
    {
     "data": {
      "text/plain": [
       "array(['8', nan, '8.3', '8.5', '6.6', '8.4', '8.6', '7.7', '6.3', '7.4',\n",
       "       '8.2', '9', '7.9', '8.1', '8.7', '7.1', '3.4', '5.3', '4.8', '3.2',\n",
       "       '8.9', '6.4', '7.8', '7.5', '2.6', '7.2', '9.2', '7', '7.3', '4.3',\n",
       "       '7.6', '5.7', '5', '9.1', '6.5', 'tbd', '8.8', '6.9', '9.4', '6.8',\n",
       "       '6.1', '6.7', '5.4', '4', '4.9', '4.5', '9.3', '6.2', '4.2', '6',\n",
       "       '3.7', '4.1', '5.8', '5.6', '5.5', '4.4', '4.6', '5.9', '3.9',\n",
       "       '3.1', '2.9', '5.2', '3.3', '4.7', '5.1', '3.5', '2.5', '1.9', '3',\n",
       "       '2.7', '2.2', '2', '9.5', '2.1', '3.6', '2.8', '1.8', '3.8', '0',\n",
       "       '1.6', '9.6', '2.4', '1.7', '1.1', '0.3', '1.5', '0.7', '1.2',\n",
       "       '2.3', '0.5', '1.3', '0.2', '0.6', '1.4', '0.9', '1', '9.7'],\n",
       "      dtype=object)"
      ]
     },
     "execution_count": 10,
     "metadata": {},
     "output_type": "execute_result"
    }
   ],
   "source": [
    "data['user_score'].unique()"
   ]
  },
  {
   "cell_type": "markdown",
   "metadata": {},
   "source": [
    "В столбце `user_score` кроме пропусков видно странное значение 'tbd', вероятно, так записано отсутствие информации. Визуализирую количество уникальных значений и построю столбиковую диаграмму."
   ]
  },
  {
   "cell_type": "code",
   "execution_count": 11,
   "metadata": {},
   "outputs": [
    {
     "data": {
      "image/png": "[encoded data removed]",
      "text/plain": [
       "<Figure size 1080x360 with 1 Axes>"
      ]
     },
     "metadata": {
      "needs_background": "light"
     },
     "output_type": "display_data"
    }
   ],
   "source": [
    "data['user_score'].value_counts().plot(kind='bar', figsize=(15, 5));"
   ]
  },
  {
   "cell_type": "markdown",
   "metadata": {},
   "source": [
    "Значений 'tbd' много, а также вероятно, что таким образом записано отсутствие информации. Раз информации нет, то заменю 'tbd' на пустые строки. Сами пустые строки удалять или заполнять не буду. Удаление приведет к потере большого объема данных, а заполнение пропусков может привести к искажению информации. "
   ]
  },
  {
   "cell_type": "code",
   "execution_count": 12,
   "metadata": {},
   "outputs": [],
   "source": [
    "data['user_score'] = data['user_score'].replace('tbd', np.nan)"
   ]
  },
  {
   "cell_type": "code",
   "execution_count": 13,
   "metadata": {},
   "outputs": [
    {
     "data": {
      "text/plain": [
       "array(['8', nan, '8.3', '8.5', '6.6', '8.4', '8.6', '7.7', '6.3', '7.4',\n",
       "       '8.2', '9', '7.9', '8.1', '8.7', '7.1', '3.4', '5.3', '4.8', '3.2',\n",
       "       '8.9', '6.4', '7.8', '7.5', '2.6', '7.2', '9.2', '7', '7.3', '4.3',\n",
       "       '7.6', '5.7', '5', '9.1', '6.5', '8.8', '6.9', '9.4', '6.8', '6.1',\n",
       "       '6.7', '5.4', '4', '4.9', '4.5', '9.3', '6.2', '4.2', '6', '3.7',\n",
       "       '4.1', '5.8', '5.6', '5.5', '4.4', '4.6', '5.9', '3.9', '3.1',\n",
       "       '2.9', '5.2', '3.3', '4.7', '5.1', '3.5', '2.5', '1.9', '3', '2.7',\n",
       "       '2.2', '2', '9.5', '2.1', '3.6', '2.8', '1.8', '3.8', '0', '1.6',\n",
       "       '9.6', '2.4', '1.7', '1.1', '0.3', '1.5', '0.7', '1.2', '2.3',\n",
       "       '0.5', '1.3', '0.2', '0.6', '1.4', '0.9', '1', '9.7'], dtype=object)"
      ]
     },
     "execution_count": 13,
     "metadata": {},
     "output_type": "execute_result"
    }
   ],
   "source": [
    "# проверю уникальные значения\n",
    "\n",
    "data['user_score'].unique()"
   ]
  },
  {
   "cell_type": "markdown",
   "metadata": {},
   "source": [
    "Замена прошла успешно.\n",
    "\n",
    "Далее обработаю пропуски в столбце `critic_score`. Выведу еще раз долю пропусков."
   ]
  },
  {
   "cell_type": "code",
   "execution_count": 14,
   "metadata": {},
   "outputs": [
    {
     "data": {
      "text/html": [
       "<style  type=\"text/css\" >\n",
       "#T_9f40a_row0_col0,#T_9f40a_row1_col0,#T_9f40a_row2_col0,#T_9f40a_row3_col0,#T_9f40a_row4_col0,#T_9f40a_row5_col0,#T_9f40a_row6_col0,#T_9f40a_row7_col0{\n",
       "            background-color:  #3b4cc0;\n",
       "            color:  #f1f1f1;\n",
       "        }#T_9f40a_row8_col0{\n",
       "            background-color:  #c83836;\n",
       "            color:  #f1f1f1;\n",
       "        }#T_9f40a_row9_col0{\n",
       "            background-color:  #b40426;\n",
       "            color:  #f1f1f1;\n",
       "        }#T_9f40a_row10_col0{\n",
       "            background-color:  #f59c7d;\n",
       "            color:  #000000;\n",
       "        }</style><table id=\"T_9f40a_\" ><thead>    <tr>        <th class=\"blank level0\" ></th>        <th class=\"col_heading level0 col0\" >0</th>    </tr></thead><tbody>\n",
       "                <tr>\n",
       "                        <th id=\"T_9f40a_level0_row0\" class=\"row_heading level0 row0\" >name</th>\n",
       "                        <td id=\"T_9f40a_row0_col0\" class=\"data row0 col0\" >0.00</td>\n",
       "            </tr>\n",
       "            <tr>\n",
       "                        <th id=\"T_9f40a_level0_row1\" class=\"row_heading level0 row1\" >platform</th>\n",
       "                        <td id=\"T_9f40a_row1_col0\" class=\"data row1 col0\" >0.00</td>\n",
       "            </tr>\n",
       "            <tr>\n",
       "                        <th id=\"T_9f40a_level0_row2\" class=\"row_heading level0 row2\" >year_of_release</th>\n",
       "                        <td id=\"T_9f40a_row2_col0\" class=\"data row2 col0\" >0.00</td>\n",
       "            </tr>\n",
       "            <tr>\n",
       "                        <th id=\"T_9f40a_level0_row3\" class=\"row_heading level0 row3\" >genre</th>\n",
       "                        <td id=\"T_9f40a_row3_col0\" class=\"data row3 col0\" >0.00</td>\n",
       "            </tr>\n",
       "            <tr>\n",
       "                        <th id=\"T_9f40a_level0_row4\" class=\"row_heading level0 row4\" >na_sales</th>\n",
       "                        <td id=\"T_9f40a_row4_col0\" class=\"data row4 col0\" >0.00</td>\n",
       "            </tr>\n",
       "            <tr>\n",
       "                        <th id=\"T_9f40a_level0_row5\" class=\"row_heading level0 row5\" >eu_sales</th>\n",
       "                        <td id=\"T_9f40a_row5_col0\" class=\"data row5 col0\" >0.00</td>\n",
       "            </tr>\n",
       "            <tr>\n",
       "                        <th id=\"T_9f40a_level0_row6\" class=\"row_heading level0 row6\" >jp_sales</th>\n",
       "                        <td id=\"T_9f40a_row6_col0\" class=\"data row6 col0\" >0.00</td>\n",
       "            </tr>\n",
       "            <tr>\n",
       "                        <th id=\"T_9f40a_level0_row7\" class=\"row_heading level0 row7\" >other_sales</th>\n",
       "                        <td id=\"T_9f40a_row7_col0\" class=\"data row7 col0\" >0.00</td>\n",
       "            </tr>\n",
       "            <tr>\n",
       "                        <th id=\"T_9f40a_level0_row8\" class=\"row_heading level0 row8\" >critic_score</th>\n",
       "                        <td id=\"T_9f40a_row8_col0\" class=\"data row8 col0\" >51.45</td>\n",
       "            </tr>\n",
       "            <tr>\n",
       "                        <th id=\"T_9f40a_level0_row9\" class=\"row_heading level0 row9\" >user_score</th>\n",
       "                        <td id=\"T_9f40a_row9_col0\" class=\"data row9 col0\" >54.62</td>\n",
       "            </tr>\n",
       "            <tr>\n",
       "                        <th id=\"T_9f40a_level0_row10\" class=\"row_heading level0 row10\" >rating</th>\n",
       "                        <td id=\"T_9f40a_row10_col0\" class=\"data row10 col0\" >40.60</td>\n",
       "            </tr>\n",
       "    </tbody></table>"
      ],
      "text/plain": [
       "<pandas.io.formats.style.Styler at 0x7f179c70fbb0>"
      ]
     },
     "execution_count": 14,
     "metadata": {},
     "output_type": "execute_result"
    }
   ],
   "source": [
    "pd.DataFrame(data.isna().mean()*100).style.set_precision(2).background_gradient('coolwarm')"
   ]
  },
  {
   "cell_type": "markdown",
   "metadata": {},
   "source": [
    "В целом в столбце `critic_score` пропущено почти половина данных. Удалять такие строки точно нельзя. Можно заполнить медианным значением в зависимости от како-то параметра, например, жанра или названия игры/платформы, но вероятно тогда исказятся результаты, что скажется на дальнейшем анализе. Поэтому просто оставлю строки пустыми.\n",
    "\n",
    "Далее обработаю пропуски в столбце `rating`. Выведу уникальные значения."
   ]
  },
  {
   "cell_type": "code",
   "execution_count": 15,
   "metadata": {},
   "outputs": [
    {
     "data": {
      "text/plain": [
       "array(['E', nan, 'M', 'T', 'E10+', 'K-A', 'AO', 'EC', 'RP'], dtype=object)"
      ]
     },
     "execution_count": 15,
     "metadata": {},
     "output_type": "execute_result"
    }
   ],
   "source": [
    "data['rating'].unique()"
   ]
  },
  {
   "cell_type": "markdown",
   "metadata": {},
   "source": [
    "Всего выделено 8 категорий рейтинга. Так как есть пропуски в столбце рейтинга, то выведу первые 15 строк и изучу их."
   ]
  },
  {
   "cell_type": "code",
   "execution_count": 16,
   "metadata": {},
   "outputs": [
    {
     "data": {
      "text/html": [
       "<div>\n",
       "<style scoped>\n",
       "    .dataframe tbody tr th:only-of-type {\n",
       "        vertical-align: middle;\n",
       "    }\n",
       "\n",
       "    .dataframe tbody tr th {\n",
       "        vertical-align: top;\n",
       "    }\n",
       "\n",
       "    .dataframe thead th {\n",
       "        text-align: right;\n",
       "    }\n",
       "</style>\n",
       "<table border=\"1\" class=\"dataframe\">\n",
       "  <thead>\n",
       "    <tr style=\"text-align: right;\">\n",
       "      <th></th>\n",
       "      <th>name</th>\n",
       "      <th>platform</th>\n",
       "      <th>year_of_release</th>\n",
       "      <th>genre</th>\n",
       "      <th>na_sales</th>\n",
       "      <th>eu_sales</th>\n",
       "      <th>jp_sales</th>\n",
       "      <th>other_sales</th>\n",
       "      <th>critic_score</th>\n",
       "      <th>user_score</th>\n",
       "      <th>rating</th>\n",
       "    </tr>\n",
       "  </thead>\n",
       "  <tbody>\n",
       "    <tr>\n",
       "      <th>1</th>\n",
       "      <td>Super Mario Bros.</td>\n",
       "      <td>NES</td>\n",
       "      <td>1985.00</td>\n",
       "      <td>Platform</td>\n",
       "      <td>29.08</td>\n",
       "      <td>3.58</td>\n",
       "      <td>6.81</td>\n",
       "      <td>0.77</td>\n",
       "      <td>NaN</td>\n",
       "      <td>NaN</td>\n",
       "      <td>NaN</td>\n",
       "    </tr>\n",
       "    <tr>\n",
       "      <th>4</th>\n",
       "      <td>Pokemon Red/Pokemon Blue</td>\n",
       "      <td>GB</td>\n",
       "      <td>1996.00</td>\n",
       "      <td>Role-Playing</td>\n",
       "      <td>11.27</td>\n",
       "      <td>8.89</td>\n",
       "      <td>10.22</td>\n",
       "      <td>1.00</td>\n",
       "      <td>NaN</td>\n",
       "      <td>NaN</td>\n",
       "      <td>NaN</td>\n",
       "    </tr>\n",
       "    <tr>\n",
       "      <th>5</th>\n",
       "      <td>Tetris</td>\n",
       "      <td>GB</td>\n",
       "      <td>1989.00</td>\n",
       "      <td>Puzzle</td>\n",
       "      <td>23.20</td>\n",
       "      <td>2.26</td>\n",
       "      <td>4.22</td>\n",
       "      <td>0.58</td>\n",
       "      <td>NaN</td>\n",
       "      <td>NaN</td>\n",
       "      <td>NaN</td>\n",
       "    </tr>\n",
       "    <tr>\n",
       "      <th>9</th>\n",
       "      <td>Duck Hunt</td>\n",
       "      <td>NES</td>\n",
       "      <td>1984.00</td>\n",
       "      <td>Shooter</td>\n",
       "      <td>26.93</td>\n",
       "      <td>0.63</td>\n",
       "      <td>0.28</td>\n",
       "      <td>0.47</td>\n",
       "      <td>NaN</td>\n",
       "      <td>NaN</td>\n",
       "      <td>NaN</td>\n",
       "    </tr>\n",
       "    <tr>\n",
       "      <th>10</th>\n",
       "      <td>Nintendogs</td>\n",
       "      <td>DS</td>\n",
       "      <td>2005.00</td>\n",
       "      <td>Simulation</td>\n",
       "      <td>9.05</td>\n",
       "      <td>10.95</td>\n",
       "      <td>1.93</td>\n",
       "      <td>2.74</td>\n",
       "      <td>NaN</td>\n",
       "      <td>NaN</td>\n",
       "      <td>NaN</td>\n",
       "    </tr>\n",
       "    <tr>\n",
       "      <th>12</th>\n",
       "      <td>Pokemon Gold/Pokemon Silver</td>\n",
       "      <td>GB</td>\n",
       "      <td>1999.00</td>\n",
       "      <td>Role-Playing</td>\n",
       "      <td>9.00</td>\n",
       "      <td>6.18</td>\n",
       "      <td>7.20</td>\n",
       "      <td>0.71</td>\n",
       "      <td>NaN</td>\n",
       "      <td>NaN</td>\n",
       "      <td>NaN</td>\n",
       "    </tr>\n",
       "    <tr>\n",
       "      <th>18</th>\n",
       "      <td>Super Mario World</td>\n",
       "      <td>SNES</td>\n",
       "      <td>1990.00</td>\n",
       "      <td>Platform</td>\n",
       "      <td>12.78</td>\n",
       "      <td>3.75</td>\n",
       "      <td>3.54</td>\n",
       "      <td>0.55</td>\n",
       "      <td>NaN</td>\n",
       "      <td>NaN</td>\n",
       "      <td>NaN</td>\n",
       "    </tr>\n",
       "    <tr>\n",
       "      <th>20</th>\n",
       "      <td>Pokemon Diamond/Pokemon Pearl</td>\n",
       "      <td>DS</td>\n",
       "      <td>2006.00</td>\n",
       "      <td>Role-Playing</td>\n",
       "      <td>6.38</td>\n",
       "      <td>4.46</td>\n",
       "      <td>6.04</td>\n",
       "      <td>1.36</td>\n",
       "      <td>NaN</td>\n",
       "      <td>NaN</td>\n",
       "      <td>NaN</td>\n",
       "    </tr>\n",
       "    <tr>\n",
       "      <th>21</th>\n",
       "      <td>Super Mario Land</td>\n",
       "      <td>GB</td>\n",
       "      <td>1989.00</td>\n",
       "      <td>Platform</td>\n",
       "      <td>10.83</td>\n",
       "      <td>2.71</td>\n",
       "      <td>4.18</td>\n",
       "      <td>0.42</td>\n",
       "      <td>NaN</td>\n",
       "      <td>NaN</td>\n",
       "      <td>NaN</td>\n",
       "    </tr>\n",
       "    <tr>\n",
       "      <th>22</th>\n",
       "      <td>Super Mario Bros. 3</td>\n",
       "      <td>NES</td>\n",
       "      <td>1988.00</td>\n",
       "      <td>Platform</td>\n",
       "      <td>9.54</td>\n",
       "      <td>3.44</td>\n",
       "      <td>3.84</td>\n",
       "      <td>0.46</td>\n",
       "      <td>NaN</td>\n",
       "      <td>NaN</td>\n",
       "      <td>NaN</td>\n",
       "    </tr>\n",
       "    <tr>\n",
       "      <th>25</th>\n",
       "      <td>Pokemon Ruby/Pokemon Sapphire</td>\n",
       "      <td>GBA</td>\n",
       "      <td>2002.00</td>\n",
       "      <td>Role-Playing</td>\n",
       "      <td>6.06</td>\n",
       "      <td>3.90</td>\n",
       "      <td>5.38</td>\n",
       "      <td>0.50</td>\n",
       "      <td>NaN</td>\n",
       "      <td>NaN</td>\n",
       "      <td>NaN</td>\n",
       "    </tr>\n",
       "    <tr>\n",
       "      <th>27</th>\n",
       "      <td>Pokemon Black/Pokemon White</td>\n",
       "      <td>DS</td>\n",
       "      <td>2010.00</td>\n",
       "      <td>Role-Playing</td>\n",
       "      <td>5.51</td>\n",
       "      <td>3.17</td>\n",
       "      <td>5.65</td>\n",
       "      <td>0.80</td>\n",
       "      <td>NaN</td>\n",
       "      <td>NaN</td>\n",
       "      <td>NaN</td>\n",
       "    </tr>\n",
       "    <tr>\n",
       "      <th>30</th>\n",
       "      <td>Pokémon Yellow: Special Pikachu Edition</td>\n",
       "      <td>GB</td>\n",
       "      <td>1998.00</td>\n",
       "      <td>Role-Playing</td>\n",
       "      <td>5.89</td>\n",
       "      <td>5.04</td>\n",
       "      <td>3.12</td>\n",
       "      <td>0.59</td>\n",
       "      <td>NaN</td>\n",
       "      <td>NaN</td>\n",
       "      <td>NaN</td>\n",
       "    </tr>\n",
       "    <tr>\n",
       "      <th>31</th>\n",
       "      <td>Call of Duty: Black Ops 3</td>\n",
       "      <td>PS4</td>\n",
       "      <td>2015.00</td>\n",
       "      <td>Shooter</td>\n",
       "      <td>6.03</td>\n",
       "      <td>5.86</td>\n",
       "      <td>0.36</td>\n",
       "      <td>2.38</td>\n",
       "      <td>NaN</td>\n",
       "      <td>NaN</td>\n",
       "      <td>NaN</td>\n",
       "    </tr>\n",
       "    <tr>\n",
       "      <th>33</th>\n",
       "      <td>Pokemon X/Pokemon Y</td>\n",
       "      <td>3DS</td>\n",
       "      <td>2013.00</td>\n",
       "      <td>Role-Playing</td>\n",
       "      <td>5.28</td>\n",
       "      <td>4.19</td>\n",
       "      <td>4.35</td>\n",
       "      <td>0.78</td>\n",
       "      <td>NaN</td>\n",
       "      <td>NaN</td>\n",
       "      <td>NaN</td>\n",
       "    </tr>\n",
       "  </tbody>\n",
       "</table>\n",
       "</div>"
      ],
      "text/plain": [
       "                                       name platform  year_of_release  \\\n",
       "1                         Super Mario Bros.      NES          1985.00   \n",
       "4                  Pokemon Red/Pokemon Blue       GB          1996.00   \n",
       "5                                    Tetris       GB          1989.00   \n",
       "9                                 Duck Hunt      NES          1984.00   \n",
       "10                               Nintendogs       DS          2005.00   \n",
       "12              Pokemon Gold/Pokemon Silver       GB          1999.00   \n",
       "18                        Super Mario World     SNES          1990.00   \n",
       "20            Pokemon Diamond/Pokemon Pearl       DS          2006.00   \n",
       "21                         Super Mario Land       GB          1989.00   \n",
       "22                      Super Mario Bros. 3      NES          1988.00   \n",
       "25            Pokemon Ruby/Pokemon Sapphire      GBA          2002.00   \n",
       "27              Pokemon Black/Pokemon White       DS          2010.00   \n",
       "30  Pokémon Yellow: Special Pikachu Edition       GB          1998.00   \n",
       "31                Call of Duty: Black Ops 3      PS4          2015.00   \n",
       "33                      Pokemon X/Pokemon Y      3DS          2013.00   \n",
       "\n",
       "           genre  na_sales  eu_sales  jp_sales  other_sales  critic_score  \\\n",
       "1       Platform     29.08      3.58      6.81         0.77           NaN   \n",
       "4   Role-Playing     11.27      8.89     10.22         1.00           NaN   \n",
       "5         Puzzle     23.20      2.26      4.22         0.58           NaN   \n",
       "9        Shooter     26.93      0.63      0.28         0.47           NaN   \n",
       "10    Simulation      9.05     10.95      1.93         2.74           NaN   \n",
       "12  Role-Playing      9.00      6.18      7.20         0.71           NaN   \n",
       "18      Platform     12.78      3.75      3.54         0.55           NaN   \n",
       "20  Role-Playing      6.38      4.46      6.04         1.36           NaN   \n",
       "21      Platform     10.83      2.71      4.18         0.42           NaN   \n",
       "22      Platform      9.54      3.44      3.84         0.46           NaN   \n",
       "25  Role-Playing      6.06      3.90      5.38         0.50           NaN   \n",
       "27  Role-Playing      5.51      3.17      5.65         0.80           NaN   \n",
       "30  Role-Playing      5.89      5.04      3.12         0.59           NaN   \n",
       "31       Shooter      6.03      5.86      0.36         2.38           NaN   \n",
       "33  Role-Playing      5.28      4.19      4.35         0.78           NaN   \n",
       "\n",
       "   user_score rating  \n",
       "1         NaN    NaN  \n",
       "4         NaN    NaN  \n",
       "5         NaN    NaN  \n",
       "9         NaN    NaN  \n",
       "10        NaN    NaN  \n",
       "12        NaN    NaN  \n",
       "18        NaN    NaN  \n",
       "20        NaN    NaN  \n",
       "21        NaN    NaN  \n",
       "22        NaN    NaN  \n",
       "25        NaN    NaN  \n",
       "27        NaN    NaN  \n",
       "30        NaN    NaN  \n",
       "31        NaN    NaN  \n",
       "33        NaN    NaN  "
      ]
     },
     "execution_count": 16,
     "metadata": {},
     "output_type": "execute_result"
    }
   ],
   "source": [
    "data.query('rating.isna()').head(15)"
   ]
  },
  {
   "cell_type": "markdown",
   "metadata": {},
   "source": [
    "Значение рейтинга отсутствует у игр разных жанров и выпущенные в разные года. Так как пропущено почти 41% данных, то удалять строки нельзя. Вероятно пропуски связаны с отсутствием рейтинга или его еще не присвоили. Заменю пропуски значением `unknown`"
   ]
  },
  {
   "cell_type": "code",
   "execution_count": 17,
   "metadata": {},
   "outputs": [],
   "source": [
    "data.loc[data['rating'].isna(), 'rating'] = 'unknown'"
   ]
  },
  {
   "cell_type": "markdown",
   "metadata": {},
   "source": [
    "\n",
    "Рейтинг ESRB предназначен для маркировки игр для США и Канады. И логично, что для других регионов он не заполняется, соответственно по заглушке 'unknown' будут выделяться эти регионы."
   ]
  },
  {
   "cell_type": "code",
   "execution_count": 18,
   "metadata": {},
   "outputs": [
    {
     "data": {
      "text/plain": [
       "array(['E', 'unknown', 'M', 'T', 'E10+', 'K-A', 'AO', 'EC', 'RP'],\n",
       "      dtype=object)"
      ]
     },
     "execution_count": 18,
     "metadata": {},
     "output_type": "execute_result"
    }
   ],
   "source": [
    "# проверка уникальных значений\n",
    "\n",
    "data['rating'].unique()"
   ]
  },
  {
   "cell_type": "code",
   "execution_count": 19,
   "metadata": {},
   "outputs": [
    {
     "data": {
      "text/html": [
       "<style  type=\"text/css\" >\n",
       "#T_fb8fd_row0_col0,#T_fb8fd_row1_col0,#T_fb8fd_row2_col0,#T_fb8fd_row3_col0,#T_fb8fd_row4_col0,#T_fb8fd_row5_col0,#T_fb8fd_row6_col0,#T_fb8fd_row7_col0,#T_fb8fd_row10_col0{\n",
       "            background-color:  #3b4cc0;\n",
       "            color:  #f1f1f1;\n",
       "        }#T_fb8fd_row8_col0{\n",
       "            background-color:  #c83836;\n",
       "            color:  #f1f1f1;\n",
       "        }#T_fb8fd_row9_col0{\n",
       "            background-color:  #b40426;\n",
       "            color:  #f1f1f1;\n",
       "        }</style><table id=\"T_fb8fd_\" ><thead>    <tr>        <th class=\"blank level0\" ></th>        <th class=\"col_heading level0 col0\" >0</th>    </tr></thead><tbody>\n",
       "                <tr>\n",
       "                        <th id=\"T_fb8fd_level0_row0\" class=\"row_heading level0 row0\" >name</th>\n",
       "                        <td id=\"T_fb8fd_row0_col0\" class=\"data row0 col0\" >0.00</td>\n",
       "            </tr>\n",
       "            <tr>\n",
       "                        <th id=\"T_fb8fd_level0_row1\" class=\"row_heading level0 row1\" >platform</th>\n",
       "                        <td id=\"T_fb8fd_row1_col0\" class=\"data row1 col0\" >0.00</td>\n",
       "            </tr>\n",
       "            <tr>\n",
       "                        <th id=\"T_fb8fd_level0_row2\" class=\"row_heading level0 row2\" >year_of_release</th>\n",
       "                        <td id=\"T_fb8fd_row2_col0\" class=\"data row2 col0\" >0.00</td>\n",
       "            </tr>\n",
       "            <tr>\n",
       "                        <th id=\"T_fb8fd_level0_row3\" class=\"row_heading level0 row3\" >genre</th>\n",
       "                        <td id=\"T_fb8fd_row3_col0\" class=\"data row3 col0\" >0.00</td>\n",
       "            </tr>\n",
       "            <tr>\n",
       "                        <th id=\"T_fb8fd_level0_row4\" class=\"row_heading level0 row4\" >na_sales</th>\n",
       "                        <td id=\"T_fb8fd_row4_col0\" class=\"data row4 col0\" >0.00</td>\n",
       "            </tr>\n",
       "            <tr>\n",
       "                        <th id=\"T_fb8fd_level0_row5\" class=\"row_heading level0 row5\" >eu_sales</th>\n",
       "                        <td id=\"T_fb8fd_row5_col0\" class=\"data row5 col0\" >0.00</td>\n",
       "            </tr>\n",
       "            <tr>\n",
       "                        <th id=\"T_fb8fd_level0_row6\" class=\"row_heading level0 row6\" >jp_sales</th>\n",
       "                        <td id=\"T_fb8fd_row6_col0\" class=\"data row6 col0\" >0.00</td>\n",
       "            </tr>\n",
       "            <tr>\n",
       "                        <th id=\"T_fb8fd_level0_row7\" class=\"row_heading level0 row7\" >other_sales</th>\n",
       "                        <td id=\"T_fb8fd_row7_col0\" class=\"data row7 col0\" >0.00</td>\n",
       "            </tr>\n",
       "            <tr>\n",
       "                        <th id=\"T_fb8fd_level0_row8\" class=\"row_heading level0 row8\" >critic_score</th>\n",
       "                        <td id=\"T_fb8fd_row8_col0\" class=\"data row8 col0\" >51.45</td>\n",
       "            </tr>\n",
       "            <tr>\n",
       "                        <th id=\"T_fb8fd_level0_row9\" class=\"row_heading level0 row9\" >user_score</th>\n",
       "                        <td id=\"T_fb8fd_row9_col0\" class=\"data row9 col0\" >54.62</td>\n",
       "            </tr>\n",
       "            <tr>\n",
       "                        <th id=\"T_fb8fd_level0_row10\" class=\"row_heading level0 row10\" >rating</th>\n",
       "                        <td id=\"T_fb8fd_row10_col0\" class=\"data row10 col0\" >0.00</td>\n",
       "            </tr>\n",
       "    </tbody></table>"
      ],
      "text/plain": [
       "<pandas.io.formats.style.Styler at 0x7f179c749940>"
      ]
     },
     "execution_count": 19,
     "metadata": {},
     "output_type": "execute_result"
    }
   ],
   "source": [
    "# проверка на налиие пропусков\n",
    "\n",
    "pd.DataFrame(data.isna().mean()*100).style.set_precision(2).background_gradient('coolwarm')"
   ]
  },
  {
   "cell_type": "markdown",
   "metadata": {},
   "source": [
    "Где могла пропуски обработала. Приступаю к следующиему этапу предобработки данных.\n",
    "\n",
    "#### Преобразование типов данных\n",
    "\n",
    "В столбце `year_of_release` заменю тип данных float на int так как год отображается в целых числах. В столбце `user_score` заменю тип данных столбца на float. "
   ]
  },
  {
   "cell_type": "code",
   "execution_count": 20,
   "metadata": {},
   "outputs": [],
   "source": [
    "data['user_score'] = data['user_score'].astype(float)"
   ]
  },
  {
   "cell_type": "code",
   "execution_count": 21,
   "metadata": {},
   "outputs": [],
   "source": [
    "data['year_of_release'] = data['year_of_release'].astype(int)"
   ]
  },
  {
   "cell_type": "markdown",
   "metadata": {},
   "source": [
    "Выведу общую информацию о датафрейме и посмотрю как изменилась информация"
   ]
  },
  {
   "cell_type": "code",
   "execution_count": 22,
   "metadata": {},
   "outputs": [
    {
     "name": "stdout",
     "output_type": "stream",
     "text": [
      "<class 'pandas.core.frame.DataFrame'>\n",
      "Int64Index: 16444 entries, 0 to 16714\n",
      "Data columns (total 11 columns):\n",
      " #   Column           Non-Null Count  Dtype  \n",
      "---  ------           --------------  -----  \n",
      " 0   name             16444 non-null  object \n",
      " 1   platform         16444 non-null  object \n",
      " 2   year_of_release  16444 non-null  int64  \n",
      " 3   genre            16444 non-null  object \n",
      " 4   na_sales         16444 non-null  float64\n",
      " 5   eu_sales         16444 non-null  float64\n",
      " 6   jp_sales         16444 non-null  float64\n",
      " 7   other_sales      16444 non-null  float64\n",
      " 8   critic_score     7983 non-null   float64\n",
      " 9   user_score       7463 non-null   float64\n",
      " 10  rating           16444 non-null  object \n",
      "dtypes: float64(6), int64(1), object(4)\n",
      "memory usage: 1.5+ MB\n"
     ]
    }
   ],
   "source": [
    "data.info()"
   ]
  },
  {
   "cell_type": "markdown",
   "metadata": {},
   "source": [
    "Информация отображается корректно.\n",
    "\n",
    "#### Исследование аномальных значений\n",
    "\n",
    "Выведу описательную статистику столбцов."
   ]
  },
  {
   "cell_type": "code",
   "execution_count": 23,
   "metadata": {
    "scrolled": true
   },
   "outputs": [
    {
     "data": {
      "text/html": [
       "<div>\n",
       "<style scoped>\n",
       "    .dataframe tbody tr th:only-of-type {\n",
       "        vertical-align: middle;\n",
       "    }\n",
       "\n",
       "    .dataframe tbody tr th {\n",
       "        vertical-align: top;\n",
       "    }\n",
       "\n",
       "    .dataframe thead th {\n",
       "        text-align: right;\n",
       "    }\n",
       "</style>\n",
       "<table border=\"1\" class=\"dataframe\">\n",
       "  <thead>\n",
       "    <tr style=\"text-align: right;\">\n",
       "      <th></th>\n",
       "      <th>count</th>\n",
       "      <th>mean</th>\n",
       "      <th>std</th>\n",
       "      <th>min</th>\n",
       "      <th>25%</th>\n",
       "      <th>50%</th>\n",
       "      <th>75%</th>\n",
       "      <th>max</th>\n",
       "    </tr>\n",
       "  </thead>\n",
       "  <tbody>\n",
       "    <tr>\n",
       "      <th>year_of_release</th>\n",
       "      <td>16444.00</td>\n",
       "      <td>2006.49</td>\n",
       "      <td>5.88</td>\n",
       "      <td>1980.00</td>\n",
       "      <td>2003.00</td>\n",
       "      <td>2007.00</td>\n",
       "      <td>2010.00</td>\n",
       "      <td>2016.00</td>\n",
       "    </tr>\n",
       "    <tr>\n",
       "      <th>na_sales</th>\n",
       "      <td>16444.00</td>\n",
       "      <td>0.26</td>\n",
       "      <td>0.82</td>\n",
       "      <td>0.00</td>\n",
       "      <td>0.00</td>\n",
       "      <td>0.08</td>\n",
       "      <td>0.24</td>\n",
       "      <td>41.36</td>\n",
       "    </tr>\n",
       "    <tr>\n",
       "      <th>eu_sales</th>\n",
       "      <td>16444.00</td>\n",
       "      <td>0.15</td>\n",
       "      <td>0.51</td>\n",
       "      <td>0.00</td>\n",
       "      <td>0.00</td>\n",
       "      <td>0.02</td>\n",
       "      <td>0.11</td>\n",
       "      <td>28.96</td>\n",
       "    </tr>\n",
       "    <tr>\n",
       "      <th>jp_sales</th>\n",
       "      <td>16444.00</td>\n",
       "      <td>0.08</td>\n",
       "      <td>0.31</td>\n",
       "      <td>0.00</td>\n",
       "      <td>0.00</td>\n",
       "      <td>0.00</td>\n",
       "      <td>0.04</td>\n",
       "      <td>10.22</td>\n",
       "    </tr>\n",
       "    <tr>\n",
       "      <th>other_sales</th>\n",
       "      <td>16444.00</td>\n",
       "      <td>0.05</td>\n",
       "      <td>0.19</td>\n",
       "      <td>0.00</td>\n",
       "      <td>0.00</td>\n",
       "      <td>0.01</td>\n",
       "      <td>0.03</td>\n",
       "      <td>10.57</td>\n",
       "    </tr>\n",
       "    <tr>\n",
       "      <th>critic_score</th>\n",
       "      <td>7983.00</td>\n",
       "      <td>68.99</td>\n",
       "      <td>13.92</td>\n",
       "      <td>13.00</td>\n",
       "      <td>60.00</td>\n",
       "      <td>71.00</td>\n",
       "      <td>79.00</td>\n",
       "      <td>98.00</td>\n",
       "    </tr>\n",
       "    <tr>\n",
       "      <th>user_score</th>\n",
       "      <td>7463.00</td>\n",
       "      <td>7.13</td>\n",
       "      <td>1.50</td>\n",
       "      <td>0.00</td>\n",
       "      <td>6.40</td>\n",
       "      <td>7.50</td>\n",
       "      <td>8.20</td>\n",
       "      <td>9.70</td>\n",
       "    </tr>\n",
       "  </tbody>\n",
       "</table>\n",
       "</div>"
      ],
      "text/plain": [
       "                   count    mean   std     min     25%     50%     75%     max\n",
       "year_of_release 16444.00 2006.49  5.88 1980.00 2003.00 2007.00 2010.00 2016.00\n",
       "na_sales        16444.00    0.26  0.82    0.00    0.00    0.08    0.24   41.36\n",
       "eu_sales        16444.00    0.15  0.51    0.00    0.00    0.02    0.11   28.96\n",
       "jp_sales        16444.00    0.08  0.31    0.00    0.00    0.00    0.04   10.22\n",
       "other_sales     16444.00    0.05  0.19    0.00    0.00    0.01    0.03   10.57\n",
       "critic_score     7983.00   68.99 13.92   13.00   60.00   71.00   79.00   98.00\n",
       "user_score       7463.00    7.13  1.50    0.00    6.40    7.50    8.20    9.70"
      ]
     },
     "execution_count": 23,
     "metadata": {},
     "output_type": "execute_result"
    }
   ],
   "source": [
    "data.describe().T"
   ]
  },
  {
   "cell_type": "markdown",
   "metadata": {},
   "source": [
    "В целом в данных нет выбросов. В столбце `user_score` минимальное значение -1, однако это флаг, который я создала при обработке пропусков. Стандартное отклонение тоже не наводит на наличие выбросов.\n",
    "\n",
    "#### Исследование дубликатов\n",
    "\n",
    "Сначала проверю наличие явных дубликатов."
   ]
  },
  {
   "cell_type": "code",
   "execution_count": 24,
   "metadata": {},
   "outputs": [
    {
     "data": {
      "text/plain": [
       "0"
      ]
     },
     "execution_count": 24,
     "metadata": {},
     "output_type": "execute_result"
    }
   ],
   "source": [
    "data.duplicated().sum()"
   ]
  },
  {
   "cell_type": "markdown",
   "metadata": {},
   "source": [
    "Явных дубликатов нет, осталось проверить неявные. Они могут быть спрятаны в столбцах `name`, `platform`, `genre`. Сначала выведу уникальные значения для каждого столбца и изучу их."
   ]
  },
  {
   "cell_type": "code",
   "execution_count": 25,
   "metadata": {
    "scrolled": true
   },
   "outputs": [
    {
     "data": {
      "text/plain": [
       "array(['Wii', 'NES', 'GB', 'DS', 'X360', 'PS3', 'PS2', 'SNES', 'GBA',\n",
       "       'PS4', '3DS', 'N64', 'PS', 'XB', 'PC', '2600', 'PSP', 'XOne',\n",
       "       'WiiU', 'GC', 'GEN', 'DC', 'PSV', 'SAT', 'SCD', 'WS', 'NG', 'TG16',\n",
       "       '3DO', 'GG', 'PCFX'], dtype=object)"
      ]
     },
     "execution_count": 25,
     "metadata": {},
     "output_type": "execute_result"
    }
   ],
   "source": [
    "data['platform'].unique()"
   ]
  },
  {
   "cell_type": "code",
   "execution_count": 26,
   "metadata": {},
   "outputs": [
    {
     "data": {
      "text/plain": [
       "array(['Sports', 'Platform', 'Racing', 'Role-Playing', 'Puzzle', 'Misc',\n",
       "       'Shooter', 'Simulation', 'Action', 'Fighting', 'Adventure',\n",
       "       'Strategy'], dtype=object)"
      ]
     },
     "execution_count": 26,
     "metadata": {},
     "output_type": "execute_result"
    }
   ],
   "source": [
    "data['genre'].unique()"
   ]
  },
  {
   "cell_type": "code",
   "execution_count": 27,
   "metadata": {},
   "outputs": [
    {
     "data": {
      "text/plain": [
       "array(['Wii Sports', 'Super Mario Bros.', 'Mario Kart Wii', ...,\n",
       "       'Woody Woodpecker in Crazy Castle 5', 'LMA Manager 2007',\n",
       "       'Haitaka no Psychedelica'], dtype=object)"
      ]
     },
     "execution_count": 27,
     "metadata": {},
     "output_type": "execute_result"
    }
   ],
   "source": [
    "data['name'].unique()"
   ]
  },
  {
   "cell_type": "markdown",
   "metadata": {},
   "source": [
    "В столбцах `platform`, `genre` дубликатов не выявлено. В столбце `name` слишком много уникальных значений. \n",
    "Сначала в столбце `name` приведу все записи к нижнему регистру, затем проверю наличие дубликатов."
   ]
  },
  {
   "cell_type": "code",
   "execution_count": 28,
   "metadata": {},
   "outputs": [],
   "source": [
    "data['name'] = data['name'].str.lower()"
   ]
  },
  {
   "cell_type": "code",
   "execution_count": 29,
   "metadata": {},
   "outputs": [
    {
     "data": {
      "text/plain": [
       "need for speed: most wanted                      12\n",
       "ratatouille                                       9\n",
       "fifa 14                                           9\n",
       "lego marvel super heroes                          9\n",
       "lego the hobbit                                   8\n",
       "fifa 15                                           8\n",
       "terraria                                          8\n",
       "fifa soccer 13                                    8\n",
       "angry birds star wars                             8\n",
       "monopoly                                          8\n",
       "madden nfl 07                                     8\n",
       "lego jurassic world                               8\n",
       "lego star wars ii: the original trilogy           8\n",
       "madden nfl 08                                     8\n",
       "the lego movie videogame                          8\n",
       "cars                                              8\n",
       "lego batman 3: beyond gotham                      8\n",
       "the sims 2                                        7\n",
       "fifa soccer 08                                    7\n",
       "major league baseball 2k11                        7\n",
       "fifa 12                                           7\n",
       "the amazing spider-man 2 (2014)                   7\n",
       "skylanders: superchargers                         7\n",
       "nba jam                                           7\n",
       "lego batman 2: dc super heroes                    7\n",
       "harry potter and the half-blood prince            7\n",
       "lego pirates of the caribbean: the video game     7\n",
       "lego marvel's avengers                            7\n",
       "fifa soccer 11                                    7\n",
       "wall-e                                            7\n",
       "Name: name, dtype: int64"
      ]
     },
     "execution_count": 29,
     "metadata": {},
     "output_type": "execute_result"
    }
   ],
   "source": [
    "data['name'].value_counts().head(30)"
   ]
  },
  {
   "cell_type": "code",
   "execution_count": 30,
   "metadata": {},
   "outputs": [
    {
     "data": {
      "text/plain": [
       "0"
      ]
     },
     "execution_count": 30,
     "metadata": {},
     "output_type": "execute_result"
    }
   ],
   "source": [
    "data.duplicated().sum()"
   ]
  },
  {
   "cell_type": "markdown",
   "metadata": {},
   "source": [
    "Дубликатов в данных не обнаружено\n",
    "\n",
    "#### Посчитаю суммарные продажи во всех регионах и запишите их в отдельный столбец.\n",
    "\n",
    "Создам столбец `total_sales`, в который сохраню суммарные продажи во всех регионах."
   ]
  },
  {
   "cell_type": "code",
   "execution_count": 31,
   "metadata": {},
   "outputs": [],
   "source": [
    "data['total_sales'] = data['na_sales'] + data['eu_sales'] + data['jp_sales'] + data['other_sales'] "
   ]
  },
  {
   "cell_type": "markdown",
   "metadata": {},
   "source": [
    "Выведу первые строки датафрейма и проверю новый столбец."
   ]
  },
  {
   "cell_type": "code",
   "execution_count": 32,
   "metadata": {},
   "outputs": [
    {
     "data": {
      "text/html": [
       "<div>\n",
       "<style scoped>\n",
       "    .dataframe tbody tr th:only-of-type {\n",
       "        vertical-align: middle;\n",
       "    }\n",
       "\n",
       "    .dataframe tbody tr th {\n",
       "        vertical-align: top;\n",
       "    }\n",
       "\n",
       "    .dataframe thead th {\n",
       "        text-align: right;\n",
       "    }\n",
       "</style>\n",
       "<table border=\"1\" class=\"dataframe\">\n",
       "  <thead>\n",
       "    <tr style=\"text-align: right;\">\n",
       "      <th></th>\n",
       "      <th>name</th>\n",
       "      <th>platform</th>\n",
       "      <th>year_of_release</th>\n",
       "      <th>genre</th>\n",
       "      <th>na_sales</th>\n",
       "      <th>eu_sales</th>\n",
       "      <th>jp_sales</th>\n",
       "      <th>other_sales</th>\n",
       "      <th>critic_score</th>\n",
       "      <th>user_score</th>\n",
       "      <th>rating</th>\n",
       "      <th>total_sales</th>\n",
       "    </tr>\n",
       "  </thead>\n",
       "  <tbody>\n",
       "    <tr>\n",
       "      <th>0</th>\n",
       "      <td>wii sports</td>\n",
       "      <td>Wii</td>\n",
       "      <td>2006</td>\n",
       "      <td>Sports</td>\n",
       "      <td>41.36</td>\n",
       "      <td>28.96</td>\n",
       "      <td>3.77</td>\n",
       "      <td>8.45</td>\n",
       "      <td>76.00</td>\n",
       "      <td>8.00</td>\n",
       "      <td>E</td>\n",
       "      <td>82.54</td>\n",
       "    </tr>\n",
       "    <tr>\n",
       "      <th>1</th>\n",
       "      <td>super mario bros.</td>\n",
       "      <td>NES</td>\n",
       "      <td>1985</td>\n",
       "      <td>Platform</td>\n",
       "      <td>29.08</td>\n",
       "      <td>3.58</td>\n",
       "      <td>6.81</td>\n",
       "      <td>0.77</td>\n",
       "      <td>NaN</td>\n",
       "      <td>NaN</td>\n",
       "      <td>unknown</td>\n",
       "      <td>40.24</td>\n",
       "    </tr>\n",
       "    <tr>\n",
       "      <th>2</th>\n",
       "      <td>mario kart wii</td>\n",
       "      <td>Wii</td>\n",
       "      <td>2008</td>\n",
       "      <td>Racing</td>\n",
       "      <td>15.68</td>\n",
       "      <td>12.76</td>\n",
       "      <td>3.79</td>\n",
       "      <td>3.29</td>\n",
       "      <td>82.00</td>\n",
       "      <td>8.30</td>\n",
       "      <td>E</td>\n",
       "      <td>35.52</td>\n",
       "    </tr>\n",
       "    <tr>\n",
       "      <th>3</th>\n",
       "      <td>wii sports resort</td>\n",
       "      <td>Wii</td>\n",
       "      <td>2009</td>\n",
       "      <td>Sports</td>\n",
       "      <td>15.61</td>\n",
       "      <td>10.93</td>\n",
       "      <td>3.28</td>\n",
       "      <td>2.95</td>\n",
       "      <td>80.00</td>\n",
       "      <td>8.00</td>\n",
       "      <td>E</td>\n",
       "      <td>32.77</td>\n",
       "    </tr>\n",
       "    <tr>\n",
       "      <th>4</th>\n",
       "      <td>pokemon red/pokemon blue</td>\n",
       "      <td>GB</td>\n",
       "      <td>1996</td>\n",
       "      <td>Role-Playing</td>\n",
       "      <td>11.27</td>\n",
       "      <td>8.89</td>\n",
       "      <td>10.22</td>\n",
       "      <td>1.00</td>\n",
       "      <td>NaN</td>\n",
       "      <td>NaN</td>\n",
       "      <td>unknown</td>\n",
       "      <td>31.38</td>\n",
       "    </tr>\n",
       "  </tbody>\n",
       "</table>\n",
       "</div>"
      ],
      "text/plain": [
       "                       name platform  year_of_release         genre  na_sales  \\\n",
       "0                wii sports      Wii             2006        Sports     41.36   \n",
       "1         super mario bros.      NES             1985      Platform     29.08   \n",
       "2            mario kart wii      Wii             2008        Racing     15.68   \n",
       "3         wii sports resort      Wii             2009        Sports     15.61   \n",
       "4  pokemon red/pokemon blue       GB             1996  Role-Playing     11.27   \n",
       "\n",
       "   eu_sales  jp_sales  other_sales  critic_score  user_score   rating  \\\n",
       "0     28.96      3.77         8.45         76.00        8.00        E   \n",
       "1      3.58      6.81         0.77           NaN         NaN  unknown   \n",
       "2     12.76      3.79         3.29         82.00        8.30        E   \n",
       "3     10.93      3.28         2.95         80.00        8.00        E   \n",
       "4      8.89     10.22         1.00           NaN         NaN  unknown   \n",
       "\n",
       "   total_sales  \n",
       "0        82.54  \n",
       "1        40.24  \n",
       "2        35.52  \n",
       "3        32.77  \n",
       "4        31.38  "
      ]
     },
     "execution_count": 32,
     "metadata": {},
     "output_type": "execute_result"
    }
   ],
   "source": [
    "data.head()"
   ]
  },
  {
   "cell_type": "code",
   "execution_count": 33,
   "metadata": {},
   "outputs": [
    {
     "name": "stdout",
     "output_type": "stream",
     "text": [
      "<class 'pandas.core.frame.DataFrame'>\n",
      "Int64Index: 16444 entries, 0 to 16714\n",
      "Data columns (total 12 columns):\n",
      " #   Column           Non-Null Count  Dtype  \n",
      "---  ------           --------------  -----  \n",
      " 0   name             16444 non-null  object \n",
      " 1   platform         16444 non-null  object \n",
      " 2   year_of_release  16444 non-null  int64  \n",
      " 3   genre            16444 non-null  object \n",
      " 4   na_sales         16444 non-null  float64\n",
      " 5   eu_sales         16444 non-null  float64\n",
      " 6   jp_sales         16444 non-null  float64\n",
      " 7   other_sales      16444 non-null  float64\n",
      " 8   critic_score     7983 non-null   float64\n",
      " 9   user_score       7463 non-null   float64\n",
      " 10  rating           16444 non-null  object \n",
      " 11  total_sales      16444 non-null  float64\n",
      "dtypes: float64(7), int64(1), object(4)\n",
      "memory usage: 1.6+ MB\n",
      "None\n",
      "-------------------------\n",
      "name [' beyblade burst' ' fire emblem fates' \" frozen: olaf's quest\" ...\n",
      " 'zwei!!' 'zyuden sentai kyoryuger: game de gaburincho!!'\n",
      " '¡shin chan flipa en colores!']\n",
      "name : кол-во NaN 0 , процент NaN 0.0 %\n",
      "-------------------------\n",
      "platform ['2600' '3DO' '3DS' 'DC' 'DS' 'GB' 'GBA' 'GC' 'GEN' 'GG' 'N64' 'NES' 'NG'\n",
      " 'PC' 'PCFX' 'PS' 'PS2' 'PS3' 'PS4' 'PSP' 'PSV' 'SAT' 'SCD' 'SNES' 'TG16'\n",
      " 'WS' 'Wii' 'WiiU' 'X360' 'XB' 'XOne']\n",
      "platform : кол-во NaN 0 , процент NaN 0.0 %\n",
      "-------------------------\n",
      "year_of_release [1980 1981 1982 1983 1984 1985 1986 1987 1988 1989 1990 1991 1992 1993\n",
      " 1994 1995 1996 1997 1998 1999 2000 2001 2002 2003 2004 2005 2006 2007\n",
      " 2008 2009 2010 2011 2012 2013 2014 2015 2016]\n",
      "year_of_release : кол-во NaN 0 , процент NaN 0.0 %\n",
      "-------------------------\n",
      "genre ['Action' 'Adventure' 'Fighting' 'Misc' 'Platform' 'Puzzle' 'Racing'\n",
      " 'Role-Playing' 'Shooter' 'Simulation' 'Sports' 'Strategy']\n",
      "genre : кол-во NaN 0 , процент NaN 0.0 %\n",
      "-------------------------\n",
      "critic_score [13. 17. 19. 20. 21. 23. 24. 25. 26. 27. 28. 29. 30. 31. 32. 33. 34. 35.\n",
      " 36. 37. 38. 39. 40. 41. 42. 43. 44. 45. 46. 47. 48. 49. 50. 51. 52. 53.\n",
      " 54. 55. 56. 57. 58. 59. 60. 61. 62. 63. 64. 65. 66. 67. 68. 69. 70. 71.\n",
      " 72. 73. 74. 75. 76. 77. 78. 79. 80. 81. 82. 83. 84. 85. 86. 87. 88. 89.\n",
      " 90. 91. 92. 93. 94. 95. 96. 97. 98. nan]\n",
      "critic_score : кол-во NaN 8461 , процент NaN 51.45 %\n",
      "-------------------------\n",
      "user_score [0.  0.2 0.3 0.5 0.6 0.7 0.9 1.  1.1 1.2 1.3 1.4 1.5 1.6 1.7 1.8 1.9 2.\n",
      " 2.1 2.2 2.3 2.4 2.5 2.6 2.7 2.8 2.9 3.  3.1 3.2 3.3 3.4 3.5 3.6 3.7 3.8\n",
      " 3.9 4.  4.1 4.2 4.3 4.4 4.5 4.6 4.7 4.8 4.9 5.  5.1 5.2 5.3 5.4 5.5 5.6\n",
      " 5.7 5.8 5.9 6.  6.1 6.2 6.3 6.4 6.5 6.6 6.7 6.8 6.9 7.  7.1 7.2 7.3 7.4\n",
      " 7.5 7.6 7.7 7.8 7.9 8.  8.1 8.2 8.3 8.4 8.5 8.6 8.7 8.8 8.9 9.  9.1 9.2\n",
      " 9.3 9.4 9.5 9.6 9.7 nan]\n",
      "user_score : кол-во NaN 8981 , процент NaN 54.62 %\n",
      "-------------------------\n",
      "rating ['AO' 'E' 'E10+' 'EC' 'K-A' 'M' 'RP' 'T' 'unknown']\n",
      "rating : кол-во NaN 0 , процент NaN 0.0 %\n"
     ]
    }
   ],
   "source": [
    "# Комментарий ревьюера\n",
    "# Посмотрим, что у нас осталось\n",
    "temp = data.copy() \n",
    "list_c = ['name', 'platform', 'year_of_release', 'genre', 'critic_score', 'user_score', 'rating']\n",
    "print(temp.info())\n",
    "for col_l in list_c:\n",
    "  print('-'* 25)\n",
    "  print(col_l, temp[col_l].sort_values().unique())\n",
    "  print(col_l,': кол-во NaN',temp[col_l].isna().sum(),\n",
    "        ', процент NaN', round(temp[col_l].isna().sum()/len(temp)*100, 2),'%')"
   ]
  },
  {
   "cell_type": "markdown",
   "metadata": {},
   "source": [
    "**Вывод**\n",
    "\n",
    "Во время предобработки данных:\n",
    "\n",
    "1. Названия всех столбцов приведены к нижнему регистру;\n",
    "\n",
    "2. В столбцах `year_of_release`, `name`, `genre` были удалены строки с пропусками. Таких строк было меньше 1-2%, поэтому их удаление допустимо;\n",
    "\n",
    "3. В столбце `user_score` значение 'tbd' заменено на пустую строку. Пропуски в этом столбце не удалялись;\n",
    "\n",
    "4. В столбце `critic_score` пропуски были оставлены;\n",
    "\n",
    "5. В столбце `rating` пропуски заменены значением-флагом `unknown`;\n",
    "\n",
    "6. В столбце `year_of_release` заменен тип данных float на int;\n",
    "\n",
    "7. В столбце `user_score` заменен тип данных на float;\n",
    "\n",
    "8. Создан столбец `total_sales` со значениями суммарных продаж во всех регионах.\n",
    "\n",
    "Аномалий и дубликатов не выявлено.\n",
    "\n",
    "### Исследовательский анализ данных\n",
    "\n",
    "1. Сколько игр выпускалось в разные годы. Важны ли данные за все периоды?\n",
    "2. Как менялись продажи по платформам. Для платформ с наибольшими суммарными продажами и построить распределение по годам. За какой характерный срок появляются новые и исчезают старые платформы?\n",
    "3. Какие платформы лидируют по продажам, растут или падают? \n",
    "4. Построить график «ящик с усами» по глобальным продажам игр в разбивке по платформам. Опиать результат.\n",
    "5. Как влияют на продажи внутри одной популярной платформы отзывы пользователей и критиков. Построить диаграмму рассеяния и посчитать корреляцию между отзывами и продажами.\n",
    "6. Что можно сказать о самых прибыльных жанрах? Выделяются ли жанры с высокими и низкими продажами?\n",
    "7. Необходимо составить портрет пользователя каждого региона\n",
    "\n",
    "#### Сколько игр выпускалось в разные годы. Важны ли данные за все периоды?"
   ]
  },
  {
   "cell_type": "code",
   "execution_count": 34,
   "metadata": {},
   "outputs": [
    {
     "data": {
      "image/png": "[encoded data removed]",
      "text/plain": [
       "<Figure size 648x360 with 1 Axes>"
      ]
     },
     "metadata": {
      "needs_background": "light"
     },
     "output_type": "display_data"
    }
   ],
   "source": [
    "data.groupby('year_of_release').agg(год_выпуска=('year_of_release', 'count'))\\\n",
    "     .plot(kind='bar', figsize=(9, 5), \n",
    "      title='Выпускаемые игры по годам',\n",
    "      ylabel='Количество игр',\n",
    "      xlabel='Год');"
   ]
  },
  {
   "cell_type": "markdown",
   "metadata": {},
   "source": [
    "Наибольшее количество игр выпускалось за период 2001 - 2016. Менее 200 игр было выпущено за период 1980 - 1995 г. Таким образом, наиболее важные данные за период начиная с 2001 года.\n",
    "\n",
    "Цель исследования - спланировать рекламную компанию на 2017 год на основе данных за предыдущие года. Поэтому для анализа тенденции продаж в основном будут рассматриваться данные за последние 2 года, а также за последние 4 года, то есть с 2012 года по 2016 год.\n",
    "\n",
    "#### Посмотрите, как менялись продажи по платформам. Выберите платформы с наибольшими суммарными продажами и постройте распределение по годам. За какой характерный срок появляются новые и исчезают старые платформы?\n",
    "\n",
    "Сначала изучу суммарные продажи платформ за весь период. Для этого построю гистограмму."
   ]
  },
  {
   "cell_type": "code",
   "execution_count": 35,
   "metadata": {},
   "outputs": [
    {
     "data": {
      "image/png": "[encoded data removed]",
      "text/plain": [
       "<Figure size 648x360 with 1 Axes>"
      ]
     },
     "metadata": {
      "needs_background": "light"
     },
     "output_type": "display_data"
    }
   ],
   "source": [
    "data.pivot_table(index='platform', values='total_sales', aggfunc='sum') \\\n",
    "    .sort_values(by='total_sales', ascending=False) \\\n",
    "    .plot(kind='bar', figsize=(9, 5),\n",
    "          title='Суммарные продажи платформ за весь период',\n",
    "          ylabel='Продажи',\n",
    "          xlabel='Платформы');"
   ]
  },
  {
   "cell_type": "markdown",
   "metadata": {},
   "source": [
    "ТОП-5 продаж за все время у платформ: PS2, X360, PS3, Wii, DS.\n",
    "\n",
    "Далее для платформ с максимальными продажами посмотрю их распределение по годам."
   ]
  },
  {
   "cell_type": "code",
   "execution_count": 36,
   "metadata": {},
   "outputs": [
    {
     "data": {
      "image/png": "[encoded data removed]",
      "text/plain": [
       "<Figure size 360x216 with 1 Axes>"
      ]
     },
     "metadata": {
      "needs_background": "light"
     },
     "output_type": "display_data"
    },
    {
     "data": {
      "image/png": "[encoded data removed]",
      "text/plain": [
       "<Figure size 360x216 with 1 Axes>"
      ]
     },
     "metadata": {
      "needs_background": "light"
     },
     "output_type": "display_data"
    },
    {
     "data": {
      "image/png": "[encoded data removed]",
      "text/plain": [
       "<Figure size 360x216 with 1 Axes>"
      ]
     },
     "metadata": {
      "needs_background": "light"
     },
     "output_type": "display_data"
    },
    {
     "data": {
      "image/png": "[encoded data removed]",
      "text/plain": [
       "<Figure size 360x216 with 1 Axes>"
      ]
     },
     "metadata": {
      "needs_background": "light"
     },
     "output_type": "display_data"
    },
    {
     "data": {
      "image/png": "[encoded data removed]",
      "text/plain": [
       "<Figure size 360x216 with 1 Axes>"
      ]
     },
     "metadata": {
      "needs_background": "light"
     },
     "output_type": "display_data"
    }
   ],
   "source": [
    "top_5 = ['PS2', 'X360', 'PS3', 'Wii', 'DS']\n",
    "\n",
    "for t in top_5:\n",
    "    data.query('platform == @t') \\\n",
    "    .pivot_table(index='year_of_release', values='total_sales', aggfunc='sum') \\\n",
    "    .plot(kind='line', figsize=(5, 3),\n",
    "          title=f'Продажи платформы {t} по годам',\n",
    "          ylabel='Продажи',\n",
    "          xlabel=f'Платформа {t}');"
   ]
  },
  {
   "cell_type": "markdown",
   "metadata": {},
   "source": [
    "\n",
    "На графике видно странное значение величины продаж платформы DS за 1985 год. При анализе в интеренете, было выявлено, что эта платформа была выпущена в 2004 году, а значит значение в датафрейме явно ошибочное. Посмотрю сколько строк с неправильным годом выпуска DS.\n",
    "\n",
    "  \n",
    "\n",
    "</div>"
   ]
  },
  {
   "cell_type": "code",
   "execution_count": 37,
   "metadata": {},
   "outputs": [
    {
     "data": {
      "text/html": [
       "<div>\n",
       "<style scoped>\n",
       "    .dataframe tbody tr th:only-of-type {\n",
       "        vertical-align: middle;\n",
       "    }\n",
       "\n",
       "    .dataframe tbody tr th {\n",
       "        vertical-align: top;\n",
       "    }\n",
       "\n",
       "    .dataframe thead th {\n",
       "        text-align: right;\n",
       "    }\n",
       "</style>\n",
       "<table border=\"1\" class=\"dataframe\">\n",
       "  <thead>\n",
       "    <tr style=\"text-align: right;\">\n",
       "      <th></th>\n",
       "      <th>name</th>\n",
       "      <th>platform</th>\n",
       "      <th>year_of_release</th>\n",
       "      <th>genre</th>\n",
       "      <th>na_sales</th>\n",
       "      <th>eu_sales</th>\n",
       "      <th>jp_sales</th>\n",
       "      <th>other_sales</th>\n",
       "      <th>critic_score</th>\n",
       "      <th>user_score</th>\n",
       "      <th>rating</th>\n",
       "      <th>total_sales</th>\n",
       "    </tr>\n",
       "  </thead>\n",
       "  <tbody>\n",
       "    <tr>\n",
       "      <th>15957</th>\n",
       "      <td>strongest tokyo university shogi ds</td>\n",
       "      <td>DS</td>\n",
       "      <td>1985</td>\n",
       "      <td>Action</td>\n",
       "      <td>0.00</td>\n",
       "      <td>0.00</td>\n",
       "      <td>0.02</td>\n",
       "      <td>0.00</td>\n",
       "      <td>NaN</td>\n",
       "      <td>NaN</td>\n",
       "      <td>unknown</td>\n",
       "      <td>0.02</td>\n",
       "    </tr>\n",
       "  </tbody>\n",
       "</table>\n",
       "</div>"
      ],
      "text/plain": [
       "                                      name platform  year_of_release   genre  \\\n",
       "15957  strongest tokyo university shogi ds       DS             1985  Action   \n",
       "\n",
       "       na_sales  eu_sales  jp_sales  other_sales  critic_score  user_score  \\\n",
       "15957      0.00      0.00      0.02         0.00           NaN         NaN   \n",
       "\n",
       "        rating  total_sales  \n",
       "15957  unknown         0.02  "
      ]
     },
     "execution_count": 37,
     "metadata": {},
     "output_type": "execute_result"
    }
   ],
   "source": [
    "# новый код студента\n",
    "data.query('platform == \"DS\" and year_of_release < 2004')"
   ]
  },
  {
   "cell_type": "markdown",
   "metadata": {},
   "source": [
    "\n",
    "\n",
    "В датафрейме всего одна строка с некорректным значением, поэтому я удалю ее и еще раз построю гистограмму распределения по годам для платформ с максимальными продажами.\n",
    "\n",
    "  \n",
    "\n",
    "</div>"
   ]
  },
  {
   "cell_type": "code",
   "execution_count": 38,
   "metadata": {},
   "outputs": [],
   "source": [
    "# новый код студента\n",
    "data = data.drop (index= 15957 )"
   ]
  },
  {
   "cell_type": "code",
   "execution_count": 39,
   "metadata": {},
   "outputs": [
    {
     "data": {
      "image/png": "[encoded data removed]",
      "text/plain": [
       "<Figure size 360x216 with 1 Axes>"
      ]
     },
     "metadata": {
      "needs_background": "light"
     },
     "output_type": "display_data"
    },
    {
     "data": {
      "image/png": "[encoded data removed]",
      "text/plain": [
       "<Figure size 360x216 with 1 Axes>"
      ]
     },
     "metadata": {
      "needs_background": "light"
     },
     "output_type": "display_data"
    },
    {
     "data": {
      "image/png": "[encoded data removed]",
      "text/plain": [
       "<Figure size 360x216 with 1 Axes>"
      ]
     },
     "metadata": {
      "needs_background": "light"
     },
     "output_type": "display_data"
    },
    {
     "data": {
      "image/png": "[encoded data removed]",
      "text/plain": [
       "<Figure size 360x216 with 1 Axes>"
      ]
     },
     "metadata": {
      "needs_background": "light"
     },
     "output_type": "display_data"
    },
    {
     "data": {
      "image/png": "[encoded data removed]",
      "text/plain": [
       "<Figure size 360x216 with 1 Axes>"
      ]
     },
     "metadata": {
      "needs_background": "light"
     },
     "output_type": "display_data"
    }
   ],
   "source": [
    "# новый код студента\n",
    "top_5 = ['PS2', 'X360', 'PS3', 'Wii', 'DS']\n",
    "for t in top_5:\n",
    "    data.query('platform == @t') \\\n",
    "    .pivot_table(index='year_of_release', values='total_sales', aggfunc='sum') \\\n",
    "    .plot(kind='line', figsize=(5, 3),\n",
    "          title=f'Продажи платформы {t} по годам',\n",
    "          ylabel='Продажи',\n",
    "          xlabel=f'Платформа {t}');"
   ]
  },
  {
   "cell_type": "markdown",
   "metadata": {},
   "source": [
    "ИТОГО:\n",
    "- платформа `PS2` была в продаже за период 2000 - 2010 год, \n",
    "- платформа `X360` была в продаже за период 2006 - 2016 год, \n",
    "- платформа `PS3` была в продаже за период 2006 - 2016 год, \n",
    "- платформа `Wii` была в продаже за период 2006 - 2016 год, \n",
    "- платформа `DS` была в продаже за период 1985 - 2010 год.\n",
    "\n",
    "Таким образом, платформы PS2 и DS вышли из продажи после 2010 года. Вероятно PS2 сменила более современная версия PS3, выпущеная в продажу в 2006 году. В целом одна платформа может успешно продаваться в течении 10-25 лет.\n",
    "\n",
    "\n",
    "#### Далее для анализа возьму данные за соответствующий актуальный период. \n",
    "\n",
    "\n",
    "\n",
    "В динамично меняющейся индустрии компьютерных игр для прогноза продаж логичнее взять интервал за последние 4 года, то есть с 2013 года по 2016 год. Для этого построю гистограмму. \n",
    "    \n",
    "Предварительно создам новый датафрейм `data_actual` со срезом данных за 2013-2016 год.\n",
    "\n",
    "  \n",
    "\n",
    "</div>"
   ]
  },
  {
   "cell_type": "code",
   "execution_count": 40,
   "metadata": {},
   "outputs": [],
   "source": [
    "data_actual = data.query('year_of_release.between(2013, 2016, inclusive=\"both\")')"
   ]
  },
  {
   "cell_type": "code",
   "execution_count": 41,
   "metadata": {},
   "outputs": [
    {
     "data": {
      "image/png": "[encoded data removed]",
      "text/plain": [
       "<Figure size 648x360 with 1 Axes>"
      ]
     },
     "metadata": {
      "needs_background": "light"
     },
     "output_type": "display_data"
    }
   ],
   "source": [
    "data_actual.pivot_table(index='platform', values='total_sales', aggfunc='sum') \\\n",
    "    .sort_values(by='total_sales', ascending=False) \\\n",
    "    .plot(kind='bar', figsize=(9, 5),\n",
    "          title='Суммарные продажи платформ за 2013-2016 год',\n",
    "          ylabel='Продажи',\n",
    "          xlabel='Платформы');"
   ]
  },
  {
   "cell_type": "markdown",
   "metadata": {},
   "source": [
    "\n",
    "\n",
    "За период с 2013 года по 2016 год ТОП-5 продаж у платформ: PS4, PS3, XOne, 3DS, X360. Далее посмотрим распределение продаж отдельно по годам для каждой из этих платформ.\n",
    "  \n",
    "\n",
    "</div>"
   ]
  },
  {
   "cell_type": "code",
   "execution_count": 42,
   "metadata": {},
   "outputs": [],
   "source": [
    "# создам переменную с самыми продаваемыми платформами\n",
    "platform_top_sales = data_actual.pivot_table(index='platform', values='total_sales', aggfunc='sum') \\\n",
    "                                .sort_values(by='total_sales', ascending=False) \\\n",
    "                                .head(5).index"
   ]
  },
  {
   "cell_type": "code",
   "execution_count": 43,
   "metadata": {},
   "outputs": [
    {
     "data": {
      "image/png": "[encoded data removed]",
      "text/plain": [
       "<Figure size 360x216 with 1 Axes>"
      ]
     },
     "metadata": {
      "needs_background": "light"
     },
     "output_type": "display_data"
    },
    {
     "data": {
      "image/png": "[encoded data removed]",
      "text/plain": [
       "<Figure size 360x216 with 1 Axes>"
      ]
     },
     "metadata": {
      "needs_background": "light"
     },
     "output_type": "display_data"
    },
    {
     "data": {
      "image/png": "[encoded data removed]",
      "text/plain": [
       "<Figure size 360x216 with 1 Axes>"
      ]
     },
     "metadata": {
      "needs_background": "light"
     },
     "output_type": "display_data"
    },
    {
     "data": {
      "image/png": "[encoded data removed]",
      "text/plain": [
       "<Figure size 360x216 with 1 Axes>"
      ]
     },
     "metadata": {
      "needs_background": "light"
     },
     "output_type": "display_data"
    },
    {
     "data": {
      "image/png": "[encoded data removed]",
      "text/plain": [
       "<Figure size 360x216 with 1 Axes>"
      ]
     },
     "metadata": {
      "needs_background": "light"
     },
     "output_type": "display_data"
    }
   ],
   "source": [
    "for t in platform_top_sales:\n",
    "    data_actual.query('platform == @t') \\\n",
    "                .pivot_table(index='year_of_release', values='total_sales', aggfunc='sum') \\\n",
    "                .plot(kind='bar', figsize=(5, 3),\n",
    "                      title=f'Продажи платформы {t} по годам',\n",
    "                      ylabel='Продажи',\n",
    "                      xlabel=f'Платформа {t}');"
   ]
  },
  {
   "cell_type": "markdown",
   "metadata": {},
   "source": [
    "За период с 2013 года по 2016 год ТОП-5 продаж у платформ: PS4, PS3, XOne, 3DS, X360. \n",
    "    \n",
    "У платформы PS4 до 2015 года был рост продаж, а в 2016 году спад. Этот спад можно связать с неполнотой данных за 2016 год, а значит что тенденция роста продаж с 2013 по 2015 год вероятно сохранится и на следующие года. Аналогичная ситуация у платформы XOne. А у PS3, 3DS и X360 наоборот, хоть в целом по продажам они и лидируют, но основные продажи были сделаны в 2013 году, а далее их величина сильно падает. Среди этих трех платформ большие продажи у 3DS, поэтому на нее стоит также обратить внимание при прогнозе на 2017 год.\n",
    "  \n",
    "**Вывод:**\n",
    "\n",
    "Для прогноза рекламной компании лучше ориентироватеься на наиболее продаваемые платформы за 2013-2016 года: PS4, XOne. Также можно рассматривать платформу 3DS, однако ее показатели будут хуже чем у PS4, XOne\n",
    "\n",
    "</div>\n",
    "\n",
    "\n",
    "\n",
    "#### Постройте график «ящик с усами» по глобальным продажам игр в разбивке по платформам. Опишите результат"
   ]
  },
  {
   "cell_type": "code",
   "execution_count": 44,
   "metadata": {},
   "outputs": [
    {
     "data": {
      "image/png": "[encoded data removed]",
      "text/plain": [
       "<Figure size 432x288 with 1 Axes>"
      ]
     },
     "metadata": {
      "needs_background": "light"
     },
     "output_type": "display_data"
    }
   ],
   "source": [
    "data_actual.boxplot(column=['total_sales'], by='platform');\n",
    "plt.xlabel('название платформы');\n",
    "plt.ylabel('продажи');\n",
    "plt.title('Диаграмма размаха суммарных продаж игр в разбивке по платформам');"
   ]
  },
  {
   "cell_type": "markdown",
   "metadata": {},
   "source": [
    "На общей диаграмме размаха видно, что для каждой платформы есть аномально высокие суммарные продажи, то есть выбросы. Это могут быть значения в первые годы выхода платформ, когда они были только популярны.\n",
    "\n",
    "Однако с таким масштабом не видно медианные значения, а также 1-3 квартили, поэтому я построю еще одну диаграмму с увеличенным масштабом."
   ]
  },
  {
   "cell_type": "code",
   "execution_count": 68,
   "metadata": {},
   "outputs": [
    {
     "data": {
      "image/png": "[encoded data removed]",
      "text/plain": [
       "<Figure size 1080x360 with 1 Axes>"
      ]
     },
     "metadata": {
      "needs_background": "light"
     },
     "output_type": "display_data"
    }
   ],
   "source": [
    "data_actual.boxplot(column=['total_sales'], by='platform', figsize=(15,5));\n",
    "\n",
    "plt.ylim(0, 2)\n",
    "plt.xlabel('название платформы');\n",
    "plt.ylabel('продажи');\n",
    "plt.title('Диаграмма размаха суммарных продаж игр в разбивке по платформам');"
   ]
  },
  {
   "cell_type": "markdown",
   "metadata": {},
   "source": [
    "В целом по всем платформам наблюдается положительная скошенность данных. Наибольшая скошенность у самых продающихся платформ: PS3, PS4, X360, Wii, XOne. \n",
    "\n",
    "**Вывод:**\n",
    "\n",
    "Медианная величина продаж наибольшая у платформы X360, XOne, WiiU, PS3 и PS4. Увсех данных имеется положительная скошенность, а также выбросы.\n",
    "\n",
    "#### Посмотрите, как влияют на продажи внутри одной популярной платформы отзывы пользователей и критиков. Постройте диаграмму рассеяния и посчитайте корреляцию между отзывами и продажами. Сформулируйте выводы.\n",
    "\n",
    "Наиболее продаваемая платформа - PS4. Поэтому именно для этой платформы я буду исследовать как влияют на ее продажи  отзывы пользователей и критиков. При этом исследование буду проводить за период с 2012 года по 2016 год, как наиболее актуальный период."
   ]
  },
  {
   "cell_type": "code",
   "execution_count": 46,
   "metadata": {},
   "outputs": [
    {
     "data": {
      "image/png": "[encoded data removed]",
      "text/plain": [
       "<Figure size 432x288 with 1 Axes>"
      ]
     },
     "metadata": {
      "needs_background": "light"
     },
     "output_type": "display_data"
    }
   ],
   "source": [
    "# строю диаграмму рассеяния для зависимости продаж от оценки критиков\n",
    "\n",
    "data_actual.query('platform == \"PS4\"') \\\n",
    "            .plot(x='critic_score', y='total_sales', kind='scatter', \n",
    "                    title='Диаграмма зависимости продаж от оценки критиков для платформы PS4',\n",
    "                    xlabel='оценки критиков',\n",
    "                    ylabel='продажи');"
   ]
  },
  {
   "cell_type": "markdown",
   "metadata": {},
   "source": [
    "На диаграмме прослеживается небольшая взаимосвязь между продажами и оценками критиков. Проверим вывод и посчитаю коэффициент корреляции.\n"
   ]
  },
  {
   "cell_type": "code",
   "execution_count": 47,
   "metadata": {},
   "outputs": [
    {
     "name": "stdout",
     "output_type": "stream",
     "text": [
      "Коэффициент корреляции между продажами и оценками критиков для платформы PS4: 0.4\n"
     ]
    }
   ],
   "source": [
    "print('Коэффициент корреляции между продажами и оценками критиков для платформы PS4:', \\\n",
    "round(data_actual.query('platform == \"PS4\"')['critic_score']\\\n",
    "    .corr(data_actual.query('platform == \"PS4\"')['total_sales']), 1))"
   ]
  },
  {
   "cell_type": "markdown",
   "metadata": {},
   "source": [
    "Коэффициент корреляции между продажами и оценками критиков для платформы PS4 равен 0.4, связь между переменными умеренная.\n",
    "\n",
    "Теперь построю диаграмму рассеяния для оценки зависимости продаж от оценки пользователей."
   ]
  },
  {
   "cell_type": "code",
   "execution_count": 48,
   "metadata": {},
   "outputs": [
    {
     "data": {
      "image/png": "[encoded data removed]",
      "text/plain": [
       "<Figure size 432x288 with 1 Axes>"
      ]
     },
     "metadata": {
      "needs_background": "light"
     },
     "output_type": "display_data"
    }
   ],
   "source": [
    "# строю диаграмму рассеяния для зависимости продаж от оценки пользователей\n",
    "data_actual.query('platform == \"PS4\"') \\\n",
    "    .plot(x='user_score', y='total_sales', kind='scatter', \n",
    "        title='Диаграмма зависимости продаж от оценки пользователей для платформы PS4',\n",
    "        xlabel='оценки пользователей',\n",
    "        ylabel='продажи');"
   ]
  },
  {
   "cell_type": "markdown",
   "metadata": {},
   "source": [
    "На диаграмме не прослеживается  взаимосвязь между продажами и оценками пользователей. Проверю этот вывод и посчитаю коэффициент корреляции."
   ]
  },
  {
   "cell_type": "code",
   "execution_count": 49,
   "metadata": {},
   "outputs": [
    {
     "name": "stdout",
     "output_type": "stream",
     "text": [
      "Коэффициент корреляции между между продажами и оценками пользователей для платформы PS4: -0.0\n"
     ]
    }
   ],
   "source": [
    "print('Коэффициент корреляции между между продажами и оценками пользователей для платформы PS4:', \\\n",
    "      round(data_actual.query('platform == \"PS4\"')['user_score']\\\n",
    "                       .corr(data_actual.query('platform == \"PS4\"')['total_sales']), 1))"
   ]
  },
  {
   "cell_type": "markdown",
   "metadata": {},
   "source": [
    "Коэффициент корреляции между продажами и оценками пользователей для платформы PS4 близко к нулю, да еще и отрицательный, взаимосвязи нет.\n",
    "\n",
    "**Вывод:**\n",
    "\n",
    "Выявлена умеренная взаимосвязь между продажами и оценками критиков для платформы PS4. Значит отзывы критиков могут частично повлиять на продажи платформы. Однако, также выявлено, что отзывы пользователей не влияют на продажи.\n",
    "\n",
    "#### Соотнесите выводы с продажами игр на других платформах.\n",
    "\n",
    "Для исследования выводов о прожадах на других платформах сначала определю топ-5 продаваемых платформ за 2012-2016 год за исключением PS4. Далее зависимость будет определяться именно для этих платформ."
   ]
  },
  {
   "cell_type": "code",
   "execution_count": 50,
   "metadata": {},
   "outputs": [],
   "source": [
    "# определяю топ-5 платформ\n",
    "top_platform = data_actual.query('platform != \"PS4\"')\\\n",
    "                          .pivot_table(index='platform', values='total_sales', aggfunc='sum') \\\n",
    "                          .sort_values(by='total_sales', ascending=False).head(5).index"
   ]
  },
  {
   "cell_type": "code",
   "execution_count": 51,
   "metadata": {},
   "outputs": [
    {
     "data": {
      "image/png": "[encoded data removed]",
      "text/plain": [
       "<Figure size 720x288 with 2 Axes>"
      ]
     },
     "metadata": {
      "needs_background": "light"
     },
     "output_type": "display_data"
    },
    {
     "name": "stdout",
     "output_type": "stream",
     "text": [
      "Платформа PS3 :\n",
      "Корреляция между продажами и рейтингом критиков 0.33\n",
      "Корреляция между продажами и оценками пользователей 0.0\n"
     ]
    },
    {
     "data": {
      "image/png": "[encoded data removed]",
      "text/plain": [
       "<Figure size 720x288 with 2 Axes>"
      ]
     },
     "metadata": {
      "needs_background": "light"
     },
     "output_type": "display_data"
    },
    {
     "name": "stdout",
     "output_type": "stream",
     "text": [
      "Платформа XOne :\n",
      "Корреляция между продажами и рейтингом критиков 0.42\n",
      "Корреляция между продажами и оценками пользователей -0.07\n"
     ]
    },
    {
     "data": {
      "image/png": "[encoded data removed]",
      "text/plain": [
       "<Figure size 720x288 with 2 Axes>"
      ]
     },
     "metadata": {
      "needs_background": "light"
     },
     "output_type": "display_data"
    },
    {
     "name": "stdout",
     "output_type": "stream",
     "text": [
      "Платформа 3DS :\n",
      "Корреляция между продажами и рейтингом критиков 0.36\n",
      "Корреляция между продажами и оценками пользователей 0.24\n"
     ]
    },
    {
     "data": {
      "image/png": "[encoded data removed]",
      "text/plain": [
       "<Figure size 720x288 with 2 Axes>"
      ]
     },
     "metadata": {
      "needs_background": "light"
     },
     "output_type": "display_data"
    },
    {
     "name": "stdout",
     "output_type": "stream",
     "text": [
      "Платформа X360 :\n",
      "Корреляция между продажами и рейтингом критиков 0.35\n",
      "Корреляция между продажами и оценками пользователей -0.01\n"
     ]
    },
    {
     "data": {
      "image/png": "[encoded data removed]",
      "text/plain": [
       "<Figure size 720x288 with 2 Axes>"
      ]
     },
     "metadata": {
      "needs_background": "light"
     },
     "output_type": "display_data"
    },
    {
     "name": "stdout",
     "output_type": "stream",
     "text": [
      "Платформа WiiU :\n",
      "Корреляция между продажами и рейтингом критиков 0.38\n",
      "Корреляция между продажами и оценками пользователей 0.42\n"
     ]
    }
   ],
   "source": [
    "for t in top_platform:  \n",
    "    fig, ax = plt.subplots(1 ,2, figsize=(10,4))\n",
    "    pl = data_actual.query('platform == @t')\n",
    "    sns.scatterplot(x='user_score', y='total_sales', data=pl, ax=ax[0])\n",
    "    sns.scatterplot(x='critic_score', y='total_sales', data=pl, ax=ax[1])\n",
    "    fig.suptitle(t, fontsize=15)\n",
    "    ax[0].set(xlabel='Оценка пользователей')\n",
    "    ax[1].set(xlabel='Оценка критиков')\n",
    "    ax[0].set(ylabel='Количество продаж')\n",
    "    ax[1].set(ylabel='Количество продаж')\n",
    "    plt.show()\n",
    "    print('Платформа',t,':')\n",
    "    print('Корреляция между продажами и рейтингом критиков', pl['total_sales'].corr(data_actual['critic_score']).round(2))\n",
    "    print('Корреляция между продажами и оценками пользователей', pl['total_sales'].corr(data_actual['user_score']).round(2))"
   ]
  },
  {
   "cell_type": "markdown",
   "metadata": {},
   "source": [
    "Коэффициент корреляции между продажами и оценками критиков для других платформ также соответствует умеренной взаимосвязи как и для PS4. Значит, отзывы критиков положительно влияют на продажи платформы.\n",
    "\n",
    "Для других платформ также как и для PS4 не выявлена взаимосвязь между продажами и оценками пользователей\n",
    "Далее изучу взаимосвязь для оценок пользователей. Построю гистограмму рассеяния и посчитаю коэффициент корреляции.Вывод подтвердился. Оценки пользователей не влияют на продаваемость платформ. Исключение - платформа WiiU с умеренной корреляцией.\n",
    "\n",
    "**Вывод:**\n",
    "\n",
    "В целом выводы подтвердились:\n",
    "\n",
    "1) Отзывы критиков положительно но влияют на продажи платформы. Чем выше оценка криика, тем лучше продаетя платформа;\n",
    "2) Оценки пользователей не влияют на продаваемость платформ\n",
    "\n",
    "#### Посмотрите на общее распределение игр по жанрам. Что можно сказать о самых прибыльных жанрах? Выделяются ли жанры с высокими и низкими продажами?\n",
    "\n",
    "Построю гистограмму распределения игр по жанрам."
   ]
  },
  {
   "cell_type": "code",
   "execution_count": 52,
   "metadata": {},
   "outputs": [
    {
     "data": {
      "image/png": "[encoded data removed]",
      "text/plain": [
       "<Figure size 576x360 with 1 Axes>"
      ]
     },
     "metadata": {
      "needs_background": "light"
     },
     "output_type": "display_data"
    }
   ],
   "source": [
    "data_actual['genre'].value_counts().sort_values(ascending=False)\\\n",
    "                    .plot(kind='bar', figsize=(8, 5),\n",
    "                          title='Распределение игр по жанрам за 2013-2016 год',\n",
    "                          xlabel='Жанр',\n",
    "                          ylabel='Количество');"
   ]
  },
  {
   "cell_type": "markdown",
   "metadata": {},
   "source": [
    "\n",
    "Наиболее популярные жанры игр: Action(боевик), Role-Playing (ролевые), Adventure (приключения), Sports(Спортивный симулятор), Shooter(стрелялка). Количество игр боевиков в разы больше чем остальных жанров. \n",
    "\n",
    "Далее изучу продажи в зависимости от жанра игры для актуального периода 2013-2016 год. \n",
    "</div>\n",
    "\n"
   ]
  },
  {
   "cell_type": "code",
   "execution_count": 53,
   "metadata": {},
   "outputs": [
    {
     "data": {
      "image/png": "[encoded data removed]",
      "text/plain": [
       "<Figure size 576x360 with 1 Axes>"
      ]
     },
     "metadata": {
      "needs_background": "light"
     },
     "output_type": "display_data"
    }
   ],
   "source": [
    "data_actual.pivot_table(index='genre', values='total_sales', aggfunc='sum') \\\n",
    "            .sort_values(by='total_sales', ascending=False) \\\n",
    "            .plot(kind='bar', figsize=(8, 5),\n",
    "                  title='Продажи за 2013-2016 год в зависимости от жанра игры',\n",
    "                  xlabel='Жанр',\n",
    "                  ylabel='Продажи');"
   ]
  },
  {
   "cell_type": "markdown",
   "metadata": {},
   "source": [
    "Однако стоит изучить медианное распределение продаж в зависимости от жанра, так как на продажи может влиять не только сам жанр, но и платформа. Построю диаграммы.\n",
    "    \n",
    "</div>\n",
    "\n",
    "\n"
   ]
  },
  {
   "cell_type": "code",
   "execution_count": 54,
   "metadata": {},
   "outputs": [
    {
     "data": {
      "image/png": "[encoded data removed]",
      "text/plain": [
       "<Figure size 576x360 with 1 Axes>"
      ]
     },
     "metadata": {
      "needs_background": "light"
     },
     "output_type": "display_data"
    }
   ],
   "source": [
    "data_actual.pivot_table(index='genre', values='total_sales', aggfunc='median') \\\n",
    "            .sort_values(by='total_sales', ascending=False) \\\n",
    "            .plot(kind='bar', figsize=(8, 5),\n",
    "                  title='Продажи за 2013-2016 год в зависимости от жанра игры',\n",
    "                  xlabel='Жанр',\n",
    "                  ylabel='Продажи');"
   ]
  },
  {
   "cell_type": "code",
   "execution_count": 55,
   "metadata": {},
   "outputs": [
    {
     "data": {
      "image/png": "[encoded data removed]",
      "text/plain": [
       "<Figure size 864x648 with 1 Axes>"
      ]
     },
     "metadata": {
      "needs_background": "light"
     },
     "output_type": "display_data"
    }
   ],
   "source": [
    "data_actual.boxplot(column=['total_sales'], by='genre', figsize=(12,9));\n",
    "\n",
    "\n",
    "plt.ylim(0, 2)\n",
    "plt.xlabel('Жанр');\n",
    "plt.ylabel('продажи');\n",
    "plt.title('Диаграмма размаха суммарных продаж игр в разбивке по жанрам');"
   ]
  },
  {
   "cell_type": "markdown",
   "metadata": {},
   "source": [
    "И вправду, в медианных значениях наиболее продаваемые жанры: . Они наиболее устойчивы.\n",
    "    \n",
    "**Вывод:**\n",
    "\n",
    "1. Популярные жанры: Action(боевик), Role-Playing (ролевые), Adventure (приключения), Sports(Спортивный симулятор), Shooter(стрелялка)\n",
    "2. Продаваемые жанры: Shooter(стрелялка),  Sports(Спортивный симулятор), Platform (платформенные), Role-Playing (ролевые) и Fighting (драки)\n",
    "    \n",
    "Т.о популярные жанры не всегда являются продаваемыми.\n",
    "\n",
    "</div>\n",
    "\n",
    "### Шаг 4. Портрет пользователя каждого региона\n",
    "\n",
    "Определите для пользователя каждого региона (NA, EU, JP):\n",
    "\n",
    "- Самые популярные платформы (топ-5). Опишите различия в долях продаж.\n",
    "- Самые популярные жанры (топ-5). Поясните разницу.\n",
    "- Влияет ли рейтинг ESRB на продажи в отдельном регионе?\n",
    "\n",
    "Сначала построю круговые диаграммы для 5-ти наиболее продаваемым платформам для каждого региона (Северная Америка, Европа и Япония). При этом исследование буду проводить за период с 2012 года по 2016 год, как наиболее актуальный период."
   ]
  },
  {
   "cell_type": "code",
   "execution_count": 56,
   "metadata": {},
   "outputs": [
    {
     "data": {
      "image/png": "[encoded data removed]",
      "text/plain": [
       "<Figure size 288x288 with 1 Axes>"
      ]
     },
     "metadata": {},
     "output_type": "display_data"
    },
    {
     "data": {
      "image/png": "[encoded data removed]",
      "text/plain": [
       "<Figure size 288x288 with 1 Axes>"
      ]
     },
     "metadata": {},
     "output_type": "display_data"
    },
    {
     "data": {
      "image/png": "[encoded data removed]",
      "text/plain": [
       "<Figure size 288x288 with 1 Axes>"
      ]
     },
     "metadata": {},
     "output_type": "display_data"
    }
   ],
   "source": [
    "data_actual.pivot_table(index='platform', values='na_sales', aggfunc='sum') \\\n",
    "    .sort_values(by = 'na_sales', ascending = False).head(5) \\\n",
    "    .plot(kind='pie', y='na_sales', autopct='%1.0f%%', figsize=(4, 4),\n",
    "          title='ТОП - 5 продаж платформ за 2013-2016 года в Северной Америке в %',\n",
    "          ylabel='',\n",
    "          legend=False, \n",
    "          startangle=90);\n",
    "\n",
    "data_actual.pivot_table(index='platform', values='eu_sales', aggfunc='sum') \\\n",
    "    .sort_values(by = 'eu_sales', ascending = False).head(5) \\\n",
    "    .plot(kind='pie', y='eu_sales', autopct='%1.0f%%', figsize=(4, 4),\n",
    "          title='ТОП - 5 продаж платформ за 2013-2016 года в Европе в %',\n",
    "          ylabel='',\n",
    "          legend=False, \n",
    "          startangle=90);\n",
    "\n",
    "data_actual.pivot_table(index='platform', values='jp_sales', aggfunc='sum') \\\n",
    "    .sort_values(by = 'jp_sales', ascending = False).head(5) \\\n",
    "    .plot(kind='pie', y='jp_sales', autopct='%1.0f%%', figsize=(4, 4),\n",
    "          title='ТОП - 5 продаж платформ за 2013-2016 года в Японии в %',\n",
    "          ylabel='',\n",
    "          legend=False, \n",
    "          startangle=90);"
   ]
  },
  {
   "cell_type": "markdown",
   "metadata": {},
   "source": [
    "В Северной Америке самые продаваемые платформы: PS4 (28%), ХOne  Х360 и практически одинаково продаются (24% и 21% соответственно). Из 5 наиболее продаваемых платформ хуже всех продается 3DS (10%).\n",
    "\n",
    "В Европе наоборот самые продаваемые платформы: PS4 (42%), PS3 (20%), а ХOne (15%) на третьем месте. Меньше всего продаж также у платформы 3DS (9%).\n",
    "\n",
    "В Японии наблюдается совершенно другая картина распределения продаж по платформам. 3DS уже самая продаваемая платформа и имеет половину продаж (50%), на втором месте PS3 (17%), на третьем - PSV (14%). Меньше всех доля продаж у платформы WiiU (8%).\n",
    "\n",
    "Далее для каждого региона изучу самые популярные жанры (ТОП-5 жанров) за период 2013-2016года."
   ]
  },
  {
   "cell_type": "code",
   "execution_count": 57,
   "metadata": {},
   "outputs": [
    {
     "data": {
      "image/png": "[encoded data removed]",
      "text/plain": [
       "<Figure size 1080x360 with 3 Axes>"
      ]
     },
     "metadata": {},
     "output_type": "display_data"
    }
   ],
   "source": [
    "data_actual2 = data_actual.copy()\n",
    "regions = data_actual2.columns[4:7]\n",
    "\n",
    "# начертим круговую диаграмму для каждого региона\n",
    "fig, axs = plt.subplots(1, 3, figsize=(15, 5))\n",
    "fig.suptitle('ТОП - 5 продаж по жанрам за 2013-2016 года')\n",
    "\n",
    "for i in range(3):\n",
    "    # выберем 5 самых продающих жанров\n",
    "    df_i = (data_actual2.groupby('genre')[regions[i]].sum()\\\n",
    "           .reset_index()\\\n",
    "           .sort_values(regions[i], ascending=False, ignore_index=True).head(5))\n",
    "    # занесем все остальные продажи в другие жанры\n",
    "    df_i = df_i.append({'genre' : 'Other', regions[i]: data_actual2[regions[i]].sum() - df_i[regions[i]].sum()}, ignore_index=True)\n",
    "    axs[i].pie(df_i[regions[i]], labels = df_i['genre'], autopct='%1.1f%%', startangle=90)\n",
    "    # зададим название региона\n",
    "    axs[i].set_title(df_i.columns[1].split('_')[0].upper())\n",
    "plt.show()    "
   ]
  },
  {
   "cell_type": "markdown",
   "metadata": {},
   "source": [
    "В Северной Америке и Европе лидируют по продажам жанры боевик и стрелялка(шутер). А в Японии лидеры ролевая игра (36%) и также боевики. Низкая продаваемость в Северной Америке - разное; в Европе - гонки; в Японии - стрелялки.\n",
    "\n",
    "Далее изучу влияет ли рейтинг ESRB на продажи в отдельном регионе, построю столбиковую диаграмму.\n",
    "\n",
    "</div>"
   ]
  },
  {
   "cell_type": "code",
   "execution_count": 58,
   "metadata": {},
   "outputs": [
    {
     "data": {
      "image/png": "[encoded data removed]",
      "text/plain": [
       "<Figure size 504x216 with 1 Axes>"
      ]
     },
     "metadata": {
      "needs_background": "light"
     },
     "output_type": "display_data"
    },
    {
     "data": {
      "image/png": "[encoded data removed]",
      "text/plain": [
       "<Figure size 504x216 with 1 Axes>"
      ]
     },
     "metadata": {
      "needs_background": "light"
     },
     "output_type": "display_data"
    },
    {
     "data": {
      "image/png": "[encoded data removed]",
      "text/plain": [
       "<Figure size 504x216 with 1 Axes>"
      ]
     },
     "metadata": {
      "needs_background": "light"
     },
     "output_type": "display_data"
    }
   ],
   "source": [
    "data_actual.pivot_table(index='rating', values='na_sales', aggfunc='sum') \\\n",
    "    .sort_values(by = 'na_sales', ascending = False).head(5) \\\n",
    "    .plot(kind='bar', figsize=(7, 3),\n",
    "          title='ТОП - 5 продаж в зависимости от рейтинга ESRB за 2013-2016 года в Северной Америке',\n",
    "          xlabel='рейтинг ESRB',\n",
    "          ylabel='Продажи');\n",
    "\n",
    "data_actual.pivot_table(index='rating', values='eu_sales', aggfunc='sum') \\\n",
    "    .sort_values(by = 'eu_sales', ascending = False).head(5) \\\n",
    "    .plot(kind='bar', figsize=(7, 3),\n",
    "          title='ТОП - 5 продаж в зависимости от рейтинга ESRB за 2013-2016 года в Европе',\n",
    "          xlabel='рейтинг ESRB',\n",
    "          ylabel='Продажи');\n",
    "\n",
    "data_actual.pivot_table(index='rating', values='jp_sales', aggfunc='sum') \\\n",
    "    .sort_values(by = 'jp_sales', ascending = False).head(5) \\\n",
    "    .plot(kind='bar', figsize=(7, 3),\n",
    "          title='ТОП - 5 продаж в зависимости от рейтинга ESRB за 2013-2016 года в Японии',\n",
    "          xlabel='рейтинг ESRB',\n",
    "          ylabel='Продажи');"
   ]
  },
  {
   "cell_type": "markdown",
   "metadata": {},
   "source": [
    "Известно, что на игры без рейтинга при предобработке данных была поставлена заглушка 'unknown', соответственно это игры не из США или Канады.\n",
    "\n",
    "В Северной Америке и Европе самые продаваемый игры с рейтингом `M`, то есть для взрослых (от 17 лет и старше). В 2 раза меньше продаж, но все равно наиболее продаваемые игры с рейтингом `E` - для всех и 'unknown', то есть из другиих регионов. \n",
    "\n",
    "В Японии - лидируют игры из других регионов 'unknown', и в разы меньше продаж игр с рейтингом `E`; `T` - для подростков (от 13 лет и старше).\n",
    "\n",
    "**Вывод:**\n",
    "\n",
    "1. Самые продаваемые платформы в Северной Америке и Европе: ХOne, Х360, PS4. В Японии - 3DS, PS3, PSV.\n",
    "2. В Северной Америке и Европе лидируют по продажам жанры боевик и стрелялка(шутер). А в Японии лидеры ролевая игра (44%) и также боевики. Низкая продаваемость в Северной Америке - разное; в Европе - гонки; в Японии - стрелялки.\n",
    "3. В Северной Америке и Европе самые продаваемый игры с рейтингом для взрослых (от 17 лет и старше), для всех и игры не из США/Канады. В Японии - игры не из США/Канады, и рейтинги для всех и для подростков (от 13 лет и старше).\n",
    "\n",
    "</div>\n",
    "\n",
    "\n",
    "### Проверка гипотез\n",
    "\n",
    "1. Средние пользовательские рейтинги платформ Xbox One и PC одинаковые;\n",
    "\n",
    "\n",
    "    \n",
    "Имеем две генеральных совокупности: платформа Xbox One и PC.\n",
    "\n",
    "Сформулирую нулевую и двустороннюю альтернативную гипотезу:\n",
    "\n",
    "```\n",
    "H_0: Средний пользовательский рейтинг (user_score) платформы Xbox One = среднему пользовательскому рейтингу (user_score) платформы PC`\n",
    "H_a: Средний пользовательский рейтинг (user_score) платформы Xbox One ≠ среднему пользовательскому рейтингу (user_score) платформы PC`\n",
    "Критерий значимости возьму 0.05\n",
    "```\n",
    "\n",
    "Чтобы проверить гипотезу о равенстве среднего двух генеральных совокупностей по взятым из них выборкам, применю метод scipy.stats.ttest_ind(array1, array2).\n",
    "\n",
    "Сначала создадам срезы по платформам. При этом анализирую данные за актуальный период. А также помню, что пропуски не были заполнены, поэтому для применения статистического метода они будут отброшены.\n",
    "\n",
    "</div>\n"
   ]
  },
  {
   "cell_type": "markdown",
   "metadata": {},
   "source": [
    "Анализ проведен для актуального периода 2013-2016 год.\n",
    "    \n",
    "Посчитаем дисперсии для совокупностей, чтобы определить параметр метода ttest.\n",
    "\n",
    "</div>"
   ]
  },
  {
   "cell_type": "code",
   "execution_count": 59,
   "metadata": {},
   "outputs": [],
   "source": [
    "# создаю отдельно выборки рейтинги платформ Xbox One и PC\n",
    "XOne = data_actual.query('platform == \"XOne\"')['user_score']\n",
    "PC = data_actual.query('platform == \"PC\"')['user_score']"
   ]
  },
  {
   "cell_type": "code",
   "execution_count": 60,
   "metadata": {},
   "outputs": [
    {
     "name": "stdout",
     "output_type": "stream",
     "text": [
      "Дисперсия по платформе XOne 1.91\n",
      "Дисперсия по платформе PC 3.04\n"
     ]
    }
   ],
   "source": [
    "print('Дисперсия по платформе XOne',np.var(XOne, ddof=1).round(2))\n",
    "print('Дисперсия по платформе PC',np.var(PC, ddof=1).round(2))"
   ]
  },
  {
   "cell_type": "markdown",
   "metadata": {},
   "source": [
    "Поскольку дисперсия отличается, предположим, что в equal_var нужно использовать параметр False."
   ]
  },
  {
   "cell_type": "code",
   "execution_count": 61,
   "metadata": {},
   "outputs": [
    {
     "name": "stdout",
     "output_type": "stream",
     "text": [
      "p-значение: 0.14759594013430463\n",
      "Не получилось отвергнуть нулевую гипотезу\n"
     ]
    }
   ],
   "source": [
    "\n",
    "results = st.ttest_ind(XOne.dropna(), PC.dropna(), equal_var=False)\n",
    "\n",
    "# alpha = задайте значение уровня значимости\n",
    "alpha = .05\n",
    "\n",
    "# вывод значения p-value на экран \n",
    "print('p-значение:', results.pvalue)\n",
    "\n",
    "# условный оператор с выводом строки с ответом\n",
    "if results.pvalue < alpha:\n",
    "    print('Отвергаем нулевую гипотезу')\n",
    "else:\n",
    "    print('Не получилось отвергнуть нулевую гипотезу') "
   ]
  },
  {
   "cell_type": "markdown",
   "metadata": {},
   "source": [
    "Вывод: Значение p-value равно 15%. Таким образом, не получилось опровергнуть Нулевую гипотезу. То есть, Средние пользовательские рейтинги платформ Xbox One и PC одинаковые.\n",
    "\n",
    "Для проверки вывода посчитаю средние пользовательские рейтинги платформ Xbox One и PC и проверю одинаковые ли они."
   ]
  },
  {
   "cell_type": "code",
   "execution_count": 62,
   "metadata": {},
   "outputs": [
    {
     "name": "stdout",
     "output_type": "stream",
     "text": [
      "Средний пользовательский рейтинг платформы XOne: 6.5\n",
      "Средний пользовательский рейтинг платформы PC: 6.3\n"
     ]
    }
   ],
   "source": [
    "print('Средний пользовательский рейтинг платформы XOne:', round(XOne.mean(), 1))\n",
    "print('Средний пользовательский рейтинг платформы PC:', round(PC.mean(), 1))"
   ]
  },
  {
   "cell_type": "markdown",
   "metadata": {},
   "source": [
    "В целом средние значения рейтингов и справду практичеси одинаковые и отличаются только на несколько десятых. "
   ]
  },
  {
   "cell_type": "markdown",
   "metadata": {},
   "source": [
    "Проверю следующую гипотезу\n",
    "\n",
    "2. Средние пользовательские рейтинги жанров Action (англ. «действие», экшен-игры) и Sports (англ. «спортивные соревнования») разные.\n",
    "\n",
    "\n",
    "\n",
    "    \n",
    "Имеем две генеральных совокупности: платформа Xbox One и PC.\n",
    "\n",
    "Сформулирую нулевую и  двустороннюю альтернативную гипотезу:\n",
    "\n",
    "```\n",
    "H_0: Средний пользовательский рейтинг (user_score) жанра Action = среднему пользовательскому рейтингу (user_score) жанра Sports`\n",
    "H_a: Средний пользовательский рейтинг (user_score) жанра Action ≠ среднему пользовательскому рейтингу (user_score) жанра Sports`\n",
    "Критерий значимости возьму 0.05\n",
    "```\n",
    "\n",
    "Чтобы проверить гипотезу о равенстве среднего двух генеральных совокупностей по взятым из них выборкам, применю метод scipy.stats.ttest_ind(array1, array2).\n",
    "\n",
    "Сначала создадам срезы по платформам. При этом анализирую данные за актуальный период. А также помню, что пропуски не были заполнены, поэтому для применения статистического метода они будут отброшены.\n",
    "\n",
    "</div>\n",
    "\n"
   ]
  },
  {
   "cell_type": "markdown",
   "metadata": {},
   "source": [
    "Анализ проведен для актуального периода 2013-2016 год.\n",
    "    \n",
    "Посчитаем дисперсии для совокупностей, чтобы определить параметр метода ttest.\n",
    "\n",
    "</div>"
   ]
  },
  {
   "cell_type": "code",
   "execution_count": 63,
   "metadata": {},
   "outputs": [],
   "source": [
    "# создаю отдельно выборки рейтинги жанров Action и Sports\n",
    "Action = data_actual.query('genre == \"Action\"')['user_score']\n",
    "Sports = data_actual.query('genre == \"Sports\"')['user_score']"
   ]
  },
  {
   "cell_type": "code",
   "execution_count": 64,
   "metadata": {
    "scrolled": true
   },
   "outputs": [
    {
     "name": "stdout",
     "output_type": "stream",
     "text": [
      "Дисперсия по рейтингам Action 1.77\n",
      "Дисперсия по рейтингам Sports 3.18\n"
     ]
    }
   ],
   "source": [
    "print('Дисперсия по рейтингам Action',np.var(Action, ddof=1).round(2))\n",
    "print('Дисперсия по рейтингам Sports',np.var(Sports, ddof=1).round(2))"
   ]
  },
  {
   "cell_type": "markdown",
   "metadata": {},
   "source": [
    "Поскольку дисперсия отличается, предположим, что в equal_var нужно использовать параметр False."
   ]
  },
  {
   "cell_type": "code",
   "execution_count": 65,
   "metadata": {},
   "outputs": [
    {
     "name": "stdout",
     "output_type": "stream",
     "text": [
      "p-значение: 1.4460039700704315e-20\n",
      "Отвергаем нулевую гипотезу\n"
     ]
    }
   ],
   "source": [
    "results = st.ttest_ind(Action.dropna(), Sports.dropna(), equal_var=False)\n",
    "\n",
    "# alpha = задайте значение уровня значимости\n",
    "alpha = .05\n",
    "\n",
    "# вывод значения p-value на экран \n",
    "print('p-значение:', results.pvalue)\n",
    "\n",
    "# условный оператор с выводом строки с ответом\n",
    "if results.pvalue < alpha:\n",
    "    print('Отвергаем нулевую гипотезу')\n",
    "else:\n",
    "    print('Не получилось отвергнуть нулевую гипотезу') "
   ]
  },
  {
   "cell_type": "markdown",
   "metadata": {},
   "source": [
    "Вывод: Значение p-value менее 5%. Таким образом, Отвергаем нулевую гипотезу. То есть, с вероятностью менее 5% можно получить разные рейтинги двух жанров Action и Sports."
   ]
  },
  {
   "cell_type": "markdown",
   "metadata": {},
   "source": [
    "Для проверки вывода посчитаю средние пользовательские рейтинги жанров Action и Sports и проверю вправду ли они разные."
   ]
  },
  {
   "cell_type": "code",
   "execution_count": 66,
   "metadata": {},
   "outputs": [
    {
     "name": "stdout",
     "output_type": "stream",
     "text": [
      "Средний пользовательский рейтинг жанра Action: 6.8\n",
      "Средний пользовательский рейтинг жанра Sports: 5.2\n"
     ]
    }
   ],
   "source": [
    "print('Средний пользовательский рейтинг жанра Action:', round(Action.mean(), 1))\n",
    "print('Средний пользовательский рейтинг жанра Sports:', round(Sports.mean(), 1))"
   ]
  },
  {
   "cell_type": "markdown",
   "metadata": {},
   "source": [
    "Да, все корректно, рейтинги и вправду различаются. Несильно, всего на целые, но различаются. Гипотеза проверена и подтверждена."
   ]
  },
  {
   "cell_type": "markdown",
   "metadata": {},
   "source": [
    "## Общий вывод\n",
    "\n",
    "Заказчик — интернет-магазин «Стримчик», который продаёт по всему миру компьютерные игры. Нужно выявить определяющие успешность игры закономерности. Результаты исследования позволит сделать ставку на потенциально популярный продукт и спланировать рекламные кампании.\n",
    "\n",
    "**Цель исследования** — выявить определяющие успешность игры закономерности. Это позволит сделать ставку на потенциально популярный продукт и спланировать рекламные кампании. Данны данные до 2016 года и я планирую кампанию на 2017-й.\n",
    "\n",
    "Необходимо провсти исследовательский анализ:\n",
    "1. Сколько игр выпускалось в разные годы. Важны ли данные за все периоды?\n",
    "2. Как менялись продажи по платформам. Для платформ с наибольшими суммарными продажами и построить распределение по годам. За какой характерный срок появляются новые и исчезают старые платформы?\n",
    "3. Какие платформы лидируют по продажам, растут или падают? \n",
    "4. Построить график «ящик с усами» по глобальным продажам игр в разбивке по платформам. Опиать результат.\n",
    "5. Как влияют на продажи внутри одной популярной платформы отзывы пользователей и критиков. Построить диаграмму рассеяния и посчитать корреляцию между отзывами и продажами.\n",
    "6. Что можно сказать о самых прибыльных жанрах? Выделяются ли жанры с высокими и низкими продажами?\n",
    "7. Необходимо составить портрет пользователя каждого региона\n",
    "\n",
    "Необходимо проверить гипотезы:\n",
    "1. Средние пользовательские рейтинги платформ Xbox One и PC одинаковые;\n",
    "2. Средние пользовательские рейтинги жанров Action (англ. «действие», экшен-игры) и Sports (англ. «спортивные соревнования») разные.\n",
    "\n",
    "## Описание данных\n",
    "\n",
    "* `Name` — название игры\n",
    "* `Platform` — платформа\n",
    "* `Year_of_Release` — год выпуска\n",
    "* `Genre` — жанр игры\n",
    "* `NA_sales` — продажи в Северной Америке (миллионы проданных копий)\n",
    "* `EU_sales` — продажи в Европе (миллионы проданных копий)\n",
    "* `JP_sales` — продажи в Японии (миллионы проданных копий)\n",
    "* `Other_sales` — продажи в других странах (миллионы проданных копий)\n",
    "* `Critic_Score` — оценка критиков (максимум 100)\n",
    "* `User_Score` — оценка пользователей (максимум 10)\n",
    "* `Rating` — рейтинг от организации ESRB (англ. Entertainment Software Rating Board). Эта ассоциация определяет рейтинг компьютерных игр и присваивает им подходящую возрастную категорию.\n",
    "\n",
    "**Обозначение рейтинга в столбце `Rating`:**\n",
    "* `E` - для всех;\n",
    "* `M` - для взрослых (от 17 лет и старше);\n",
    "* `T` - для подростков (от 13 лет и старше);\n",
    "* `E10+` - для всех (от 10 лет и старше);\n",
    "* `K-A` - для детей и взрослых. Этот рейтинг использовался до 1998 года, когда он был переименован в E.\n",
    "* `AO` - для взрослых (от 18 лет и старше);\n",
    "* `EC` - для детей младшего возраста (от 3 лет и старше);\n",
    "* `RP` - рейтинг ожидается. Данный логотип используется только на рекламных презентациях и в демо-версиях игр до официальной даты выпуска в продажу\n",
    "\n",
    "## Во время предобработки данных:\n",
    "\n",
    "1. Названия всех столбцов приведены к нижнему регистру;\n",
    "\n",
    "2. В столбцах `year_of_release`, `name`, `genre` были удалены строки с пропусками. Таких строк было меньше 1-2%, поэтому их удаление допустимо;\n",
    "\n",
    "3. В столбце `user_score` значение 'tbd' заменено на пустую строку. Пропуски в этом столбце не удалялись;\n",
    "\n",
    "4. В столбце `critic_score` пропуски были оставлены;\n",
    "\n",
    "5. В столбце `rating` пропуски заменены значением-флагом `unknown`;\n",
    "\n",
    "6. В столбце `year_of_release` заменен тип данных float на int;\n",
    "\n",
    "7. В столбце `user_score` заменен тип данных на float;\n",
    "\n",
    "8. Создан столбец `total_sales` со значениями суммарных продаж во всех регионах.\n",
    "\n",
    "9. Аномалий и дубликатов не выявлено.\n",
    "\n",
    "## Во время исследовательского анализы были сформулированы следующие выводы:\n",
    "\n",
    "1. ТОП-5 продаж за все время у платформ: PS2, X360, PS3, Wii, DS. \n",
    "2. В целом одна платформа может успешно продаваться в течении 10-25 лет.\n",
    "    \n",
    "3. Для прогноза рекламной компании лучше ориентироватеься на наиболее продаваемые платформы за 2013-2016 года: PS4, XOne. Также можно рассматривать платформу 3DS, однако ее показатели будут хуже чем у PS4, XOne.\n",
    "    \n",
    "4. Медианная величина продаж наибольшая у платформы X360, XOne, WiiU, PS3 и PS4. У всех данных имеется положительная скошенность, а также выбросы.\n",
    "5. Выявлена умеренная взаимосвязь между продажами и оценками критиков для платформы PS4. Значит отзывы критиков могут частично повлиять на продажи платформы. Однако, также выявлено, что отзывы пользователей не влияют на продажи.\n",
    "6. Предыдущий вывод подтвердился и для других платформ.\n",
    "   \n",
    "7. Популярные жанры: Action(боевик), Role-Playing (ролевые), Adventure (приключения), Sports(Спортивный симулятор), Shooter(стрелялка)\n",
    "8. Продаваемые жанры: Shooter(стрелялка), Sports(Спортивный симулятор), Platform (платформенные), Role-Playing (ролевые) и Fighting (драки).\n",
    "</div>\n",
    "\n",
    "## Во время составления портрета пользователя по регионам были сформулированы следующие выводы:\n",
    "\n",
    "   \n",
    "1. Самые продаваемые платформы в Северной Америке и Европе: ХOne, Х360, PS4. В Японии - 3DS, PS3, PSV.\n",
    "2. В Северной Америке и Европе лидируют по продажам жанры боевик и стрелялка(шутер). А в Японии лидеры ролевая игра (44%) и также боевики. Низкая продаваемость в Северной Америке - разное; в Европе - гонки; в Японии - стрелялки.\n",
    "3. В Северной Америке и Европе самые продаваемый игры с рейтингом для взрослых (от 17 лет и старше), для всех и игры не из США/Канады. В Японии - игры не из США/Канады, и рейтинги для всех и для подростков (от 13 лет и старше).\n",
    "</div>\n",
    "\n",
    "## Выводы после проверки гипотез:\n",
    "1. Средние пользовательские рейтинги платформ Xbox One и PC одинаковые.\n",
    "2. Средние пользовательские рейтинги жанров Action (англ. «действие», экшен-игры) и Sports (англ. «спортивные соревнования») разные\n",
    "\n",
    "\n",
    " \n",
    "## Рекомендации:\n",
    "1. Платфоормы для рекламы: PS4, XOne\n",
    "2. Жанры: Shooter(стрелялка), Sports(Спортивный симулятор)\n",
    "3. Рейтинг ESRB платформ для рекламы в Северной Америке и Европе - М, в Японии - Т\n",
    "4. На отзывы пользователей можно не обращать внимая, так как они не влияют на продажи. На отзывы критиков смотреть можно, но также особо заострять внимание не стоит.\n",
    "</div>"
   ]
  }
 ],
 "metadata": {
  "ExecuteTimeLog": [
   {
    "duration": 1389,
    "start_time": "2023-03-01T11:04:20.748Z"
   },
   {
    "duration": 106,
    "start_time": "2023-03-01T11:05:15.878Z"
   },
   {
    "duration": 19,
    "start_time": "2023-03-01T11:05:38.700Z"
   },
   {
    "duration": 16,
    "start_time": "2023-03-01T11:05:57.704Z"
   },
   {
    "duration": 626,
    "start_time": "2023-03-01T11:06:29.642Z"
   },
   {
    "duration": 4,
    "start_time": "2023-03-01T11:07:27.042Z"
   },
   {
    "duration": 13,
    "start_time": "2023-03-01T11:07:35.255Z"
   },
   {
    "duration": 61,
    "start_time": "2023-03-01T11:08:04.295Z"
   },
   {
    "duration": 10,
    "start_time": "2023-03-01T11:08:32.258Z"
   },
   {
    "duration": 6,
    "start_time": "2023-03-01T11:08:51.742Z"
   },
   {
    "duration": 1286,
    "start_time": "2023-03-01T11:09:14.041Z"
   },
   {
    "duration": 1426,
    "start_time": "2023-03-01T11:09:22.980Z"
   },
   {
    "duration": 1337,
    "start_time": "2023-03-01T11:09:31.638Z"
   },
   {
    "duration": 6,
    "start_time": "2023-03-01T11:09:55.854Z"
   },
   {
    "duration": 6,
    "start_time": "2023-03-01T11:10:14.438Z"
   },
   {
    "duration": 17,
    "start_time": "2023-03-01T11:10:33.375Z"
   },
   {
    "duration": 5,
    "start_time": "2023-03-01T11:11:00.370Z"
   },
   {
    "duration": 21,
    "start_time": "2023-03-01T11:11:19.369Z"
   },
   {
    "duration": 6,
    "start_time": "2023-03-01T11:11:39.843Z"
   },
   {
    "duration": 6,
    "start_time": "2023-03-01T11:11:47.712Z"
   },
   {
    "duration": 21,
    "start_time": "2023-03-01T11:12:03.780Z"
   },
   {
    "duration": 5,
    "start_time": "2023-03-01T11:12:21.878Z"
   },
   {
    "duration": 5,
    "start_time": "2023-03-01T11:12:29.714Z"
   },
   {
    "duration": 14,
    "start_time": "2023-03-01T11:12:50.069Z"
   },
   {
    "duration": 39,
    "start_time": "2023-03-01T11:13:07.105Z"
   },
   {
    "duration": 12,
    "start_time": "2023-03-01T11:13:30.177Z"
   },
   {
    "duration": 11,
    "start_time": "2023-03-01T11:13:38.708Z"
   },
   {
    "duration": 14,
    "start_time": "2023-03-01T11:14:01.772Z"
   },
   {
    "duration": 6,
    "start_time": "2023-03-01T11:14:21.279Z"
   },
   {
    "duration": 6,
    "start_time": "2023-03-01T11:14:31.537Z"
   },
   {
    "duration": 6,
    "start_time": "2023-03-01T11:14:38.697Z"
   },
   {
    "duration": 9,
    "start_time": "2023-03-01T11:14:58.789Z"
   },
   {
    "duration": 15,
    "start_time": "2023-03-01T11:15:06.220Z"
   },
   {
    "duration": 18,
    "start_time": "2023-03-01T11:15:15.456Z"
   },
   {
    "duration": 6,
    "start_time": "2023-03-01T11:15:32.042Z"
   },
   {
    "duration": 17,
    "start_time": "2023-03-01T11:15:45.612Z"
   },
   {
    "duration": 372,
    "start_time": "2023-03-01T11:16:19.989Z"
   },
   {
    "duration": 369,
    "start_time": "2023-03-01T11:16:43.596Z"
   },
   {
    "duration": 804,
    "start_time": "2023-03-01T11:17:21.967Z"
   },
   {
    "duration": 302,
    "start_time": "2023-03-01T11:17:48.078Z"
   },
   {
    "duration": 133,
    "start_time": "2023-03-01T11:18:09.542Z"
   },
   {
    "duration": 4,
    "start_time": "2023-03-01T11:18:41.642Z"
   },
   {
    "duration": 307,
    "start_time": "2023-03-01T11:18:53.667Z"
   },
   {
    "duration": 289,
    "start_time": "2023-03-01T11:19:20.097Z"
   },
   {
    "duration": 288,
    "start_time": "2023-03-01T11:19:40.543Z"
   },
   {
    "duration": 178,
    "start_time": "2023-03-01T11:20:03.393Z"
   },
   {
    "duration": 10,
    "start_time": "2023-03-01T11:20:23.846Z"
   },
   {
    "duration": 9,
    "start_time": "2023-03-01T11:20:32.513Z"
   },
   {
    "duration": 171,
    "start_time": "2023-03-01T11:20:49.695Z"
   },
   {
    "duration": 13,
    "start_time": "2023-03-01T11:21:08.559Z"
   },
   {
    "duration": 14,
    "start_time": "2023-03-01T11:21:24.316Z"
   },
   {
    "duration": 29,
    "start_time": "2023-03-01T11:21:31.898Z"
   },
   {
    "duration": 214,
    "start_time": "2023-03-01T11:21:52.812Z"
   },
   {
    "duration": 202,
    "start_time": "2023-03-01T11:22:08.543Z"
   },
   {
    "duration": 450,
    "start_time": "2023-03-01T11:22:28.543Z"
   },
   {
    "duration": 401,
    "start_time": "2023-03-01T11:22:47.058Z"
   },
   {
    "duration": 449,
    "start_time": "2023-03-01T11:23:08.475Z"
   },
   {
    "duration": 20,
    "start_time": "2023-03-01T11:23:25.918Z"
   },
   {
    "duration": 17,
    "start_time": "2023-03-01T11:23:44.504Z"
   },
   {
    "duration": 1261,
    "start_time": "2023-03-01T11:24:35.181Z"
   },
   {
    "duration": 51,
    "start_time": "2023-03-01T11:24:36.445Z"
   },
   {
    "duration": 20,
    "start_time": "2023-03-01T11:24:36.498Z"
   },
   {
    "duration": 22,
    "start_time": "2023-03-01T11:24:36.521Z"
   },
   {
    "duration": 621,
    "start_time": "2023-03-01T11:24:36.545Z"
   },
   {
    "duration": 4,
    "start_time": "2023-03-01T11:24:37.168Z"
   },
   {
    "duration": 48,
    "start_time": "2023-03-01T11:24:37.174Z"
   },
   {
    "duration": 110,
    "start_time": "2023-03-01T11:24:37.224Z"
   },
   {
    "duration": 10,
    "start_time": "2023-03-01T11:24:37.335Z"
   },
   {
    "duration": 6,
    "start_time": "2023-03-01T11:24:37.348Z"
   },
   {
    "duration": 1335,
    "start_time": "2023-03-01T11:24:37.355Z"
   },
   {
    "duration": 4,
    "start_time": "2023-03-01T11:24:38.692Z"
   },
   {
    "duration": 8,
    "start_time": "2023-03-01T11:24:38.698Z"
   },
   {
    "duration": 18,
    "start_time": "2023-03-01T11:24:38.722Z"
   },
   {
    "duration": 13,
    "start_time": "2023-03-01T11:24:38.742Z"
   },
   {
    "duration": 19,
    "start_time": "2023-03-01T11:24:38.757Z"
   },
   {
    "duration": 5,
    "start_time": "2023-03-01T11:24:38.778Z"
   },
   {
    "duration": 38,
    "start_time": "2023-03-01T11:24:38.785Z"
   },
   {
    "duration": 26,
    "start_time": "2023-03-01T11:24:38.825Z"
   },
   {
    "duration": 5,
    "start_time": "2023-03-01T11:24:38.852Z"
   },
   {
    "duration": 7,
    "start_time": "2023-03-01T11:24:38.859Z"
   },
   {
    "duration": 14,
    "start_time": "2023-03-01T11:24:38.867Z"
   },
   {
    "duration": 58,
    "start_time": "2023-03-01T11:24:38.882Z"
   },
   {
    "duration": 13,
    "start_time": "2023-03-01T11:24:38.942Z"
   },
   {
    "duration": 5,
    "start_time": "2023-03-01T11:24:38.957Z"
   },
   {
    "duration": 24,
    "start_time": "2023-03-01T11:24:38.964Z"
   },
   {
    "duration": 9,
    "start_time": "2023-03-01T11:24:38.990Z"
   },
   {
    "duration": 14,
    "start_time": "2023-03-01T11:24:39.023Z"
   },
   {
    "duration": 19,
    "start_time": "2023-03-01T11:24:39.039Z"
   },
   {
    "duration": 15,
    "start_time": "2023-03-01T11:24:39.060Z"
   },
   {
    "duration": 5,
    "start_time": "2023-03-01T11:24:39.076Z"
   },
   {
    "duration": 41,
    "start_time": "2023-03-01T11:24:39.082Z"
   },
   {
    "duration": 367,
    "start_time": "2023-03-01T11:24:39.126Z"
   },
   {
    "duration": 410,
    "start_time": "2023-03-01T11:24:39.495Z"
   },
   {
    "duration": 809,
    "start_time": "2023-03-01T11:24:39.907Z"
   },
   {
    "duration": 219,
    "start_time": "2023-03-01T11:24:40.718Z"
   },
   {
    "duration": 3,
    "start_time": "2023-03-01T11:24:40.939Z"
   },
   {
    "duration": 314,
    "start_time": "2023-03-01T11:24:40.943Z"
   },
   {
    "duration": 257,
    "start_time": "2023-03-01T11:24:41.259Z"
   },
   {
    "duration": 294,
    "start_time": "2023-03-01T11:24:41.517Z"
   },
   {
    "duration": 181,
    "start_time": "2023-03-01T11:24:41.813Z"
   },
   {
    "duration": 6,
    "start_time": "2023-03-01T11:24:41.996Z"
   },
   {
    "duration": 18,
    "start_time": "2023-03-01T11:24:42.004Z"
   },
   {
    "duration": 283,
    "start_time": "2023-03-01T11:24:42.024Z"
   },
   {
    "duration": 11,
    "start_time": "2023-03-01T11:24:42.320Z"
   },
   {
    "duration": 28,
    "start_time": "2023-03-01T11:24:42.333Z"
   },
   {
    "duration": 26,
    "start_time": "2023-03-01T11:24:42.362Z"
   },
   {
    "duration": 206,
    "start_time": "2023-03-01T11:24:42.390Z"
   },
   {
    "duration": 223,
    "start_time": "2023-03-01T11:24:42.598Z"
   },
   {
    "duration": 358,
    "start_time": "2023-03-01T11:24:42.823Z"
   },
   {
    "duration": 397,
    "start_time": "2023-03-01T11:24:43.182Z"
   },
   {
    "duration": 474,
    "start_time": "2023-03-01T11:24:43.581Z"
   },
   {
    "duration": 16,
    "start_time": "2023-03-01T11:24:44.057Z"
   },
   {
    "duration": 22,
    "start_time": "2023-03-01T11:24:44.074Z"
   },
   {
    "duration": 1121,
    "start_time": "2023-03-01T11:31:47.756Z"
   },
   {
    "duration": 98,
    "start_time": "2023-03-01T11:31:48.879Z"
   },
   {
    "duration": 16,
    "start_time": "2023-03-01T11:31:48.979Z"
   },
   {
    "duration": 15,
    "start_time": "2023-03-01T11:31:48.997Z"
   },
   {
    "duration": 566,
    "start_time": "2023-03-01T11:31:49.014Z"
   },
   {
    "duration": 4,
    "start_time": "2023-03-01T11:31:49.582Z"
   },
   {
    "duration": 14,
    "start_time": "2023-03-01T11:31:49.587Z"
   },
   {
    "duration": 79,
    "start_time": "2023-03-01T11:31:49.603Z"
   },
   {
    "duration": 10,
    "start_time": "2023-03-01T11:31:49.684Z"
   },
   {
    "duration": 6,
    "start_time": "2023-03-01T11:31:49.695Z"
   },
   {
    "duration": 1235,
    "start_time": "2023-03-01T11:31:49.702Z"
   },
   {
    "duration": 22,
    "start_time": "2023-03-01T11:31:50.938Z"
   },
   {
    "duration": 12,
    "start_time": "2023-03-01T11:31:50.961Z"
   },
   {
    "duration": 19,
    "start_time": "2023-03-01T11:31:50.976Z"
   },
   {
    "duration": 5,
    "start_time": "2023-03-01T11:31:50.997Z"
   },
   {
    "duration": 18,
    "start_time": "2023-03-01T11:31:51.003Z"
   },
   {
    "duration": 5,
    "start_time": "2023-03-01T11:31:51.022Z"
   },
   {
    "duration": 9,
    "start_time": "2023-03-01T11:31:51.046Z"
   },
   {
    "duration": 16,
    "start_time": "2023-03-01T11:31:51.057Z"
   },
   {
    "duration": 5,
    "start_time": "2023-03-01T11:31:51.074Z"
   },
   {
    "duration": 8,
    "start_time": "2023-03-01T11:31:51.081Z"
   },
   {
    "duration": 18,
    "start_time": "2023-03-01T11:31:51.091Z"
   },
   {
    "duration": 49,
    "start_time": "2023-03-01T11:31:51.110Z"
   },
   {
    "duration": 14,
    "start_time": "2023-03-01T11:31:51.161Z"
   },
   {
    "duration": 5,
    "start_time": "2023-03-01T11:31:51.176Z"
   },
   {
    "duration": 8,
    "start_time": "2023-03-01T11:31:51.183Z"
   },
   {
    "duration": 8,
    "start_time": "2023-03-01T11:31:51.192Z"
   },
   {
    "duration": 9,
    "start_time": "2023-03-01T11:31:51.201Z"
   },
   {
    "duration": 35,
    "start_time": "2023-03-01T11:31:51.211Z"
   },
   {
    "duration": 22,
    "start_time": "2023-03-01T11:31:51.248Z"
   },
   {
    "duration": 5,
    "start_time": "2023-03-01T11:31:51.272Z"
   },
   {
    "duration": 14,
    "start_time": "2023-03-01T11:31:51.279Z"
   },
   {
    "duration": 363,
    "start_time": "2023-03-01T11:31:51.294Z"
   },
   {
    "duration": 422,
    "start_time": "2023-03-01T11:31:51.659Z"
   },
   {
    "duration": 783,
    "start_time": "2023-03-01T11:31:52.083Z"
   },
   {
    "duration": 189,
    "start_time": "2023-03-01T11:31:52.868Z"
   },
   {
    "duration": 4,
    "start_time": "2023-03-01T11:31:53.059Z"
   },
   {
    "duration": 268,
    "start_time": "2023-03-01T11:31:53.066Z"
   },
   {
    "duration": 241,
    "start_time": "2023-03-01T11:31:53.339Z"
   },
   {
    "duration": 275,
    "start_time": "2023-03-01T11:31:53.582Z"
   },
   {
    "duration": 154,
    "start_time": "2023-03-01T11:31:53.861Z"
   },
   {
    "duration": 7,
    "start_time": "2023-03-01T11:31:54.016Z"
   },
   {
    "duration": 27,
    "start_time": "2023-03-01T11:31:54.024Z"
   },
   {
    "duration": 241,
    "start_time": "2023-03-01T11:31:54.053Z"
   },
   {
    "duration": 9,
    "start_time": "2023-03-01T11:31:54.296Z"
   },
   {
    "duration": 15,
    "start_time": "2023-03-01T11:31:54.306Z"
   },
   {
    "duration": 37,
    "start_time": "2023-03-01T11:31:54.323Z"
   },
   {
    "duration": 187,
    "start_time": "2023-03-01T11:31:54.362Z"
   },
   {
    "duration": 198,
    "start_time": "2023-03-01T11:31:54.550Z"
   },
   {
    "duration": 319,
    "start_time": "2023-03-01T11:31:54.750Z"
   },
   {
    "duration": 356,
    "start_time": "2023-03-01T11:31:55.071Z"
   },
   {
    "duration": 437,
    "start_time": "2023-03-01T11:31:55.428Z"
   },
   {
    "duration": 15,
    "start_time": "2023-03-01T11:31:55.867Z"
   },
   {
    "duration": 25,
    "start_time": "2023-03-01T11:31:55.883Z"
   },
   {
    "duration": 82,
    "start_time": "2023-03-01T18:41:28.642Z"
   },
   {
    "duration": 1352,
    "start_time": "2023-03-03T11:08:30.746Z"
   },
   {
    "duration": 177,
    "start_time": "2023-03-03T11:08:34.924Z"
   },
   {
    "duration": 16,
    "start_time": "2023-03-03T11:08:38.605Z"
   },
   {
    "duration": 1143,
    "start_time": "2023-03-03T11:08:54.675Z"
   },
   {
    "duration": 55,
    "start_time": "2023-03-03T11:08:55.820Z"
   },
   {
    "duration": 17,
    "start_time": "2023-03-03T11:08:55.877Z"
   },
   {
    "duration": 16,
    "start_time": "2023-03-03T11:08:55.896Z"
   },
   {
    "duration": 595,
    "start_time": "2023-03-03T11:08:55.913Z"
   },
   {
    "duration": 3,
    "start_time": "2023-03-03T11:08:56.510Z"
   },
   {
    "duration": 11,
    "start_time": "2023-03-03T11:08:56.515Z"
   },
   {
    "duration": 65,
    "start_time": "2023-03-03T11:08:56.527Z"
   },
   {
    "duration": 9,
    "start_time": "2023-03-03T11:08:56.593Z"
   },
   {
    "duration": 4,
    "start_time": "2023-03-03T11:08:56.605Z"
   },
   {
    "duration": 1130,
    "start_time": "2023-03-03T11:08:56.610Z"
   },
   {
    "duration": 5,
    "start_time": "2023-03-03T11:08:57.741Z"
   },
   {
    "duration": 5,
    "start_time": "2023-03-03T11:08:57.755Z"
   },
   {
    "duration": 14,
    "start_time": "2023-03-03T11:08:57.762Z"
   },
   {
    "duration": 5,
    "start_time": "2023-03-03T11:08:57.778Z"
   },
   {
    "duration": 24,
    "start_time": "2023-03-03T11:08:57.785Z"
   },
   {
    "duration": 5,
    "start_time": "2023-03-03T11:08:57.811Z"
   },
   {
    "duration": 6,
    "start_time": "2023-03-03T11:08:57.818Z"
   },
   {
    "duration": 15,
    "start_time": "2023-03-03T11:08:57.856Z"
   },
   {
    "duration": 5,
    "start_time": "2023-03-03T11:08:57.872Z"
   },
   {
    "duration": 5,
    "start_time": "2023-03-03T11:08:57.879Z"
   },
   {
    "duration": 12,
    "start_time": "2023-03-03T11:08:57.885Z"
   },
   {
    "duration": 58,
    "start_time": "2023-03-03T11:08:57.898Z"
   },
   {
    "duration": 13,
    "start_time": "2023-03-03T11:08:57.958Z"
   },
   {
    "duration": 5,
    "start_time": "2023-03-03T11:08:57.973Z"
   },
   {
    "duration": 4,
    "start_time": "2023-03-03T11:08:57.980Z"
   },
   {
    "duration": 6,
    "start_time": "2023-03-03T11:08:57.985Z"
   },
   {
    "duration": 8,
    "start_time": "2023-03-03T11:08:57.995Z"
   },
   {
    "duration": 12,
    "start_time": "2023-03-03T11:08:58.005Z"
   },
   {
    "duration": 50,
    "start_time": "2023-03-03T11:08:58.018Z"
   },
   {
    "duration": 6,
    "start_time": "2023-03-03T11:08:58.069Z"
   },
   {
    "duration": 13,
    "start_time": "2023-03-03T11:08:58.077Z"
   },
   {
    "duration": 101,
    "start_time": "2023-03-03T11:08:58.091Z"
   },
   {
    "duration": 305,
    "start_time": "2023-03-03T11:08:58.194Z"
   },
   {
    "duration": 341,
    "start_time": "2023-03-03T11:08:58.501Z"
   },
   {
    "duration": 696,
    "start_time": "2023-03-03T11:08:58.843Z"
   },
   {
    "duration": 200,
    "start_time": "2023-03-03T11:08:59.540Z"
   },
   {
    "duration": 3,
    "start_time": "2023-03-03T11:08:59.741Z"
   },
   {
    "duration": 268,
    "start_time": "2023-03-03T11:08:59.755Z"
   },
   {
    "duration": 229,
    "start_time": "2023-03-03T11:09:00.024Z"
   },
   {
    "duration": 262,
    "start_time": "2023-03-03T11:09:00.255Z"
   },
   {
    "duration": 233,
    "start_time": "2023-03-03T11:09:00.518Z"
   },
   {
    "duration": 8,
    "start_time": "2023-03-03T11:09:00.755Z"
   },
   {
    "duration": 34,
    "start_time": "2023-03-03T11:09:00.765Z"
   },
   {
    "duration": 166,
    "start_time": "2023-03-03T11:09:00.801Z"
   },
   {
    "duration": 8,
    "start_time": "2023-03-03T11:09:00.969Z"
   },
   {
    "duration": 33,
    "start_time": "2023-03-03T11:09:00.978Z"
   },
   {
    "duration": 67,
    "start_time": "2023-03-03T11:09:01.013Z"
   },
   {
    "duration": 203,
    "start_time": "2023-03-03T11:09:01.081Z"
   },
   {
    "duration": 207,
    "start_time": "2023-03-03T11:09:01.285Z"
   },
   {
    "duration": 322,
    "start_time": "2023-03-03T11:09:01.494Z"
   },
   {
    "duration": 316,
    "start_time": "2023-03-03T11:09:01.818Z"
   },
   {
    "duration": 419,
    "start_time": "2023-03-03T11:09:02.136Z"
   },
   {
    "duration": 16,
    "start_time": "2023-03-03T11:09:02.558Z"
   },
   {
    "duration": 37,
    "start_time": "2023-03-03T11:09:02.576Z"
   },
   {
    "duration": 13,
    "start_time": "2023-03-03T11:14:16.075Z"
   },
   {
    "duration": 4,
    "start_time": "2023-03-03T11:14:33.846Z"
   },
   {
    "duration": 734,
    "start_time": "2023-03-03T11:14:43.415Z"
   },
   {
    "duration": 7,
    "start_time": "2023-03-03T11:16:38.617Z"
   },
   {
    "duration": 171,
    "start_time": "2023-03-03T11:17:43.101Z"
   },
   {
    "duration": 177,
    "start_time": "2023-03-03T11:17:48.929Z"
   },
   {
    "duration": 9,
    "start_time": "2023-03-03T11:19:23.499Z"
   },
   {
    "duration": 668,
    "start_time": "2023-03-03T11:19:41.649Z"
   },
   {
    "duration": 219,
    "start_time": "2023-03-03T11:21:30.312Z"
   },
   {
    "duration": 282,
    "start_time": "2023-03-03T11:22:02.279Z"
   },
   {
    "duration": 308,
    "start_time": "2023-03-03T11:22:13.881Z"
   },
   {
    "duration": 145,
    "start_time": "2023-03-03T11:22:56.486Z"
   },
   {
    "duration": 9,
    "start_time": "2023-03-03T11:23:46.941Z"
   },
   {
    "duration": 147,
    "start_time": "2023-03-03T11:24:36.121Z"
   },
   {
    "duration": 9,
    "start_time": "2023-03-03T11:24:47.259Z"
   },
   {
    "duration": 16,
    "start_time": "2023-03-03T11:25:12.127Z"
   },
   {
    "duration": 1133,
    "start_time": "2023-03-03T11:26:00.316Z"
   },
   {
    "duration": 178,
    "start_time": "2023-03-03T11:27:08.711Z"
   },
   {
    "duration": 175,
    "start_time": "2023-03-03T11:27:50.821Z"
   },
   {
    "duration": 244,
    "start_time": "2023-03-03T11:28:14.747Z"
   },
   {
    "duration": 275,
    "start_time": "2023-03-03T11:29:13.891Z"
   },
   {
    "duration": 289,
    "start_time": "2023-03-03T11:30:04.499Z"
   },
   {
    "duration": 153,
    "start_time": "2023-03-03T11:31:08.462Z"
   },
   {
    "duration": 282,
    "start_time": "2023-03-03T11:31:37.733Z"
   },
   {
    "duration": 414,
    "start_time": "2023-03-03T11:32:22.836Z"
   },
   {
    "duration": 16,
    "start_time": "2023-03-03T11:34:06.711Z"
   },
   {
    "duration": 10,
    "start_time": "2023-03-03T11:34:45.591Z"
   },
   {
    "duration": 495,
    "start_time": "2023-03-03T11:39:41.873Z"
   },
   {
    "duration": 7,
    "start_time": "2023-03-03T11:40:17.716Z"
   },
   {
    "duration": 556,
    "start_time": "2023-03-03T11:40:21.891Z"
   },
   {
    "duration": 627,
    "start_time": "2023-03-03T11:40:30.471Z"
   },
   {
    "duration": 4,
    "start_time": "2023-03-03T11:41:13.324Z"
   },
   {
    "duration": 6,
    "start_time": "2023-03-03T11:42:24.356Z"
   },
   {
    "duration": 6,
    "start_time": "2023-03-03T11:42:58.271Z"
   },
   {
    "duration": 4,
    "start_time": "2023-03-03T11:43:36.616Z"
   },
   {
    "duration": 9,
    "start_time": "2023-03-03T11:43:42.560Z"
   },
   {
    "duration": 47,
    "start_time": "2023-03-03T11:46:16.335Z"
   },
   {
    "duration": 4,
    "start_time": "2023-03-03T11:46:19.280Z"
   },
   {
    "duration": 3,
    "start_time": "2023-03-03T11:46:28.770Z"
   },
   {
    "duration": 3,
    "start_time": "2023-03-03T11:49:49.132Z"
   },
   {
    "duration": 4,
    "start_time": "2023-03-03T11:50:01.668Z"
   },
   {
    "duration": 5,
    "start_time": "2023-03-03T11:50:44.896Z"
   },
   {
    "duration": 6,
    "start_time": "2023-03-03T11:50:52.095Z"
   },
   {
    "duration": 4,
    "start_time": "2023-03-03T11:52:52.427Z"
   },
   {
    "duration": 1089,
    "start_time": "2023-03-03T11:57:37.216Z"
   },
   {
    "duration": 57,
    "start_time": "2023-03-03T11:57:38.307Z"
   },
   {
    "duration": 17,
    "start_time": "2023-03-03T11:57:38.365Z"
   },
   {
    "duration": 13,
    "start_time": "2023-03-03T11:57:38.385Z"
   },
   {
    "duration": 532,
    "start_time": "2023-03-03T11:57:38.400Z"
   },
   {
    "duration": 4,
    "start_time": "2023-03-03T11:57:38.934Z"
   },
   {
    "duration": 22,
    "start_time": "2023-03-03T11:57:38.940Z"
   },
   {
    "duration": 52,
    "start_time": "2023-03-03T11:57:38.964Z"
   },
   {
    "duration": 8,
    "start_time": "2023-03-03T11:57:39.018Z"
   },
   {
    "duration": 9,
    "start_time": "2023-03-03T11:57:39.028Z"
   },
   {
    "duration": 1051,
    "start_time": "2023-03-03T11:57:39.055Z"
   },
   {
    "duration": 4,
    "start_time": "2023-03-03T11:57:40.108Z"
   },
   {
    "duration": 8,
    "start_time": "2023-03-03T11:57:40.114Z"
   },
   {
    "duration": 16,
    "start_time": "2023-03-03T11:57:40.123Z"
   },
   {
    "duration": 5,
    "start_time": "2023-03-03T11:57:40.155Z"
   },
   {
    "duration": 17,
    "start_time": "2023-03-03T11:57:40.161Z"
   },
   {
    "duration": 4,
    "start_time": "2023-03-03T11:57:40.180Z"
   },
   {
    "duration": 8,
    "start_time": "2023-03-03T11:57:40.185Z"
   },
   {
    "duration": 18,
    "start_time": "2023-03-03T11:57:40.194Z"
   },
   {
    "duration": 4,
    "start_time": "2023-03-03T11:57:40.213Z"
   },
   {
    "duration": 41,
    "start_time": "2023-03-03T11:57:40.218Z"
   },
   {
    "duration": 23,
    "start_time": "2023-03-03T11:57:40.260Z"
   },
   {
    "duration": 34,
    "start_time": "2023-03-03T11:57:40.285Z"
   },
   {
    "duration": 12,
    "start_time": "2023-03-03T11:57:40.321Z"
   },
   {
    "duration": 5,
    "start_time": "2023-03-03T11:57:40.356Z"
   },
   {
    "duration": 6,
    "start_time": "2023-03-03T11:57:40.363Z"
   },
   {
    "duration": 7,
    "start_time": "2023-03-03T11:57:40.371Z"
   },
   {
    "duration": 8,
    "start_time": "2023-03-03T11:57:40.382Z"
   },
   {
    "duration": 11,
    "start_time": "2023-03-03T11:57:40.391Z"
   },
   {
    "duration": 51,
    "start_time": "2023-03-03T11:57:40.404Z"
   },
   {
    "duration": 4,
    "start_time": "2023-03-03T11:57:40.457Z"
   },
   {
    "duration": 15,
    "start_time": "2023-03-03T11:57:40.462Z"
   },
   {
    "duration": 89,
    "start_time": "2023-03-03T11:57:40.479Z"
   },
   {
    "duration": 297,
    "start_time": "2023-03-03T11:57:40.570Z"
   },
   {
    "duration": 350,
    "start_time": "2023-03-03T11:57:40.868Z"
   },
   {
    "duration": 649,
    "start_time": "2023-03-03T11:57:41.220Z"
   },
   {
    "duration": 13,
    "start_time": "2023-03-03T11:57:41.870Z"
   },
   {
    "duration": 9,
    "start_time": "2023-03-03T11:57:41.884Z"
   },
   {
    "duration": 669,
    "start_time": "2023-03-03T11:57:41.895Z"
   },
   {
    "duration": 6,
    "start_time": "2023-03-03T11:57:42.566Z"
   },
   {
    "duration": 174,
    "start_time": "2023-03-03T11:57:42.573Z"
   },
   {
    "duration": 10,
    "start_time": "2023-03-03T11:57:42.755Z"
   },
   {
    "duration": 697,
    "start_time": "2023-03-03T11:57:42.767Z"
   },
   {
    "duration": 231,
    "start_time": "2023-03-03T11:57:43.467Z"
   },
   {
    "duration": 227,
    "start_time": "2023-03-03T11:57:43.701Z"
   },
   {
    "duration": 170,
    "start_time": "2023-03-03T11:57:43.930Z"
   },
   {
    "duration": 8,
    "start_time": "2023-03-03T11:57:44.102Z"
   },
   {
    "duration": 152,
    "start_time": "2023-03-03T11:57:44.112Z"
   },
   {
    "duration": 9,
    "start_time": "2023-03-03T11:57:44.265Z"
   },
   {
    "duration": 29,
    "start_time": "2023-03-03T11:57:44.276Z"
   },
   {
    "duration": 1236,
    "start_time": "2023-03-03T11:57:44.307Z"
   },
   {
    "duration": 182,
    "start_time": "2023-03-03T11:57:45.544Z"
   },
   {
    "duration": 199,
    "start_time": "2023-03-03T11:57:45.727Z"
   },
   {
    "duration": 179,
    "start_time": "2023-03-03T11:57:45.927Z"
   },
   {
    "duration": 284,
    "start_time": "2023-03-03T11:57:46.108Z"
   },
   {
    "duration": 297,
    "start_time": "2023-03-03T11:57:46.394Z"
   },
   {
    "duration": 363,
    "start_time": "2023-03-03T11:57:46.693Z"
   },
   {
    "duration": 485,
    "start_time": "2023-03-03T11:57:47.057Z"
   },
   {
    "duration": 13,
    "start_time": "2023-03-03T11:57:47.543Z"
   },
   {
    "duration": 5,
    "start_time": "2023-03-03T11:57:47.557Z"
   },
   {
    "duration": 14,
    "start_time": "2023-03-03T11:57:47.563Z"
   },
   {
    "duration": 7,
    "start_time": "2023-03-03T11:57:47.579Z"
   },
   {
    "duration": 17,
    "start_time": "2023-03-03T11:57:47.588Z"
   },
   {
    "duration": 7,
    "start_time": "2023-03-03T11:57:47.607Z"
   },
   {
    "duration": 5,
    "start_time": "2023-03-03T11:57:47.615Z"
   },
   {
    "duration": 5,
    "start_time": "2023-03-03T11:57:47.621Z"
   },
   {
    "duration": 267,
    "start_time": "2023-03-03T11:58:49.593Z"
   },
   {
    "duration": 255,
    "start_time": "2023-03-03T11:58:54.555Z"
   }
  ],
  "kernelspec": {
   "display_name": "Python 3 (ipykernel)",
   "language": "python",
   "name": "python3"
  },
  "language_info": {
   "codemirror_mode": {
    "name": "ipython",
    "version": 3
   },
   "file_extension": ".py",
   "mimetype": "text/x-python",
   "name": "python",
   "nbconvert_exporter": "python",
   "pygments_lexer": "ipython3",
   "version": "3.9.13"
  },
  "toc": {
   "base_numbering": 1,
   "nav_menu": {},
   "number_sections": true,
   "sideBar": true,
   "skip_h1_title": true,
   "title_cell": "Содержание",
   "title_sidebar": "Contents",
   "toc_cell": true,
   "toc_position": {
    "height": "calc(100% - 180px)",
    "left": "10px",
    "top": "150px",
    "width": "165px"
   },
   "toc_section_display": true,
   "toc_window_display": false
  }
 },
 "nbformat": 4,
 "nbformat_minor": 2
}
