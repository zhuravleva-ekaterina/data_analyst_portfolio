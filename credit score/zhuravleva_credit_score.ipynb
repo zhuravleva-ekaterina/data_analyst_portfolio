{
 "cells": [
  {
   "cell_type": "markdown",
   "id": "7d381d4c",
   "metadata": {},
   "source": [
    "# Исследование надежности заемщиков"
   ]
  },
  {
   "cell_type": "markdown",
   "id": "934e3fb8",
   "metadata": {},
   "source": [
    "**Цель исследования** — определить какие параметры влияют на факт погашения кредита в срок.\n",
    "\n",
    "Необходимо проверить следующие зависимости:\n",
    "1. Есть ли зависимость между количеством детей и возвратом кредита в срок?\n",
    "2. Есть ли зависимость между семейным положением и возвратом кредита в срок?\n",
    "3. Есть ли зависимость между уровнем дохода и возвратом кредита в срок?\n",
    "4. Как разные цели кредита влияют на его возврат в срок?"
   ]
  },
  {
   "cell_type": "markdown",
   "id": "45baf3c4",
   "metadata": {},
   "source": [
    "**Описание проекта**\n",
    "\n",
    "Заказчик — кредитный отдел банка. Нужно разобраться, влияет ли семейное положение и количество детей клиента на факт погашения кредита в срок. Входные данные от банка — статистика о платёжеспособности клиентов.\n",
    "\n",
    "Результаты исследования будут учтены при построении модели кредитного скоринга — специальной системы, которая оценивает способность потенциального заёмщика вернуть кредит банку.\n",
    "\n",
    "О качестве данных ничего не известно. Поэтому перед проверкой гипотез понадобится обзор данных. Я проверю данные на ошибки и оценю их влияние на исследование. Затем, на этапе предобработки буду искать возможность исправить самые критичные ошибки данных.\n",
    " \n",
    "Таким образом, исследование пройдёт в три этапа:\n",
    " 1. Обзор данных.\n",
    " 2. Предобработка данных.\n",
    " 3. Проверка гипотез."
   ]
  },
  {
   "cell_type": "markdown",
   "id": "955743b0",
   "metadata": {},
   "source": [
    "## Описание данных"
   ]
  },
  {
   "cell_type": "markdown",
   "id": "6bdd2915",
   "metadata": {},
   "source": [
    "* `children` — количество детей в семье\n",
    "* `days_employed` — общий трудовой стаж в днях\n",
    "* `dob_years` — возраст клиента в годах\n",
    "* `education` — уровень образования клиента\n",
    "* `education_id` — идентификатор уровня образования\n",
    "* `family_status` — семейное положение\n",
    "* `family_status_id` — идентификатор семейного положения\n",
    "* `gender` — пол клиента\n",
    "* `income_type` — тип занятости\n",
    "* `debt` — имел ли задолженность по возврату кредитов\n",
    "* `total_income` — ежемесячный доход\n",
    "* `purpose` — цель получения кредита"
   ]
  },
  {
   "cell_type": "markdown",
   "id": "d3cb3088",
   "metadata": {},
   "source": [
    "## Обзор данных"
   ]
  },
  {
   "cell_type": "markdown",
   "id": "c4941e71",
   "metadata": {},
   "source": [
    "Импортирую библиотеку pandas. "
   ]
  },
  {
   "cell_type": "code",
   "execution_count": 1,
   "id": "15a29520",
   "metadata": {},
   "outputs": [],
   "source": [
    "import pandas as pd"
   ]
  },
  {
   "cell_type": "markdown",
   "id": "962feced",
   "metadata": {},
   "source": [
    "Считываю данные из файла data.csv и сохраню их в датафрейм data"
   ]
  },
  {
   "cell_type": "code",
   "execution_count": 2,
   "id": "a44b4676",
   "metadata": {},
   "outputs": [],
   "source": [
    "try:\n",
    "    data = pd.read_csv('/datasets/data.csv')\n",
    "except:\n",
    "    data = pd.read_csv('https://code.s3.yandex.net/datasets/data.csv')"
   ]
  },
  {
   "cell_type": "markdown",
   "id": "587db4ed",
   "metadata": {},
   "source": [
    "Выведу первые 20 строчек датафрейма на экран, чтобы ознакомиться с данными, проверить нужные ли данные были загружены."
   ]
  },
  {
   "cell_type": "code",
   "execution_count": 3,
   "id": "5f9eae54",
   "metadata": {},
   "outputs": [
    {
     "data": {
      "text/html": [
       "<div>\n",
       "<style scoped>\n",
       "    .dataframe tbody tr th:only-of-type {\n",
       "        vertical-align: middle;\n",
       "    }\n",
       "\n",
       "    .dataframe tbody tr th {\n",
       "        vertical-align: top;\n",
       "    }\n",
       "\n",
       "    .dataframe thead th {\n",
       "        text-align: right;\n",
       "    }\n",
       "</style>\n",
       "<table border=\"1\" class=\"dataframe\">\n",
       "  <thead>\n",
       "    <tr style=\"text-align: right;\">\n",
       "      <th></th>\n",
       "      <th>children</th>\n",
       "      <th>days_employed</th>\n",
       "      <th>dob_years</th>\n",
       "      <th>education</th>\n",
       "      <th>education_id</th>\n",
       "      <th>family_status</th>\n",
       "      <th>family_status_id</th>\n",
       "      <th>gender</th>\n",
       "      <th>income_type</th>\n",
       "      <th>debt</th>\n",
       "      <th>total_income</th>\n",
       "      <th>purpose</th>\n",
       "    </tr>\n",
       "  </thead>\n",
       "  <tbody>\n",
       "    <tr>\n",
       "      <th>0</th>\n",
       "      <td>1</td>\n",
       "      <td>-8437.673028</td>\n",
       "      <td>42</td>\n",
       "      <td>высшее</td>\n",
       "      <td>0</td>\n",
       "      <td>женат / замужем</td>\n",
       "      <td>0</td>\n",
       "      <td>F</td>\n",
       "      <td>сотрудник</td>\n",
       "      <td>0</td>\n",
       "      <td>253875.639453</td>\n",
       "      <td>покупка жилья</td>\n",
       "    </tr>\n",
       "    <tr>\n",
       "      <th>1</th>\n",
       "      <td>1</td>\n",
       "      <td>-4024.803754</td>\n",
       "      <td>36</td>\n",
       "      <td>среднее</td>\n",
       "      <td>1</td>\n",
       "      <td>женат / замужем</td>\n",
       "      <td>0</td>\n",
       "      <td>F</td>\n",
       "      <td>сотрудник</td>\n",
       "      <td>0</td>\n",
       "      <td>112080.014102</td>\n",
       "      <td>приобретение автомобиля</td>\n",
       "    </tr>\n",
       "    <tr>\n",
       "      <th>2</th>\n",
       "      <td>0</td>\n",
       "      <td>-5623.422610</td>\n",
       "      <td>33</td>\n",
       "      <td>Среднее</td>\n",
       "      <td>1</td>\n",
       "      <td>женат / замужем</td>\n",
       "      <td>0</td>\n",
       "      <td>M</td>\n",
       "      <td>сотрудник</td>\n",
       "      <td>0</td>\n",
       "      <td>145885.952297</td>\n",
       "      <td>покупка жилья</td>\n",
       "    </tr>\n",
       "    <tr>\n",
       "      <th>3</th>\n",
       "      <td>3</td>\n",
       "      <td>-4124.747207</td>\n",
       "      <td>32</td>\n",
       "      <td>среднее</td>\n",
       "      <td>1</td>\n",
       "      <td>женат / замужем</td>\n",
       "      <td>0</td>\n",
       "      <td>M</td>\n",
       "      <td>сотрудник</td>\n",
       "      <td>0</td>\n",
       "      <td>267628.550329</td>\n",
       "      <td>дополнительное образование</td>\n",
       "    </tr>\n",
       "    <tr>\n",
       "      <th>4</th>\n",
       "      <td>0</td>\n",
       "      <td>340266.072047</td>\n",
       "      <td>53</td>\n",
       "      <td>среднее</td>\n",
       "      <td>1</td>\n",
       "      <td>гражданский брак</td>\n",
       "      <td>1</td>\n",
       "      <td>F</td>\n",
       "      <td>пенсионер</td>\n",
       "      <td>0</td>\n",
       "      <td>158616.077870</td>\n",
       "      <td>сыграть свадьбу</td>\n",
       "    </tr>\n",
       "    <tr>\n",
       "      <th>5</th>\n",
       "      <td>0</td>\n",
       "      <td>-926.185831</td>\n",
       "      <td>27</td>\n",
       "      <td>высшее</td>\n",
       "      <td>0</td>\n",
       "      <td>гражданский брак</td>\n",
       "      <td>1</td>\n",
       "      <td>M</td>\n",
       "      <td>компаньон</td>\n",
       "      <td>0</td>\n",
       "      <td>255763.565419</td>\n",
       "      <td>покупка жилья</td>\n",
       "    </tr>\n",
       "    <tr>\n",
       "      <th>6</th>\n",
       "      <td>0</td>\n",
       "      <td>-2879.202052</td>\n",
       "      <td>43</td>\n",
       "      <td>высшее</td>\n",
       "      <td>0</td>\n",
       "      <td>женат / замужем</td>\n",
       "      <td>0</td>\n",
       "      <td>F</td>\n",
       "      <td>компаньон</td>\n",
       "      <td>0</td>\n",
       "      <td>240525.971920</td>\n",
       "      <td>операции с жильем</td>\n",
       "    </tr>\n",
       "    <tr>\n",
       "      <th>7</th>\n",
       "      <td>0</td>\n",
       "      <td>-152.779569</td>\n",
       "      <td>50</td>\n",
       "      <td>СРЕДНЕЕ</td>\n",
       "      <td>1</td>\n",
       "      <td>женат / замужем</td>\n",
       "      <td>0</td>\n",
       "      <td>M</td>\n",
       "      <td>сотрудник</td>\n",
       "      <td>0</td>\n",
       "      <td>135823.934197</td>\n",
       "      <td>образование</td>\n",
       "    </tr>\n",
       "    <tr>\n",
       "      <th>8</th>\n",
       "      <td>2</td>\n",
       "      <td>-6929.865299</td>\n",
       "      <td>35</td>\n",
       "      <td>ВЫСШЕЕ</td>\n",
       "      <td>0</td>\n",
       "      <td>гражданский брак</td>\n",
       "      <td>1</td>\n",
       "      <td>F</td>\n",
       "      <td>сотрудник</td>\n",
       "      <td>0</td>\n",
       "      <td>95856.832424</td>\n",
       "      <td>на проведение свадьбы</td>\n",
       "    </tr>\n",
       "    <tr>\n",
       "      <th>9</th>\n",
       "      <td>0</td>\n",
       "      <td>-2188.756445</td>\n",
       "      <td>41</td>\n",
       "      <td>среднее</td>\n",
       "      <td>1</td>\n",
       "      <td>женат / замужем</td>\n",
       "      <td>0</td>\n",
       "      <td>M</td>\n",
       "      <td>сотрудник</td>\n",
       "      <td>0</td>\n",
       "      <td>144425.938277</td>\n",
       "      <td>покупка жилья для семьи</td>\n",
       "    </tr>\n",
       "    <tr>\n",
       "      <th>10</th>\n",
       "      <td>2</td>\n",
       "      <td>-4171.483647</td>\n",
       "      <td>36</td>\n",
       "      <td>высшее</td>\n",
       "      <td>0</td>\n",
       "      <td>женат / замужем</td>\n",
       "      <td>0</td>\n",
       "      <td>M</td>\n",
       "      <td>компаньон</td>\n",
       "      <td>0</td>\n",
       "      <td>113943.491460</td>\n",
       "      <td>покупка недвижимости</td>\n",
       "    </tr>\n",
       "    <tr>\n",
       "      <th>11</th>\n",
       "      <td>0</td>\n",
       "      <td>-792.701887</td>\n",
       "      <td>40</td>\n",
       "      <td>среднее</td>\n",
       "      <td>1</td>\n",
       "      <td>женат / замужем</td>\n",
       "      <td>0</td>\n",
       "      <td>F</td>\n",
       "      <td>сотрудник</td>\n",
       "      <td>0</td>\n",
       "      <td>77069.234271</td>\n",
       "      <td>покупка коммерческой недвижимости</td>\n",
       "    </tr>\n",
       "    <tr>\n",
       "      <th>12</th>\n",
       "      <td>0</td>\n",
       "      <td>NaN</td>\n",
       "      <td>65</td>\n",
       "      <td>среднее</td>\n",
       "      <td>1</td>\n",
       "      <td>гражданский брак</td>\n",
       "      <td>1</td>\n",
       "      <td>M</td>\n",
       "      <td>пенсионер</td>\n",
       "      <td>0</td>\n",
       "      <td>NaN</td>\n",
       "      <td>сыграть свадьбу</td>\n",
       "    </tr>\n",
       "    <tr>\n",
       "      <th>13</th>\n",
       "      <td>0</td>\n",
       "      <td>-1846.641941</td>\n",
       "      <td>54</td>\n",
       "      <td>неоконченное высшее</td>\n",
       "      <td>2</td>\n",
       "      <td>женат / замужем</td>\n",
       "      <td>0</td>\n",
       "      <td>F</td>\n",
       "      <td>сотрудник</td>\n",
       "      <td>0</td>\n",
       "      <td>130458.228857</td>\n",
       "      <td>приобретение автомобиля</td>\n",
       "    </tr>\n",
       "    <tr>\n",
       "      <th>14</th>\n",
       "      <td>0</td>\n",
       "      <td>-1844.956182</td>\n",
       "      <td>56</td>\n",
       "      <td>высшее</td>\n",
       "      <td>0</td>\n",
       "      <td>гражданский брак</td>\n",
       "      <td>1</td>\n",
       "      <td>F</td>\n",
       "      <td>компаньон</td>\n",
       "      <td>1</td>\n",
       "      <td>165127.911772</td>\n",
       "      <td>покупка жилой недвижимости</td>\n",
       "    </tr>\n",
       "    <tr>\n",
       "      <th>15</th>\n",
       "      <td>1</td>\n",
       "      <td>-972.364419</td>\n",
       "      <td>26</td>\n",
       "      <td>среднее</td>\n",
       "      <td>1</td>\n",
       "      <td>женат / замужем</td>\n",
       "      <td>0</td>\n",
       "      <td>F</td>\n",
       "      <td>сотрудник</td>\n",
       "      <td>0</td>\n",
       "      <td>116820.904450</td>\n",
       "      <td>строительство собственной недвижимости</td>\n",
       "    </tr>\n",
       "    <tr>\n",
       "      <th>16</th>\n",
       "      <td>0</td>\n",
       "      <td>-1719.934226</td>\n",
       "      <td>35</td>\n",
       "      <td>среднее</td>\n",
       "      <td>1</td>\n",
       "      <td>женат / замужем</td>\n",
       "      <td>0</td>\n",
       "      <td>F</td>\n",
       "      <td>сотрудник</td>\n",
       "      <td>0</td>\n",
       "      <td>289202.704229</td>\n",
       "      <td>недвижимость</td>\n",
       "    </tr>\n",
       "    <tr>\n",
       "      <th>17</th>\n",
       "      <td>0</td>\n",
       "      <td>-2369.999720</td>\n",
       "      <td>33</td>\n",
       "      <td>высшее</td>\n",
       "      <td>0</td>\n",
       "      <td>гражданский брак</td>\n",
       "      <td>1</td>\n",
       "      <td>M</td>\n",
       "      <td>сотрудник</td>\n",
       "      <td>0</td>\n",
       "      <td>90410.586745</td>\n",
       "      <td>строительство недвижимости</td>\n",
       "    </tr>\n",
       "    <tr>\n",
       "      <th>18</th>\n",
       "      <td>0</td>\n",
       "      <td>400281.136913</td>\n",
       "      <td>53</td>\n",
       "      <td>среднее</td>\n",
       "      <td>1</td>\n",
       "      <td>вдовец / вдова</td>\n",
       "      <td>2</td>\n",
       "      <td>F</td>\n",
       "      <td>пенсионер</td>\n",
       "      <td>0</td>\n",
       "      <td>56823.777243</td>\n",
       "      <td>на покупку подержанного автомобиля</td>\n",
       "    </tr>\n",
       "    <tr>\n",
       "      <th>19</th>\n",
       "      <td>0</td>\n",
       "      <td>-10038.818549</td>\n",
       "      <td>48</td>\n",
       "      <td>СРЕДНЕЕ</td>\n",
       "      <td>1</td>\n",
       "      <td>в разводе</td>\n",
       "      <td>3</td>\n",
       "      <td>F</td>\n",
       "      <td>сотрудник</td>\n",
       "      <td>0</td>\n",
       "      <td>242831.107982</td>\n",
       "      <td>на покупку своего автомобиля</td>\n",
       "    </tr>\n",
       "  </tbody>\n",
       "</table>\n",
       "</div>"
      ],
      "text/plain": [
       "    children  days_employed  dob_years            education  education_id  \\\n",
       "0          1   -8437.673028         42               высшее             0   \n",
       "1          1   -4024.803754         36              среднее             1   \n",
       "2          0   -5623.422610         33              Среднее             1   \n",
       "3          3   -4124.747207         32              среднее             1   \n",
       "4          0  340266.072047         53              среднее             1   \n",
       "5          0    -926.185831         27               высшее             0   \n",
       "6          0   -2879.202052         43               высшее             0   \n",
       "7          0    -152.779569         50              СРЕДНЕЕ             1   \n",
       "8          2   -6929.865299         35               ВЫСШЕЕ             0   \n",
       "9          0   -2188.756445         41              среднее             1   \n",
       "10         2   -4171.483647         36               высшее             0   \n",
       "11         0    -792.701887         40              среднее             1   \n",
       "12         0            NaN         65              среднее             1   \n",
       "13         0   -1846.641941         54  неоконченное высшее             2   \n",
       "14         0   -1844.956182         56               высшее             0   \n",
       "15         1    -972.364419         26              среднее             1   \n",
       "16         0   -1719.934226         35              среднее             1   \n",
       "17         0   -2369.999720         33               высшее             0   \n",
       "18         0  400281.136913         53              среднее             1   \n",
       "19         0  -10038.818549         48              СРЕДНЕЕ             1   \n",
       "\n",
       "       family_status  family_status_id gender income_type  debt  \\\n",
       "0    женат / замужем                 0      F   сотрудник     0   \n",
       "1    женат / замужем                 0      F   сотрудник     0   \n",
       "2    женат / замужем                 0      M   сотрудник     0   \n",
       "3    женат / замужем                 0      M   сотрудник     0   \n",
       "4   гражданский брак                 1      F   пенсионер     0   \n",
       "5   гражданский брак                 1      M   компаньон     0   \n",
       "6    женат / замужем                 0      F   компаньон     0   \n",
       "7    женат / замужем                 0      M   сотрудник     0   \n",
       "8   гражданский брак                 1      F   сотрудник     0   \n",
       "9    женат / замужем                 0      M   сотрудник     0   \n",
       "10   женат / замужем                 0      M   компаньон     0   \n",
       "11   женат / замужем                 0      F   сотрудник     0   \n",
       "12  гражданский брак                 1      M   пенсионер     0   \n",
       "13   женат / замужем                 0      F   сотрудник     0   \n",
       "14  гражданский брак                 1      F   компаньон     1   \n",
       "15   женат / замужем                 0      F   сотрудник     0   \n",
       "16   женат / замужем                 0      F   сотрудник     0   \n",
       "17  гражданский брак                 1      M   сотрудник     0   \n",
       "18    вдовец / вдова                 2      F   пенсионер     0   \n",
       "19         в разводе                 3      F   сотрудник     0   \n",
       "\n",
       "     total_income                                 purpose  \n",
       "0   253875.639453                           покупка жилья  \n",
       "1   112080.014102                 приобретение автомобиля  \n",
       "2   145885.952297                           покупка жилья  \n",
       "3   267628.550329              дополнительное образование  \n",
       "4   158616.077870                         сыграть свадьбу  \n",
       "5   255763.565419                           покупка жилья  \n",
       "6   240525.971920                       операции с жильем  \n",
       "7   135823.934197                             образование  \n",
       "8    95856.832424                   на проведение свадьбы  \n",
       "9   144425.938277                 покупка жилья для семьи  \n",
       "10  113943.491460                    покупка недвижимости  \n",
       "11   77069.234271       покупка коммерческой недвижимости  \n",
       "12            NaN                         сыграть свадьбу  \n",
       "13  130458.228857                 приобретение автомобиля  \n",
       "14  165127.911772              покупка жилой недвижимости  \n",
       "15  116820.904450  строительство собственной недвижимости  \n",
       "16  289202.704229                            недвижимость  \n",
       "17   90410.586745              строительство недвижимости  \n",
       "18   56823.777243      на покупку подержанного автомобиля  \n",
       "19  242831.107982            на покупку своего автомобиля  "
      ]
     },
     "execution_count": 3,
     "metadata": {},
     "output_type": "execute_result"
    }
   ],
   "source": [
    "data.head(20)"
   ]
  },
  {
   "cell_type": "markdown",
   "id": "1de958fd",
   "metadata": {},
   "source": [
    "Выведe основную информацию о датафрейме."
   ]
  },
  {
   "cell_type": "code",
   "execution_count": 4,
   "id": "98d539cd",
   "metadata": {},
   "outputs": [
    {
     "name": "stdout",
     "output_type": "stream",
     "text": [
      "<class 'pandas.core.frame.DataFrame'>\n",
      "RangeIndex: 21525 entries, 0 to 21524\n",
      "Data columns (total 12 columns):\n",
      " #   Column            Non-Null Count  Dtype  \n",
      "---  ------            --------------  -----  \n",
      " 0   children          21525 non-null  int64  \n",
      " 1   days_employed     19351 non-null  float64\n",
      " 2   dob_years         21525 non-null  int64  \n",
      " 3   education         21525 non-null  object \n",
      " 4   education_id      21525 non-null  int64  \n",
      " 5   family_status     21525 non-null  object \n",
      " 6   family_status_id  21525 non-null  int64  \n",
      " 7   gender            21525 non-null  object \n",
      " 8   income_type       21525 non-null  object \n",
      " 9   debt              21525 non-null  int64  \n",
      " 10  total_income      19351 non-null  float64\n",
      " 11  purpose           21525 non-null  object \n",
      "dtypes: float64(2), int64(5), object(5)\n",
      "memory usage: 2.0+ MB\n"
     ]
    }
   ],
   "source": [
    "data.info()"
   ]
  },
  {
   "cell_type": "markdown",
   "id": "675d3fd7",
   "metadata": {},
   "source": [
    "В таблице 12 столбцов. Тип данных в двух столбцах - float; в пяти столбцах - int; в пяти столбцах — object.\n",
    "\n",
    "Согласно документации к данным:\n",
    "Описание данных\n",
    "* `children` — количество детей в семье\n",
    "* `days_employed` — общий трудовой стаж в днях\n",
    "* `dob_years` — возраст клиента в годах\n",
    "* `education` — уровень образования клиента\n",
    "* `education_id` — идентификатор уровня образования\n",
    "* `family_status` — семейное положение\n",
    "* `family_status_id` — идентификатор семейного положения\n",
    "* `gender` — пол клиента\n",
    "* `income_type` — тип занятости\n",
    "* `debt` — имел ли задолженность по возврату кредитов\n",
    "* `total_income` — ежемесячный доход\n",
    "* `purpose` — цель получения кредита"
   ]
  },
  {
   "cell_type": "markdown",
   "id": "fc5133b8",
   "metadata": {},
   "source": [
    "## Предобработка данных"
   ]
  },
  {
   "cell_type": "markdown",
   "id": "a7423077",
   "metadata": {},
   "source": [
    "### Удаление пропусков"
   ]
  },
  {
   "cell_type": "markdown",
   "id": "968bc76b",
   "metadata": {},
   "source": [
    "Выведу долю пропущенных значений для каждого столбца. Так мы увидим, что можно отбросить, а с чем надо работать. "
   ]
  },
  {
   "cell_type": "code",
   "execution_count": 5,
   "id": "fbef705c",
   "metadata": {},
   "outputs": [
    {
     "data": {
      "text/html": [
       "<style  type=\"text/css\" >\n",
       "#T_35e8b_row0_col0,#T_35e8b_row2_col0,#T_35e8b_row3_col0,#T_35e8b_row4_col0,#T_35e8b_row5_col0,#T_35e8b_row6_col0,#T_35e8b_row7_col0,#T_35e8b_row8_col0,#T_35e8b_row9_col0,#T_35e8b_row11_col0{\n",
       "            background-color:  #3b4cc0;\n",
       "            color:  #f1f1f1;\n",
       "        }#T_35e8b_row1_col0,#T_35e8b_row10_col0{\n",
       "            background-color:  #b40426;\n",
       "            color:  #f1f1f1;\n",
       "        }</style><table id=\"T_35e8b_\" ><thead>    <tr>        <th class=\"blank level0\" ></th>        <th class=\"col_heading level0 col0\" >0</th>    </tr></thead><tbody>\n",
       "                <tr>\n",
       "                        <th id=\"T_35e8b_level0_row0\" class=\"row_heading level0 row0\" >children</th>\n",
       "                        <td id=\"T_35e8b_row0_col0\" class=\"data row0 col0\" >0.0</td>\n",
       "            </tr>\n",
       "            <tr>\n",
       "                        <th id=\"T_35e8b_level0_row1\" class=\"row_heading level0 row1\" >days_employed</th>\n",
       "                        <td id=\"T_35e8b_row1_col0\" class=\"data row1 col0\" >10.1</td>\n",
       "            </tr>\n",
       "            <tr>\n",
       "                        <th id=\"T_35e8b_level0_row2\" class=\"row_heading level0 row2\" >dob_years</th>\n",
       "                        <td id=\"T_35e8b_row2_col0\" class=\"data row2 col0\" >0.0</td>\n",
       "            </tr>\n",
       "            <tr>\n",
       "                        <th id=\"T_35e8b_level0_row3\" class=\"row_heading level0 row3\" >education</th>\n",
       "                        <td id=\"T_35e8b_row3_col0\" class=\"data row3 col0\" >0.0</td>\n",
       "            </tr>\n",
       "            <tr>\n",
       "                        <th id=\"T_35e8b_level0_row4\" class=\"row_heading level0 row4\" >education_id</th>\n",
       "                        <td id=\"T_35e8b_row4_col0\" class=\"data row4 col0\" >0.0</td>\n",
       "            </tr>\n",
       "            <tr>\n",
       "                        <th id=\"T_35e8b_level0_row5\" class=\"row_heading level0 row5\" >family_status</th>\n",
       "                        <td id=\"T_35e8b_row5_col0\" class=\"data row5 col0\" >0.0</td>\n",
       "            </tr>\n",
       "            <tr>\n",
       "                        <th id=\"T_35e8b_level0_row6\" class=\"row_heading level0 row6\" >family_status_id</th>\n",
       "                        <td id=\"T_35e8b_row6_col0\" class=\"data row6 col0\" >0.0</td>\n",
       "            </tr>\n",
       "            <tr>\n",
       "                        <th id=\"T_35e8b_level0_row7\" class=\"row_heading level0 row7\" >gender</th>\n",
       "                        <td id=\"T_35e8b_row7_col0\" class=\"data row7 col0\" >0.0</td>\n",
       "            </tr>\n",
       "            <tr>\n",
       "                        <th id=\"T_35e8b_level0_row8\" class=\"row_heading level0 row8\" >income_type</th>\n",
       "                        <td id=\"T_35e8b_row8_col0\" class=\"data row8 col0\" >0.0</td>\n",
       "            </tr>\n",
       "            <tr>\n",
       "                        <th id=\"T_35e8b_level0_row9\" class=\"row_heading level0 row9\" >debt</th>\n",
       "                        <td id=\"T_35e8b_row9_col0\" class=\"data row9 col0\" >0.0</td>\n",
       "            </tr>\n",
       "            <tr>\n",
       "                        <th id=\"T_35e8b_level0_row10\" class=\"row_heading level0 row10\" >total_income</th>\n",
       "                        <td id=\"T_35e8b_row10_col0\" class=\"data row10 col0\" >10.1</td>\n",
       "            </tr>\n",
       "            <tr>\n",
       "                        <th id=\"T_35e8b_level0_row11\" class=\"row_heading level0 row11\" >purpose</th>\n",
       "                        <td id=\"T_35e8b_row11_col0\" class=\"data row11 col0\" >0.0</td>\n",
       "            </tr>\n",
       "    </tbody></table>"
      ],
      "text/plain": [
       "<pandas.io.formats.style.Styler at 0x12d52b550>"
      ]
     },
     "execution_count": 5,
     "metadata": {},
     "output_type": "execute_result"
    }
   ],
   "source": [
    "pd.DataFrame(data.isna().mean()*100).style.set_precision(1).background_gradient('coolwarm')"
   ]
  },
  {
   "cell_type": "markdown",
   "id": "c9f18b95",
   "metadata": {},
   "source": [
    "В двух столбцах (`'days_employed'` и `'total_income'`) пропущено 10% значений. Такие пустые строки удалять нельзя, их необходимо заполнить."
   ]
  },
  {
   "cell_type": "markdown",
   "id": "378a434f",
   "metadata": {},
   "source": [
    "Столбец с пропущенными значениями — `'total_income'` — хранит данные о доходах. На сумму дохода сильнее всего влияет тип занятости, поэтому заполнить пропуски в этом столбце нужно медианным значением по каждому типу из столбца income_type. Например, у человека с типом занятости сотрудник пропуск в столбце total_income должен быть заполнен медианным доходом среди всех записей с тем же типом.\n",
    "\n",
    "Пропуски в столбце `'days_employed'` будут обработаны немного позже."
   ]
  },
  {
   "cell_type": "code",
   "execution_count": 6,
   "id": "d981a577",
   "metadata": {},
   "outputs": [],
   "source": [
    "# Создадим цикл, в котором пройдем по каждому уникальному типу занятости (столбец 'income_type')\n",
    "# Далее в столбце 'income_type' в строки с пропуском запишем медианное значение \n",
    "for t in data['income_type'].unique():\n",
    "    data.loc[(data['income_type'] == t) & (data['total_income'].isna()), 'total_income'] = \\\n",
    "    data.loc[(data['income_type'] == t), 'total_income'].median()"
   ]
  },
  {
   "cell_type": "markdown",
   "id": "0df6ab9a",
   "metadata": {},
   "source": [
    "В столбце `'days_employed'` были найдены артефакты (аномалии) — отрицательное количество дней трудового стажа. Все отрицательные значения заменяю положительными значениями."
   ]
  },
  {
   "cell_type": "code",
   "execution_count": 7,
   "id": "a03c8f6f",
   "metadata": {},
   "outputs": [],
   "source": [
    "data['days_employed'] = data['days_employed'].abs()"
   ]
  },
  {
   "cell_type": "markdown",
   "id": "e0a246bc",
   "metadata": {},
   "source": [
    "Для каждого типа занятости выведу медианное значение трудового стажа `'days_employed'` в днях."
   ]
  },
  {
   "cell_type": "code",
   "execution_count": 8,
   "id": "1741bfb9",
   "metadata": {
    "scrolled": true
   },
   "outputs": [
    {
     "data": {
      "text/plain": [
       "income_type\n",
       "безработный        366413.652744\n",
       "в декрете            3296.759962\n",
       "госслужащий          2689.368353\n",
       "компаньон            1547.382223\n",
       "пенсионер          365213.306266\n",
       "предприниматель       520.848083\n",
       "сотрудник            1574.202821\n",
       "студент               578.751554\n",
       "Name: days_employed, dtype: float64"
      ]
     },
     "execution_count": 8,
     "metadata": {},
     "output_type": "execute_result"
    }
   ],
   "source": [
    "data.groupby('income_type')['days_employed'].agg('median')"
   ]
  },
  {
   "cell_type": "markdown",
   "id": "3da17dbe",
   "metadata": {},
   "source": [
    "У двух типов (безработные и пенсионеры) получатся аномально большие значения. Исправить такие значения сложно, поэтому оставьте их как есть."
   ]
  },
  {
   "cell_type": "markdown",
   "id": "4aed6201",
   "metadata": {},
   "source": [
    "Выведу перечень уникальных значений столбца `children`. Возможно в нем тоже есть аномальные значения."
   ]
  },
  {
   "cell_type": "code",
   "execution_count": 9,
   "id": "36a73835",
   "metadata": {},
   "outputs": [
    {
     "data": {
      "text/plain": [
       "array([ 1,  0,  3,  2, -1,  4, 20,  5])"
      ]
     },
     "execution_count": 9,
     "metadata": {},
     "output_type": "execute_result"
    }
   ],
   "source": [
    "data['children'].unique()"
   ]
  },
  {
   "cell_type": "markdown",
   "id": "4794f2da",
   "metadata": {},
   "source": [
    "В столбце `children` есть два аномальных значения. Удалю из датафрейма строки, в которых встречаются такие аномальные значения."
   ]
  },
  {
   "cell_type": "code",
   "execution_count": 10,
   "id": "03e18c5f",
   "metadata": {},
   "outputs": [],
   "source": [
    "data = data[(data['children'] != -1) & (data['children'] != 20)]"
   ]
  },
  {
   "cell_type": "markdown",
   "id": "baed6956",
   "metadata": {},
   "source": [
    "Убедимся, что артефакты удалены."
   ]
  },
  {
   "cell_type": "code",
   "execution_count": 11,
   "id": "bc1abe82",
   "metadata": {},
   "outputs": [
    {
     "data": {
      "text/plain": [
       "array([1, 0, 3, 2, 4, 5])"
      ]
     },
     "execution_count": 11,
     "metadata": {},
     "output_type": "execute_result"
    }
   ],
   "source": [
    "data['children'].unique()"
   ]
  },
  {
   "cell_type": "markdown",
   "id": "9fb0e3a6",
   "metadata": {},
   "source": [
    "Теперь для столбца `'days_employed'` заполним пропуски медианным значением трудового стажа в зависимости от типа занятости человека. "
   ]
  },
  {
   "cell_type": "code",
   "execution_count": 12,
   "id": "b7c891c1",
   "metadata": {},
   "outputs": [],
   "source": [
    "# Создадим цикл, в котором пройдем по каждому уникальному типу занятости (столбец 'income_type')\n",
    "# Далее в столбце 'income_type' в строки с пропуском запишем медианное значение общего трудового стажа ('days_employed')\n",
    "\n",
    "for t in data['income_type'].unique():\n",
    "    data.loc[(data['income_type'] == t) & (data['days_employed'].isna()), 'days_employed'] = \\\n",
    "    data.loc[(data['income_type'] == t), 'days_employed'].median()"
   ]
  },
  {
   "cell_type": "markdown",
   "id": "ec0cdf9b",
   "metadata": {},
   "source": [
    "Убедимся, что все пропуски заполнены. "
   ]
  },
  {
   "cell_type": "code",
   "execution_count": 13,
   "id": "5d19bca1",
   "metadata": {
    "scrolled": true
   },
   "outputs": [
    {
     "data": {
      "text/plain": [
       "children            0\n",
       "days_employed       0\n",
       "dob_years           0\n",
       "education           0\n",
       "education_id        0\n",
       "family_status       0\n",
       "family_status_id    0\n",
       "gender              0\n",
       "income_type         0\n",
       "debt                0\n",
       "total_income        0\n",
       "purpose             0\n",
       "dtype: int64"
      ]
     },
     "execution_count": 13,
     "metadata": {},
     "output_type": "execute_result"
    }
   ],
   "source": [
    "data.isna().sum()"
   ]
  },
  {
   "cell_type": "markdown",
   "id": "a61dc383",
   "metadata": {},
   "source": [
    "### Изменение типов данных"
   ]
  },
  {
   "cell_type": "markdown",
   "id": "919879cb",
   "metadata": {},
   "source": [
    "В столбце `'total_income'` изменю тип данных с вещественного на целочисленный."
   ]
  },
  {
   "cell_type": "code",
   "execution_count": 14,
   "id": "9eaeaa34",
   "metadata": {},
   "outputs": [],
   "source": [
    "data['total_income'] = data['total_income'].astype(int)"
   ]
  },
  {
   "cell_type": "markdown",
   "id": "93b6ae2c",
   "metadata": {},
   "source": [
    "### Обработка дубликатов"
   ]
  },
  {
   "cell_type": "markdown",
   "id": "4f822ea0",
   "metadata": {},
   "source": [
    "Обработаю неявные дубликаты в столбце `education`. В этом столбце есть одни и те же значения, но записанные по-разному: с использованием заглавных и строчных букв. Приведу их к нижнему регистру."
   ]
  },
  {
   "cell_type": "code",
   "execution_count": 15,
   "id": "ee6df908",
   "metadata": {},
   "outputs": [],
   "source": [
    "data['education'] = data['education'].str.lower()"
   ]
  },
  {
   "cell_type": "markdown",
   "id": "f1c6da9b",
   "metadata": {},
   "source": [
    "Выведу на экран количество строк-дубликатов в данных. Если такие строки присутствуют, удалю их."
   ]
  },
  {
   "cell_type": "code",
   "execution_count": 16,
   "id": "62e84b77",
   "metadata": {},
   "outputs": [
    {
     "data": {
      "text/plain": [
       "71"
      ]
     },
     "execution_count": 16,
     "metadata": {},
     "output_type": "execute_result"
    }
   ],
   "source": [
    "data.duplicated().sum()"
   ]
  },
  {
   "cell_type": "code",
   "execution_count": 17,
   "id": "06bc4b91",
   "metadata": {},
   "outputs": [],
   "source": [
    "data = data.drop_duplicates()"
   ]
  },
  {
   "cell_type": "markdown",
   "id": "fc57977c",
   "metadata": {},
   "source": [
    "### Категоризация данных"
   ]
  },
  {
   "cell_type": "markdown",
   "id": "eec8bda3",
   "metadata": {},
   "source": [
    "На основании диапазонов, указанных ниже, создам в датафрейме `data` столбец `total_income_category` с категориями:\n",
    "\n",
    "- 0–30000 — `'E'`;\n",
    "- 30001–50000 — `'D'`;\n",
    "- 50001–200000 — `'C'`;\n",
    "- 200001–1000000 — `'B'`;\n",
    "- 1000001 и выше — `'A'`."
   ]
  },
  {
   "cell_type": "code",
   "execution_count": 18,
   "id": "90c1f7c4",
   "metadata": {},
   "outputs": [],
   "source": [
    "def categorize_income(income):\n",
    "    try:\n",
    "        if 0 <= income <= 30000:\n",
    "            return 'E'\n",
    "        elif 30001 <= income <= 50000:\n",
    "            return 'D'\n",
    "        elif 50001 <= income <= 200000:\n",
    "            return 'C'\n",
    "        elif 200001 <= income <= 1000000:\n",
    "            return 'B'\n",
    "        elif income >= 1000001:\n",
    "            return 'A'\n",
    "    except:\n",
    "        pass"
   ]
  },
  {
   "cell_type": "code",
   "execution_count": 19,
   "id": "5d17f2b7",
   "metadata": {},
   "outputs": [],
   "source": [
    "data['total_income_category'] = data['total_income'].apply(categorize_income)"
   ]
  },
  {
   "cell_type": "markdown",
   "id": "a9623497",
   "metadata": {},
   "source": [
    "Выведу на экран перечень уникальных целей взятия кредита из столбца `purpose`."
   ]
  },
  {
   "cell_type": "code",
   "execution_count": 20,
   "id": "25c0a9e2",
   "metadata": {},
   "outputs": [
    {
     "data": {
      "text/plain": [
       "array(['покупка жилья', 'приобретение автомобиля',\n",
       "       'дополнительное образование', 'сыграть свадьбу',\n",
       "       'операции с жильем', 'образование', 'на проведение свадьбы',\n",
       "       'покупка жилья для семьи', 'покупка недвижимости',\n",
       "       'покупка коммерческой недвижимости', 'покупка жилой недвижимости',\n",
       "       'строительство собственной недвижимости', 'недвижимость',\n",
       "       'строительство недвижимости', 'на покупку подержанного автомобиля',\n",
       "       'на покупку своего автомобиля',\n",
       "       'операции с коммерческой недвижимостью',\n",
       "       'строительство жилой недвижимости', 'жилье',\n",
       "       'операции со своей недвижимостью', 'автомобили',\n",
       "       'заняться образованием', 'сделка с подержанным автомобилем',\n",
       "       'получение образования', 'автомобиль', 'свадьба',\n",
       "       'получение дополнительного образования', 'покупка своего жилья',\n",
       "       'операции с недвижимостью', 'получение высшего образования',\n",
       "       'свой автомобиль', 'сделка с автомобилем',\n",
       "       'профильное образование', 'высшее образование',\n",
       "       'покупка жилья для сдачи', 'на покупку автомобиля', 'ремонт жилью',\n",
       "       'заняться высшим образованием'], dtype=object)"
      ]
     },
     "execution_count": 20,
     "metadata": {},
     "output_type": "execute_result"
    }
   ],
   "source": [
    "data['purpose'].unique()"
   ]
  },
  {
   "cell_type": "markdown",
   "id": "2634a5b7",
   "metadata": {},
   "source": [
    "В каждой подстроке для каждой цели можно выделить определенные повторяющиеся слова. Например, для категории 'операции с автомобилем' будет подстрока 'автом'. Для категории 'операции с недвижимостью' - подстрока 'жил'. Для категории 'проведение свадьбы' - подстрока 'свад'. Для категории 'получение образования' - подстрока 'образов'.\n",
    "\n",
    "По этим подстрокам в функции будет производиться присваивание категории.\n",
    "\n",
    "Создам функцию, которая на основании данных из столбца `purpose` сформирует новый столбец `purpose_category`, в который войдут следующие категории:**\n",
    "\n",
    "- `'операции с автомобилем'`,\n",
    "- `'операции с недвижимостью'`,\n",
    "- `'проведение свадьбы'`,\n",
    "- `'получение образования'`."
   ]
  },
  {
   "cell_type": "code",
   "execution_count": 21,
   "id": "d43e1028",
   "metadata": {},
   "outputs": [],
   "source": [
    "def categorize_purpose(row):\n",
    "    '''\n",
    "    Функция ищет в столбце ключевы слова ('автом', 'жил', 'свад', 'образов') и по ним возвращает название категории для цели кредита\n",
    "    '''\n",
    "    \n",
    "    try:\n",
    "        if 'автом' in row:\n",
    "            return 'операции с автомобилем'\n",
    "        elif 'жил' in row or 'недвиж' in row:\n",
    "            return 'операции с недвижимостью'\n",
    "        elif 'свад' in row:\n",
    "            return 'проведение свадьбы'\n",
    "        elif 'образов' in row:\n",
    "            return 'получение образования'\n",
    "    except:\n",
    "        return 'нет категории'"
   ]
  },
  {
   "cell_type": "code",
   "execution_count": 22,
   "id": "7a4a39a0",
   "metadata": {},
   "outputs": [],
   "source": [
    "data['purpose_category'] = data['purpose'].apply(categorize_purpose)"
   ]
  },
  {
   "cell_type": "markdown",
   "id": "51a52fe2",
   "metadata": {},
   "source": [
    "**Выводы**\n",
    "\n",
    "Предобработка обнаружила три проблемы в данных:\n",
    "\n",
    "- пропуски значений,\n",
    "- аномальные значения,\n",
    "- дубликаты — явные и неявные.\n",
    "\n",
    "Я заполнила пропуски медианным значением, удалила дубликаты и аномальные значения. \n",
    "\n",
    "Создала 2 новых столюца с категориальными данными для более быстрого и удобного дальнейшего анализа.\n",
    "\n",
    "Теперь можно перейти к проверке гипотез. "
   ]
  },
  {
   "cell_type": "markdown",
   "id": "cebc850d",
   "metadata": {},
   "source": [
    "## Проверка гипотез"
   ]
  },
  {
   "cell_type": "markdown",
   "id": "d474ea64",
   "metadata": {},
   "source": [
    "#### 1. Есть ли зависимость между количеством детей и возвратом кредита в срок?"
   ]
  },
  {
   "cell_type": "markdown",
   "id": "b41cb2ef",
   "metadata": {},
   "source": [
    "Для начало посмотрим, распределены ли равномерно выборки, если сгруппировать семьи по количеству детей.\n",
    "    \n",
    "Для этого сгруппирую семьи по количеству детей (столбец 'children') и посчитаю количество семей, которые брали кредит. Для этого применю агрегирующую функцию count к столбцу 'debt'."
   ]
  },
  {
   "cell_type": "code",
   "execution_count": 23,
   "id": "d7b3f2bc",
   "metadata": {
    "scrolled": true
   },
   "outputs": [
    {
     "data": {
      "text/plain": [
       "children\n",
       "0    14091\n",
       "1     4808\n",
       "2     2052\n",
       "3      330\n",
       "4       41\n",
       "5        9\n",
       "Name: debt, dtype: int64"
      ]
     },
     "execution_count": 23,
     "metadata": {},
     "output_type": "execute_result"
    }
   ],
   "source": [
    "data.groupby('children')['debt'].agg('count')"
   ]
  },
  {
   "cell_type": "markdown",
   "id": "52caf882",
   "metadata": {},
   "source": [
    "Больше всего данных представлено по семьям с 0, 1 и 2 детьми. Чтобы выявить зависимость между количеством детей и возвратом кредита в срок будем рассматривать именно эти семьи. Семьи с 3 и более детьми не будем включать в анализ, так как по ним имеется мало данных.\n"
   ]
  },
  {
   "cell_type": "markdown",
   "id": "7763e862",
   "metadata": {},
   "source": [
    "Создадим сводную таблицу, где:\n",
    "* строки - количество детей в семье; \n",
    "* колонка `'count debt'` - число кредитополучателей;\n",
    "* колонка `'sum debt'` - количество должников;\n",
    "* колонка `'mean debt'` - доля должников."
   ]
  },
  {
   "cell_type": "code",
   "execution_count": 24,
   "id": "d7be95d7",
   "metadata": {
    "scrolled": true
   },
   "outputs": [
    {
     "data": {
      "text/html": [
       "<div>\n",
       "<style scoped>\n",
       "    .dataframe tbody tr th:only-of-type {\n",
       "        vertical-align: middle;\n",
       "    }\n",
       "\n",
       "    .dataframe tbody tr th {\n",
       "        vertical-align: top;\n",
       "    }\n",
       "\n",
       "    .dataframe thead th {\n",
       "        text-align: right;\n",
       "    }\n",
       "</style>\n",
       "<table border=\"1\" class=\"dataframe\">\n",
       "  <thead>\n",
       "    <tr style=\"text-align: right;\">\n",
       "      <th></th>\n",
       "      <th>Всего кредитополучателей</th>\n",
       "      <th>Всего должников</th>\n",
       "      <th>Доля должников</th>\n",
       "    </tr>\n",
       "    <tr>\n",
       "      <th>children</th>\n",
       "      <th></th>\n",
       "      <th></th>\n",
       "      <th></th>\n",
       "    </tr>\n",
       "  </thead>\n",
       "  <tbody>\n",
       "    <tr>\n",
       "      <th>0</th>\n",
       "      <td>14091</td>\n",
       "      <td>1063</td>\n",
       "      <td>0.08</td>\n",
       "    </tr>\n",
       "    <tr>\n",
       "      <th>1</th>\n",
       "      <td>4808</td>\n",
       "      <td>444</td>\n",
       "      <td>0.09</td>\n",
       "    </tr>\n",
       "    <tr>\n",
       "      <th>2</th>\n",
       "      <td>2052</td>\n",
       "      <td>194</td>\n",
       "      <td>0.09</td>\n",
       "    </tr>\n",
       "  </tbody>\n",
       "</table>\n",
       "</div>"
      ],
      "text/plain": [
       "          Всего кредитополучателей  Всего должников  Доля должников\n",
       "children                                                           \n",
       "0                            14091             1063            0.08\n",
       "1                             4808              444            0.09\n",
       "2                             2052              194            0.09"
      ]
     },
     "execution_count": 24,
     "metadata": {},
     "output_type": "execute_result"
    }
   ],
   "source": [
    "data_pivot_table = data.pivot_table(index='children', values='debt', aggfunc=['count', 'sum', 'mean']).round(2)\n",
    "data_pivot_table.columns = ['Всего кредитополучателей', 'Всего должников', 'Доля должников']\n",
    "# Выведем информацию только по семьям с 0, 1 и 2 детьми\n",
    "data_pivot_table.head(3)"
   ]
  },
  {
   "cell_type": "markdown",
   "id": "3f609296",
   "metadata": {},
   "source": [
    "**Вывод:**\n",
    "\n",
    "Доля должников в семьях без детей составляет всего 8%, а в семьях с 1, 2 детьми уже 9%. Возможно семьи без детей чаще выплачивают кредит в срок, так как у нет ежедневных трат на детей.\n",
    "\n",
    "Можно сделать вывод о том, что чем меньше детей в семье, тем выше кредитоспособность семьи.\n",
    " "
   ]
  },
  {
   "cell_type": "markdown",
   "id": "72696940",
   "metadata": {},
   "source": [
    "#### 2. Есть ли зависимость между семейным положением и возвратом кредита в срок?"
   ]
  },
  {
   "cell_type": "markdown",
   "id": "84f18c56",
   "metadata": {},
   "source": [
    "  \n",
    "Создадим сводную таблицу, где:\n",
    "* строки - семейное положение; \n",
    "* колонка `'count debt'` - число кредитополучателей;\n",
    "* колонка `'sum debt'` - количество должников;\n",
    "* колонка `'mean debt'` - доля должников.\n"
   ]
  },
  {
   "cell_type": "code",
   "execution_count": 25,
   "id": "27fbae93",
   "metadata": {
    "scrolled": true
   },
   "outputs": [
    {
     "data": {
      "text/html": [
       "<div>\n",
       "<style scoped>\n",
       "    .dataframe tbody tr th:only-of-type {\n",
       "        vertical-align: middle;\n",
       "    }\n",
       "\n",
       "    .dataframe tbody tr th {\n",
       "        vertical-align: top;\n",
       "    }\n",
       "\n",
       "    .dataframe thead th {\n",
       "        text-align: right;\n",
       "    }\n",
       "</style>\n",
       "<table border=\"1\" class=\"dataframe\">\n",
       "  <thead>\n",
       "    <tr style=\"text-align: right;\">\n",
       "      <th></th>\n",
       "      <th>Всего кредитополучателей</th>\n",
       "      <th>Всего должников</th>\n",
       "      <th>Доля должников</th>\n",
       "    </tr>\n",
       "    <tr>\n",
       "      <th>family_status</th>\n",
       "      <th></th>\n",
       "      <th></th>\n",
       "      <th></th>\n",
       "    </tr>\n",
       "  </thead>\n",
       "  <tbody>\n",
       "    <tr>\n",
       "      <th>Не женат / не замужем</th>\n",
       "      <td>2796</td>\n",
       "      <td>273</td>\n",
       "      <td>0.10</td>\n",
       "    </tr>\n",
       "    <tr>\n",
       "      <th>в разводе</th>\n",
       "      <td>1189</td>\n",
       "      <td>84</td>\n",
       "      <td>0.07</td>\n",
       "    </tr>\n",
       "    <tr>\n",
       "      <th>вдовец / вдова</th>\n",
       "      <td>951</td>\n",
       "      <td>63</td>\n",
       "      <td>0.07</td>\n",
       "    </tr>\n",
       "    <tr>\n",
       "      <th>гражданский брак</th>\n",
       "      <td>4134</td>\n",
       "      <td>385</td>\n",
       "      <td>0.09</td>\n",
       "    </tr>\n",
       "    <tr>\n",
       "      <th>женат / замужем</th>\n",
       "      <td>12261</td>\n",
       "      <td>927</td>\n",
       "      <td>0.08</td>\n",
       "    </tr>\n",
       "  </tbody>\n",
       "</table>\n",
       "</div>"
      ],
      "text/plain": [
       "                       Всего кредитополучателей  Всего должников  \\\n",
       "family_status                                                      \n",
       "Не женат / не замужем                      2796              273   \n",
       "в разводе                                  1189               84   \n",
       "вдовец / вдова                              951               63   \n",
       "гражданский брак                           4134              385   \n",
       "женат / замужем                           12261              927   \n",
       "\n",
       "                       Доля должников  \n",
       "family_status                          \n",
       "Не женат / не замужем            0.10  \n",
       "в разводе                        0.07  \n",
       "вдовец / вдова                   0.07  \n",
       "гражданский брак                 0.09  \n",
       "женат / замужем                  0.08  "
      ]
     },
     "execution_count": 25,
     "metadata": {},
     "output_type": "execute_result"
    }
   ],
   "source": [
    "data_pivot_table = data.pivot_table(index='family_status', values='debt', aggfunc=['count', 'sum', 'mean']).round(2)\n",
    "data_pivot_table.columns = ['Всего кредитополучателей', 'Всего должников', 'Доля должников']\n",
    "data_pivot_table"
   ]
  },
  {
   "cell_type": "markdown",
   "id": "e5630a9e",
   "metadata": {},
   "source": [
    "Наибольшая доля должников - люди не состоящих в браке (10%) и семьи в гражданском браке (9%).\n",
    "  \n",
    "Меньше всего должников среди вдовцов/вдов (7%), людей в разводе (7%) и состоящих в браке (8%). \n",
    "    \n",
    "Однако стоит отметить перекос в группах. Больше всего кредит берут семьи состоящие в браке, их почти 12 300. На втором месте люди не состоящих в браке (их почти 2800) и люди в разводе (почти 1200). Несмотря на то, что меньше всего должников среди вдовцов/вдов, эти люди реже всех берут кредиты."
   ]
  },
  {
   "cell_type": "markdown",
   "id": "585ee662",
   "metadata": {},
   "source": [
    "**Вывод:** \n",
    "\n",
    "По расчетам можно вывести общую зависимость, что заемщики состоящие или состоявшие в браке лучше выплачивают кредиты. Также редкие должники вдовцы/вдовы, однако они и не часто берут кредиты. Чаще всех кредиты берут люди в браке."
   ]
  },
  {
   "cell_type": "markdown",
   "id": "464d9c5e",
   "metadata": {},
   "source": [
    "#### 3. Есть ли зависимость между уровнем дохода и возвратом кредита в срок?"
   ]
  },
  {
   "cell_type": "markdown",
   "id": "c4a46603",
   "metadata": {},
   "source": [
    "В датафрейме был создан ноывй столбец `total_income_category`, в котором для удобства величина дохода была разбита на категории.\n",
    "\n",
    "В столбце `total_income_category` выделены следующие категории в зависимости от дохода кредитополучателя:\n",
    "\n",
    "* `'E'` доход 0 - 30 000;\n",
    "* `'D'` доход 30 001 - 50 000;\n",
    "* `'C'` доход 50 001 - 200 000;\n",
    "* `'B'` доход 200 001 - 1 000 000;\n",
    "* `'A'` доход выше 1 000 000."
   ]
  },
  {
   "cell_type": "markdown",
   "id": "971e8d7b",
   "metadata": {},
   "source": [
    "Создадим сводную таблицу, где:\n",
    "* строки - категория в зависимости от дохода кредитополучателя; \n",
    "* колонка `'count debt'` - число кредитополучателей;\n",
    "* колонка `'sum debt'` - количество должников;\n",
    "* колонка `'mean debt'` - доля должников."
   ]
  },
  {
   "cell_type": "code",
   "execution_count": 26,
   "id": "97921912",
   "metadata": {
    "scrolled": true
   },
   "outputs": [
    {
     "data": {
      "text/html": [
       "<div>\n",
       "<style scoped>\n",
       "    .dataframe tbody tr th:only-of-type {\n",
       "        vertical-align: middle;\n",
       "    }\n",
       "\n",
       "    .dataframe tbody tr th {\n",
       "        vertical-align: top;\n",
       "    }\n",
       "\n",
       "    .dataframe thead th {\n",
       "        text-align: right;\n",
       "    }\n",
       "</style>\n",
       "<table border=\"1\" class=\"dataframe\">\n",
       "  <thead>\n",
       "    <tr style=\"text-align: right;\">\n",
       "      <th></th>\n",
       "      <th>Всего кредитополучателей</th>\n",
       "      <th>Всего должников</th>\n",
       "      <th>Доля должников</th>\n",
       "    </tr>\n",
       "    <tr>\n",
       "      <th>total_income_category</th>\n",
       "      <th></th>\n",
       "      <th></th>\n",
       "      <th></th>\n",
       "    </tr>\n",
       "  </thead>\n",
       "  <tbody>\n",
       "    <tr>\n",
       "      <th>A</th>\n",
       "      <td>25</td>\n",
       "      <td>2</td>\n",
       "      <td>0.08</td>\n",
       "    </tr>\n",
       "    <tr>\n",
       "      <th>B</th>\n",
       "      <td>5014</td>\n",
       "      <td>354</td>\n",
       "      <td>0.07</td>\n",
       "    </tr>\n",
       "    <tr>\n",
       "      <th>C</th>\n",
       "      <td>15921</td>\n",
       "      <td>1353</td>\n",
       "      <td>0.08</td>\n",
       "    </tr>\n",
       "    <tr>\n",
       "      <th>D</th>\n",
       "      <td>349</td>\n",
       "      <td>21</td>\n",
       "      <td>0.06</td>\n",
       "    </tr>\n",
       "    <tr>\n",
       "      <th>E</th>\n",
       "      <td>22</td>\n",
       "      <td>2</td>\n",
       "      <td>0.09</td>\n",
       "    </tr>\n",
       "  </tbody>\n",
       "</table>\n",
       "</div>"
      ],
      "text/plain": [
       "                       Всего кредитополучателей  Всего должников  \\\n",
       "total_income_category                                              \n",
       "A                                            25                2   \n",
       "B                                          5014              354   \n",
       "C                                         15921             1353   \n",
       "D                                           349               21   \n",
       "E                                            22                2   \n",
       "\n",
       "                       Доля должников  \n",
       "total_income_category                  \n",
       "A                                0.08  \n",
       "B                                0.07  \n",
       "C                                0.08  \n",
       "D                                0.06  \n",
       "E                                0.09  "
      ]
     },
     "execution_count": 26,
     "metadata": {},
     "output_type": "execute_result"
    }
   ],
   "source": [
    "data_pivot_table = data.pivot_table(index='total_income_category', values='debt', aggfunc=['count', 'sum', 'mean']).round(2)\n",
    "data_pivot_table.columns = ['Всего кредитополучателей', 'Всего должников', 'Доля должников']\n",
    "data_pivot_table"
   ]
  },
  {
   "cell_type": "markdown",
   "id": "ae6ce53b",
   "metadata": {},
   "source": [
    "Выборки крайне несбалансированны и для выявления зависимости между уровнем дохода и возвратом кредита в срок стоит сравнить две самые большие категории B и C.\n",
    "    \n",
    "Доля должников среди людей категории B с доходом 200 тыс. - 1 млн. составляет 7%, а доля должников с меньшим доходом категория C (50 тыс. - 200 тыс.) уже 8%.\n",
    "\n",
    "Однако стоит заметить, что люди с доходом 50 тыс. - 200 тыс. берут кредиты чаще, чем люди с более высоким доходом."
   ]
  },
  {
   "cell_type": "markdown",
   "id": "d661a9d4",
   "metadata": {},
   "source": [
    "**Вывод:** \n",
    "\n",
    "Чем выше доход кредитополучателя, тем чаще он будет выплачивать его в срок. Однако, данные несбалансированы, поэтому исследовались две самые большие категории. Было замечено, что люди с доходом 50 тыс. - 200 тыс. берут кредиты чаще, чем люди с более высоким доходом 200 тыс. - 1 млн."
   ]
  },
  {
   "cell_type": "markdown",
   "id": "c47540b3",
   "metadata": {},
   "source": [
    "#### 4. Как разные цели кредита влияют на его возврат в срок?"
   ]
  },
  {
   "cell_type": "markdown",
   "id": "1a14c1df",
   "metadata": {},
   "source": [
    "В датафрейме был создан ноывй столбец `purpose_category`, в котором для удобства цели кредита были разбиты на категории по ключевым словам.\n",
    "\n",
    "В столбце `purpose_category` указаны следующие категории в зависимости от цели кредита:\n",
    "\n",
    "- `'операции с автомобилем'`,\n",
    "- `'операции с недвижимостью'`,\n",
    "- `'проведение свадьбы'`,\n",
    "- `'получение образования'`."
   ]
  },
  {
   "cell_type": "markdown",
   "id": "19aea159",
   "metadata": {},
   "source": [
    "Создадим сводную таблицу, где:\n",
    "* строки - категория в зависимости от цели кредита; \n",
    "* колонка `'count debt'` - число кредитополучателей;\n",
    "* колонка `'sum debt'` - количество должников;\n",
    "* колонка `'mean debt'` - доля должников."
   ]
  },
  {
   "cell_type": "code",
   "execution_count": 27,
   "id": "a247e793",
   "metadata": {
    "scrolled": true
   },
   "outputs": [
    {
     "data": {
      "text/html": [
       "<div>\n",
       "<style scoped>\n",
       "    .dataframe tbody tr th:only-of-type {\n",
       "        vertical-align: middle;\n",
       "    }\n",
       "\n",
       "    .dataframe tbody tr th {\n",
       "        vertical-align: top;\n",
       "    }\n",
       "\n",
       "    .dataframe thead th {\n",
       "        text-align: right;\n",
       "    }\n",
       "</style>\n",
       "<table border=\"1\" class=\"dataframe\">\n",
       "  <thead>\n",
       "    <tr style=\"text-align: right;\">\n",
       "      <th></th>\n",
       "      <th>Всего кредитополучателей</th>\n",
       "      <th>Всего должников</th>\n",
       "      <th>Доля должников</th>\n",
       "    </tr>\n",
       "    <tr>\n",
       "      <th>purpose_category</th>\n",
       "      <th></th>\n",
       "      <th></th>\n",
       "      <th></th>\n",
       "    </tr>\n",
       "  </thead>\n",
       "  <tbody>\n",
       "    <tr>\n",
       "      <th>операции с автомобилем</th>\n",
       "      <td>4279</td>\n",
       "      <td>400</td>\n",
       "      <td>0.09</td>\n",
       "    </tr>\n",
       "    <tr>\n",
       "      <th>операции с недвижимостью</th>\n",
       "      <td>10751</td>\n",
       "      <td>780</td>\n",
       "      <td>0.07</td>\n",
       "    </tr>\n",
       "    <tr>\n",
       "      <th>получение образования</th>\n",
       "      <td>3988</td>\n",
       "      <td>369</td>\n",
       "      <td>0.09</td>\n",
       "    </tr>\n",
       "    <tr>\n",
       "      <th>проведение свадьбы</th>\n",
       "      <td>2313</td>\n",
       "      <td>183</td>\n",
       "      <td>0.08</td>\n",
       "    </tr>\n",
       "  </tbody>\n",
       "</table>\n",
       "</div>"
      ],
      "text/plain": [
       "                          Всего кредитополучателей  Всего должников  \\\n",
       "purpose_category                                                      \n",
       "операции с автомобилем                        4279              400   \n",
       "операции с недвижимостью                     10751              780   \n",
       "получение образования                         3988              369   \n",
       "проведение свадьбы                            2313              183   \n",
       "\n",
       "                          Доля должников  \n",
       "purpose_category                          \n",
       "операции с автомобилем              0.09  \n",
       "операции с недвижимостью            0.07  \n",
       "получение образования               0.09  \n",
       "проведение свадьбы                  0.08  "
      ]
     },
     "execution_count": 27,
     "metadata": {},
     "output_type": "execute_result"
    }
   ],
   "source": [
    "data_pivot_table = data.pivot_table(index='purpose_category', values='debt', aggfunc=['count', 'sum', 'mean']).round(2)\n",
    "data_pivot_table.columns = ['Всего кредитополучателей', 'Всего должников', 'Доля должников']\n",
    "data_pivot_table"
   ]
  },
  {
   "cell_type": "markdown",
   "id": "c8f49728",
   "metadata": {},
   "source": [
    "Наибольшая доля должников - люди, берущие кредит на операции с автомобилем\tи для  получение образования (9%).\n",
    "\n",
    "Меньше всего должников среди людей, берущих кредит на покупку недвижимости (7%) или проведение свадьбы (8%).\n",
    "\n",
    "Однако стоит отметить перекос в группах. Несмотря на то, что меньше всего должников среди людей, берущих кредит на проведение свадьбы, эти люди реже всех берут кредиты. Больше всего кредит берут для операций с недвижимостью, кредитополучателей с такой целью почти 10 800."
   ]
  },
  {
   "cell_type": "markdown",
   "id": "39a97687",
   "metadata": {},
   "source": [
    "**Вывод:** \n",
    "\n",
    "Люди, которые берут кредит для покупки недвижимости, чаще выплачивают его в срок. Также редкие должники люди, берущие кредит на проведение свадьбы, однако люди с такой целью не часто берут кредит. Чаще всех кредиты берут люди с целью приобрести недвижимость.\n",
    " "
   ]
  },
  {
   "cell_type": "markdown",
   "id": "5e9b1186",
   "metadata": {},
   "source": [
    "## Общий вывод"
   ]
  },
  {
   "cell_type": "markdown",
   "id": "c9f296dc",
   "metadata": {},
   "source": [
    "В данном проекте исследовалась надежность заемщиков. А именно какие параметры влияют на факт погашения кредита в срок. Заказчик - кредитный отдел банка.\n",
    "\n",
    "Данные для анализа состоят из таблицы с 12 столбцами. \n",
    "\n",
    "**Описание данных:**\n",
    "* `children` — количество детей в семье\n",
    "* `days_employed` — общий трудовой стаж в днях\n",
    "* `dob_years` — возраст клиента в годах\n",
    "* `education` — уровень образования клиента\n",
    "* `education_id` — идентификатор уровня образования\n",
    "* `family_status` — семейное положение\n",
    "* `family_status_id` — идентификатор семейного положения\n",
    "* `gender` — пол клиента\n",
    "* `income_type` — тип занятости\n",
    "* `debt` — имел ли задолженность по возврату кредитов\n",
    "* `total_income` — ежемесячный доход\n",
    "* `purpose` — цель получения кредита\n",
    "    \n",
    "В ходе работы была проведена предобработка данных и исследовательский анализ данных.\n",
    "    \n",
    "**Во время предобработки данных:**\n",
    "1. В столбце `'days_employed'` были найдены артефакты (аномалии) — отрицательное количество дней трудового стажа. Все отрицательные значения были заменены положительными значениями.\n",
    "    \n",
    "2. В столбцах `'days_employed'` и `'total_income'` были обнаружены пропуски 2174 значений. Эти пропуски были заполнены. Для столбца 'days_employed' пропуски заполнили медианным значением трудового стажа в зависимости от типа занятости человека. Для столбца 'total_income' пропуски заполнили медианным значением ежемесячного дохода в зависимости от типа занятости человека.\n",
    "    \n",
    "3. В столбце `'children'` было найдено два аномальных значения. Были удалены строки, в которых встречаются такие аномальные значения.\n",
    "\n",
    "4. В столбце `'total_income'` был изменен тип данных с вещественного на целочисленный.\n",
    "\n",
    "5. В столбце `'education'` были удалены неявные дубликаты.\n",
    "\n",
    "6. Был создан  столбец `'total_income_category'` на основании диапазонов дохода. Были выделены следующие категории дохода:\n",
    "- 'E' доход 0 - 30 000;\n",
    "- 'D' доход 30 001 - 50 000;\n",
    "- 'C' доход 50 001 - 200 000;\n",
    "- 'B' доход 200 001 - 1 000 000;\n",
    "- 'A' доход выше 1 000 000.\n",
    "\n",
    "7. Был создан  столбец `'purpose_category'` на основании целей кредита, указанных в столбце 'purpose'. Были выделены следующие категории:\n",
    "- 'операции с автомобилем';\n",
    "- 'операции с недвижимостью';\n",
    "- 'проведение свадьбы';\n",
    "- 'получение образования'.\n",
    "    \n",
    "**Во время исследовательского анализы были сформулированы следующие выводы:**\n",
    "1. Чем меньше детей в семье, тем выше кредитоспособность семьи;\n",
    "\n",
    "2. Меньше всего должников среди людей в разводе и состоящих в браке. Также редкие должники вдовцы/вдовы, однако они и не часто берут кредиты. Чаще всех кредиты берут люди в браке;\n",
    "\n",
    "3. Чем выше доход кредитополучателя, тем чаще он будет выплачивать его в срок. Однако стоит заметить, что люди с доходом 50 001 - 200 000 берут кредиты чаще, чем люди с более высоким доходом 200 001 - 1 000 000;\n",
    "\n",
    "4. Люди, которые берут кредит для покупки недвижимости, чаще выплачивают его в срок. Также редкие должники люди, берущие кредит на проведение свадьбы, однако люди с такой целью не часто берут кредит. Чаще всех кредиты берут люди с целью приобрести недвижимость.\n",
    "    \n",
    "**Рекомендации:**\n",
    "- внимательнее заполнять данные о трудовом стаже и ежемесячном доходе. Пропуски могли нести в себе важную информацию для анализа;\n",
    "- при составлении модели кредитного скоринга комплексно уделить внимание следующим показателям: количество детей в семье, уровень дохода семьи, семейное положение. Учитывать, что есть определенные группы людей, которые чаще берут кредит. Таким семьям уделить больше внимания при анализе."
   ]
  }
 ],
 "metadata": {
  "kernelspec": {
   "display_name": "Python 3 (ipykernel)",
   "language": "python",
   "name": "python3"
  },
  "language_info": {
   "codemirror_mode": {
    "name": "ipython",
    "version": 3
   },
   "file_extension": ".py",
   "mimetype": "text/x-python",
   "name": "python",
   "nbconvert_exporter": "python",
   "pygments_lexer": "ipython3",
   "version": "3.9.13"
  }
 },
 "nbformat": 4,
 "nbformat_minor": 5
}
