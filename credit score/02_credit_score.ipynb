{
 "cells": [
  {
   "cell_type": "markdown",
   "id": "96e67978",
   "metadata": {
    "toc": true
   },
   "source": [
    "<h1>Содержание<span class=\"tocSkip\"></span></h1>\n",
    "<div class=\"toc\"><ul class=\"toc-item\"><li><span><a href=\"#Откройте-таблицу-и-изучите-общую-информацию-о-данных\" data-toc-modified-id=\"Откройте-таблицу-и-изучите-общую-информацию-о-данных-1\"><span class=\"toc-item-num\">1&nbsp;&nbsp;</span>Откройте таблицу и изучите общую информацию о данных</a></span></li><li><span><a href=\"#Предобработка-данных\" data-toc-modified-id=\"Предобработка-данных-2\"><span class=\"toc-item-num\">2&nbsp;&nbsp;</span>Предобработка данных</a></span><ul class=\"toc-item\"><li><span><a href=\"#Удаление-пропусков\" data-toc-modified-id=\"Удаление-пропусков-2.1\"><span class=\"toc-item-num\">2.1&nbsp;&nbsp;</span>Удаление пропусков</a></span></li><li><span><a href=\"#Обработка-аномальных-значений\" data-toc-modified-id=\"Обработка-аномальных-значений-2.2\"><span class=\"toc-item-num\">2.2&nbsp;&nbsp;</span>Обработка аномальных значений</a></span></li><li><span><a href=\"#Удаление-пропусков-(продолжение)\" data-toc-modified-id=\"Удаление-пропусков-(продолжение)-2.3\"><span class=\"toc-item-num\">2.3&nbsp;&nbsp;</span>Удаление пропусков (продолжение)</a></span></li><li><span><a href=\"#Изменение-типов-данных\" data-toc-modified-id=\"Изменение-типов-данных-2.4\"><span class=\"toc-item-num\">2.4&nbsp;&nbsp;</span>Изменение типов данных</a></span></li><li><span><a href=\"#Обработка-дубликатов\" data-toc-modified-id=\"Обработка-дубликатов-2.5\"><span class=\"toc-item-num\">2.5&nbsp;&nbsp;</span>Обработка дубликатов</a></span></li><li><span><a href=\"#Категоризация-данных\" data-toc-modified-id=\"Категоризация-данных-2.6\"><span class=\"toc-item-num\">2.6&nbsp;&nbsp;</span>Категоризация данных</a></span></li><li><span><a href=\"#Шаг-3.-Исследуйте-данные-и-ответьте-на-вопросы\" data-toc-modified-id=\"Шаг-3.-Исследуйте-данные-и-ответьте-на-вопросы-2.7\"><span class=\"toc-item-num\">2.7&nbsp;&nbsp;</span>Шаг 3. Исследуйте данные и ответьте на вопросы</a></span><ul class=\"toc-item\"><li><span><a href=\"#3.1-Есть-ли-зависимость-между-количеством-детей-и-возвратом-кредита-в-срок?\" data-toc-modified-id=\"3.1-Есть-ли-зависимость-между-количеством-детей-и-возвратом-кредита-в-срок?-2.7.1\"><span class=\"toc-item-num\">2.7.1&nbsp;&nbsp;</span>3.1 Есть ли зависимость между количеством детей и возвратом кредита в срок?</a></span></li><li><span><a href=\"#3.2-Есть-ли-зависимость-между-семейным-положением-и-возвратом-кредита-в-срок?\" data-toc-modified-id=\"3.2-Есть-ли-зависимость-между-семейным-положением-и-возвратом-кредита-в-срок?-2.7.2\"><span class=\"toc-item-num\">2.7.2&nbsp;&nbsp;</span>3.2 Есть ли зависимость между семейным положением и возвратом кредита в срок?</a></span></li><li><span><a href=\"#3.3-Есть-ли-зависимость-между-уровнем-дохода-и-возвратом-кредита-в-срок?\" data-toc-modified-id=\"3.3-Есть-ли-зависимость-между-уровнем-дохода-и-возвратом-кредита-в-срок?-2.7.3\"><span class=\"toc-item-num\">2.7.3&nbsp;&nbsp;</span>3.3 Есть ли зависимость между уровнем дохода и возвратом кредита в срок?</a></span></li><li><span><a href=\"#3.4-Как-разные-цели-кредита-влияют-на-его-возврат-в-срок?\" data-toc-modified-id=\"3.4-Как-разные-цели-кредита-влияют-на-его-возврат-в-срок?-2.7.4\"><span class=\"toc-item-num\">2.7.4&nbsp;&nbsp;</span>3.4 Как разные цели кредита влияют на его возврат в срок?</a></span></li><li><span><a href=\"#3.5-Приведите-возможные-причины-появления-пропусков-в-исходных-данных.\" data-toc-modified-id=\"3.5-Приведите-возможные-причины-появления-пропусков-в-исходных-данных.-2.7.5\"><span class=\"toc-item-num\">2.7.5&nbsp;&nbsp;</span>3.5 Приведите возможные причины появления пропусков в исходных данных.</a></span></li><li><span><a href=\"#3.6-Объясните,-почему-заполнить-пропуски-медианным-значением-—-лучшее-решение-для-количественных-переменных.\" data-toc-modified-id=\"3.6-Объясните,-почему-заполнить-пропуски-медианным-значением-—-лучшее-решение-для-количественных-переменных.-2.7.6\"><span class=\"toc-item-num\">2.7.6&nbsp;&nbsp;</span>3.6 Объясните, почему заполнить пропуски медианным значением — лучшее решение для количественных переменных.</a></span></li></ul></li><li><span><a href=\"#Шаг-4:-общий-вывод.\" data-toc-modified-id=\"Шаг-4:-общий-вывод.-2.8\"><span class=\"toc-item-num\">2.8&nbsp;&nbsp;</span>Шаг 4: общий вывод.</a></span></li></ul></li></ul></div>"
   ]
  },
  {
   "cell_type": "markdown",
   "id": "386f2ae7",
   "metadata": {
    "deletable": false,
    "editable": false,
    "id": "386f2ae7"
   },
   "source": [
    "# Исследование надежности заемщиков\n"
   ]
  },
  {
   "cell_type": "markdown",
   "id": "ffe86f65",
   "metadata": {
    "deletable": false,
    "editable": false,
    "id": "ffe86f65"
   },
   "source": [
    "Во второй части проекта вы выполните шаги 3 и 4. Их вручную проверит ревьюер.\n",
    "Чтобы вам не пришлось писать код заново для шагов 1 и 2, мы добавили авторские решения в ячейки с кодом. \n",
    "\n"
   ]
  },
  {
   "cell_type": "markdown",
   "id": "9c375a83",
   "metadata": {},
   "source": [
    "**Цель исследования** — определить какие параметры влияют на факт погашения кредита в срок.\n",
    "\n",
    "Необходимо проверить следующие зависимости:\n",
    "1. Есть ли зависимость между количеством детей и возвратом кредита в срок?\n",
    "2. Есть ли зависимость между семейным положением и возвратом кредита в срок?\n",
    "3. Есть ли зависимость между уровнем дохода и возвратом кредита в срок?\n",
    "4. Как разные цели кредита влияют на его возврат в срок?"
   ]
  },
  {
   "cell_type": "markdown",
   "id": "e916af14",
   "metadata": {},
   "source": [
    "**Описание проекта**\n",
    "\n",
    "Заказчик — кредитный отдел банка. Нужно разобраться, влияет ли семейное положение и количество детей клиента на факт погашения кредита в срок. Входные данные от банка — статистика о платёжеспособности клиентов.\n",
    "\n",
    "Результаты исследования будут учтены при построении модели кредитного скоринга — специальной системы, которая оценивает способность потенциального заёмщика вернуть кредит банку."
   ]
  },
  {
   "cell_type": "markdown",
   "id": "2d4e080d",
   "metadata": {},
   "source": [
    "<p>\n",
    "<div class=\"alert-success\">\n",
    "<b>Комментарий ревьюера ✔️</b>\n",
    "\n",
    "Здорово и необычно, что ты дополняешь первую часть проекта. Вступление станет лучше, если ты добавишь в него описание данных, тогда получатель отчета сможет быстрей его понять. \n",
    "\n",
    "\n",
    "\n",
    "Пример описания данных:\n",
    "- *airports_nearest* — расстояние до ближайшего аэропорта в метрах (м)\n",
    "- *balcony* — число балконов\n",
    "- ...\n",
    "\n",
    "    \n",
    "Твой проект станет намного удобней в использовании, если ты добавишь интерактивное оглавление — с помощью гиперссылок или в плагине toc. Материал об этом есть в блоке курса Полезные инструкции для учёбы - Оформление проекта - Изменения в Jupyter: автоматическое оглавление и горячие клавиши."
   ]
  },
  {
   "cell_type": "markdown",
   "id": "26613308",
   "metadata": {
    "deletable": false,
    "editable": false,
    "id": "26613308"
   },
   "source": [
    "## Откройте таблицу и изучите общую информацию о данных"
   ]
  },
  {
   "cell_type": "markdown",
   "id": "3c9f838e",
   "metadata": {
    "deletable": false,
    "editable": false,
    "id": "3c9f838e"
   },
   "source": [
    "**Задание 1. Импортируйте библиотеку pandas. Считайте данные из csv-файла в датафрейм и сохраните в переменную `data`. Путь к файлу:**\n",
    "\n",
    "`/datasets/data.csv`"
   ]
  },
  {
   "cell_type": "code",
   "execution_count": 1,
   "id": "77a68a90",
   "metadata": {
    "deletable": false,
    "id": "77a68a90"
   },
   "outputs": [],
   "source": [
    "import pandas as pd\n",
    "\n",
    "try:\n",
    "    data = pd.read_csv('/datasets/data.csv')\n",
    "except:\n",
    "    data = pd.read_csv('https://code.s3.yandex.net/datasets/data.csv')"
   ]
  },
  {
   "cell_type": "markdown",
   "id": "f95c87b2",
   "metadata": {},
   "source": [
    "<p>\n",
    "<div class=\"alert-success\">\n",
    "<b>Комментарий ревьюера ✔️</b>\n",
    "\n",
    "\n",
    "Блок загрузки библиотек лучше размещать в отдельной от остального кода ячейке. Такой подход позволит улучшить читаемость кода, снизит время поиска ошибок (если они есть) и исключит повторное выполнение кода.\n",
    "    \n",
    "Здорово, что здесь используется конструкция ``try-except`` для путей файлов. Но еще лучше использовать библиотеку ``os``:\n",
    "\n",
    "    import os\n",
    "\n",
    "    pth1 = '/folder_1/data.csv'\n",
    "    pth2 = '/folder_2/data.csv'\n",
    "    \n",
    "    if os.path.exists(pth1):\n",
    "        query_1 = pd.read_csv(pth1)\n",
    "    elif os.path.exists(pth2):\n",
    "        query_1 = pd.read_csv(pth2)\n",
    "    else:\n",
    "        print('Something is wrong)"
   ]
  },
  {
   "cell_type": "markdown",
   "id": "45365635",
   "metadata": {
    "deletable": false,
    "editable": false,
    "id": "45365635"
   },
   "source": [
    "**Задание 2. Выведите первые 20 строчек датафрейма `data` на экран.**"
   ]
  },
  {
   "cell_type": "code",
   "execution_count": 2,
   "id": "b0451a9a",
   "metadata": {
    "deletable": false,
    "id": "b0451a9a",
    "outputId": "1a8f3ef2-d323-4ec2-ddf7-89670b5944c4"
   },
   "outputs": [
    {
     "data": {
      "text/html": [
       "<div>\n",
       "<style scoped>\n",
       "    .dataframe tbody tr th:only-of-type {\n",
       "        vertical-align: middle;\n",
       "    }\n",
       "\n",
       "    .dataframe tbody tr th {\n",
       "        vertical-align: top;\n",
       "    }\n",
       "\n",
       "    .dataframe thead th {\n",
       "        text-align: right;\n",
       "    }\n",
       "</style>\n",
       "<table border=\"1\" class=\"dataframe\">\n",
       "  <thead>\n",
       "    <tr style=\"text-align: right;\">\n",
       "      <th></th>\n",
       "      <th>children</th>\n",
       "      <th>days_employed</th>\n",
       "      <th>dob_years</th>\n",
       "      <th>education</th>\n",
       "      <th>education_id</th>\n",
       "      <th>family_status</th>\n",
       "      <th>family_status_id</th>\n",
       "      <th>gender</th>\n",
       "      <th>income_type</th>\n",
       "      <th>debt</th>\n",
       "      <th>total_income</th>\n",
       "      <th>purpose</th>\n",
       "    </tr>\n",
       "  </thead>\n",
       "  <tbody>\n",
       "    <tr>\n",
       "      <th>0</th>\n",
       "      <td>1</td>\n",
       "      <td>-8437.673028</td>\n",
       "      <td>42</td>\n",
       "      <td>высшее</td>\n",
       "      <td>0</td>\n",
       "      <td>женат / замужем</td>\n",
       "      <td>0</td>\n",
       "      <td>F</td>\n",
       "      <td>сотрудник</td>\n",
       "      <td>0</td>\n",
       "      <td>253875.639453</td>\n",
       "      <td>покупка жилья</td>\n",
       "    </tr>\n",
       "    <tr>\n",
       "      <th>1</th>\n",
       "      <td>1</td>\n",
       "      <td>-4024.803754</td>\n",
       "      <td>36</td>\n",
       "      <td>среднее</td>\n",
       "      <td>1</td>\n",
       "      <td>женат / замужем</td>\n",
       "      <td>0</td>\n",
       "      <td>F</td>\n",
       "      <td>сотрудник</td>\n",
       "      <td>0</td>\n",
       "      <td>112080.014102</td>\n",
       "      <td>приобретение автомобиля</td>\n",
       "    </tr>\n",
       "    <tr>\n",
       "      <th>2</th>\n",
       "      <td>0</td>\n",
       "      <td>-5623.422610</td>\n",
       "      <td>33</td>\n",
       "      <td>Среднее</td>\n",
       "      <td>1</td>\n",
       "      <td>женат / замужем</td>\n",
       "      <td>0</td>\n",
       "      <td>M</td>\n",
       "      <td>сотрудник</td>\n",
       "      <td>0</td>\n",
       "      <td>145885.952297</td>\n",
       "      <td>покупка жилья</td>\n",
       "    </tr>\n",
       "    <tr>\n",
       "      <th>3</th>\n",
       "      <td>3</td>\n",
       "      <td>-4124.747207</td>\n",
       "      <td>32</td>\n",
       "      <td>среднее</td>\n",
       "      <td>1</td>\n",
       "      <td>женат / замужем</td>\n",
       "      <td>0</td>\n",
       "      <td>M</td>\n",
       "      <td>сотрудник</td>\n",
       "      <td>0</td>\n",
       "      <td>267628.550329</td>\n",
       "      <td>дополнительное образование</td>\n",
       "    </tr>\n",
       "    <tr>\n",
       "      <th>4</th>\n",
       "      <td>0</td>\n",
       "      <td>340266.072047</td>\n",
       "      <td>53</td>\n",
       "      <td>среднее</td>\n",
       "      <td>1</td>\n",
       "      <td>гражданский брак</td>\n",
       "      <td>1</td>\n",
       "      <td>F</td>\n",
       "      <td>пенсионер</td>\n",
       "      <td>0</td>\n",
       "      <td>158616.077870</td>\n",
       "      <td>сыграть свадьбу</td>\n",
       "    </tr>\n",
       "    <tr>\n",
       "      <th>5</th>\n",
       "      <td>0</td>\n",
       "      <td>-926.185831</td>\n",
       "      <td>27</td>\n",
       "      <td>высшее</td>\n",
       "      <td>0</td>\n",
       "      <td>гражданский брак</td>\n",
       "      <td>1</td>\n",
       "      <td>M</td>\n",
       "      <td>компаньон</td>\n",
       "      <td>0</td>\n",
       "      <td>255763.565419</td>\n",
       "      <td>покупка жилья</td>\n",
       "    </tr>\n",
       "    <tr>\n",
       "      <th>6</th>\n",
       "      <td>0</td>\n",
       "      <td>-2879.202052</td>\n",
       "      <td>43</td>\n",
       "      <td>высшее</td>\n",
       "      <td>0</td>\n",
       "      <td>женат / замужем</td>\n",
       "      <td>0</td>\n",
       "      <td>F</td>\n",
       "      <td>компаньон</td>\n",
       "      <td>0</td>\n",
       "      <td>240525.971920</td>\n",
       "      <td>операции с жильем</td>\n",
       "    </tr>\n",
       "    <tr>\n",
       "      <th>7</th>\n",
       "      <td>0</td>\n",
       "      <td>-152.779569</td>\n",
       "      <td>50</td>\n",
       "      <td>СРЕДНЕЕ</td>\n",
       "      <td>1</td>\n",
       "      <td>женат / замужем</td>\n",
       "      <td>0</td>\n",
       "      <td>M</td>\n",
       "      <td>сотрудник</td>\n",
       "      <td>0</td>\n",
       "      <td>135823.934197</td>\n",
       "      <td>образование</td>\n",
       "    </tr>\n",
       "    <tr>\n",
       "      <th>8</th>\n",
       "      <td>2</td>\n",
       "      <td>-6929.865299</td>\n",
       "      <td>35</td>\n",
       "      <td>ВЫСШЕЕ</td>\n",
       "      <td>0</td>\n",
       "      <td>гражданский брак</td>\n",
       "      <td>1</td>\n",
       "      <td>F</td>\n",
       "      <td>сотрудник</td>\n",
       "      <td>0</td>\n",
       "      <td>95856.832424</td>\n",
       "      <td>на проведение свадьбы</td>\n",
       "    </tr>\n",
       "    <tr>\n",
       "      <th>9</th>\n",
       "      <td>0</td>\n",
       "      <td>-2188.756445</td>\n",
       "      <td>41</td>\n",
       "      <td>среднее</td>\n",
       "      <td>1</td>\n",
       "      <td>женат / замужем</td>\n",
       "      <td>0</td>\n",
       "      <td>M</td>\n",
       "      <td>сотрудник</td>\n",
       "      <td>0</td>\n",
       "      <td>144425.938277</td>\n",
       "      <td>покупка жилья для семьи</td>\n",
       "    </tr>\n",
       "    <tr>\n",
       "      <th>10</th>\n",
       "      <td>2</td>\n",
       "      <td>-4171.483647</td>\n",
       "      <td>36</td>\n",
       "      <td>высшее</td>\n",
       "      <td>0</td>\n",
       "      <td>женат / замужем</td>\n",
       "      <td>0</td>\n",
       "      <td>M</td>\n",
       "      <td>компаньон</td>\n",
       "      <td>0</td>\n",
       "      <td>113943.491460</td>\n",
       "      <td>покупка недвижимости</td>\n",
       "    </tr>\n",
       "    <tr>\n",
       "      <th>11</th>\n",
       "      <td>0</td>\n",
       "      <td>-792.701887</td>\n",
       "      <td>40</td>\n",
       "      <td>среднее</td>\n",
       "      <td>1</td>\n",
       "      <td>женат / замужем</td>\n",
       "      <td>0</td>\n",
       "      <td>F</td>\n",
       "      <td>сотрудник</td>\n",
       "      <td>0</td>\n",
       "      <td>77069.234271</td>\n",
       "      <td>покупка коммерческой недвижимости</td>\n",
       "    </tr>\n",
       "    <tr>\n",
       "      <th>12</th>\n",
       "      <td>0</td>\n",
       "      <td>NaN</td>\n",
       "      <td>65</td>\n",
       "      <td>среднее</td>\n",
       "      <td>1</td>\n",
       "      <td>гражданский брак</td>\n",
       "      <td>1</td>\n",
       "      <td>M</td>\n",
       "      <td>пенсионер</td>\n",
       "      <td>0</td>\n",
       "      <td>NaN</td>\n",
       "      <td>сыграть свадьбу</td>\n",
       "    </tr>\n",
       "    <tr>\n",
       "      <th>13</th>\n",
       "      <td>0</td>\n",
       "      <td>-1846.641941</td>\n",
       "      <td>54</td>\n",
       "      <td>неоконченное высшее</td>\n",
       "      <td>2</td>\n",
       "      <td>женат / замужем</td>\n",
       "      <td>0</td>\n",
       "      <td>F</td>\n",
       "      <td>сотрудник</td>\n",
       "      <td>0</td>\n",
       "      <td>130458.228857</td>\n",
       "      <td>приобретение автомобиля</td>\n",
       "    </tr>\n",
       "    <tr>\n",
       "      <th>14</th>\n",
       "      <td>0</td>\n",
       "      <td>-1844.956182</td>\n",
       "      <td>56</td>\n",
       "      <td>высшее</td>\n",
       "      <td>0</td>\n",
       "      <td>гражданский брак</td>\n",
       "      <td>1</td>\n",
       "      <td>F</td>\n",
       "      <td>компаньон</td>\n",
       "      <td>1</td>\n",
       "      <td>165127.911772</td>\n",
       "      <td>покупка жилой недвижимости</td>\n",
       "    </tr>\n",
       "    <tr>\n",
       "      <th>15</th>\n",
       "      <td>1</td>\n",
       "      <td>-972.364419</td>\n",
       "      <td>26</td>\n",
       "      <td>среднее</td>\n",
       "      <td>1</td>\n",
       "      <td>женат / замужем</td>\n",
       "      <td>0</td>\n",
       "      <td>F</td>\n",
       "      <td>сотрудник</td>\n",
       "      <td>0</td>\n",
       "      <td>116820.904450</td>\n",
       "      <td>строительство собственной недвижимости</td>\n",
       "    </tr>\n",
       "    <tr>\n",
       "      <th>16</th>\n",
       "      <td>0</td>\n",
       "      <td>-1719.934226</td>\n",
       "      <td>35</td>\n",
       "      <td>среднее</td>\n",
       "      <td>1</td>\n",
       "      <td>женат / замужем</td>\n",
       "      <td>0</td>\n",
       "      <td>F</td>\n",
       "      <td>сотрудник</td>\n",
       "      <td>0</td>\n",
       "      <td>289202.704229</td>\n",
       "      <td>недвижимость</td>\n",
       "    </tr>\n",
       "    <tr>\n",
       "      <th>17</th>\n",
       "      <td>0</td>\n",
       "      <td>-2369.999720</td>\n",
       "      <td>33</td>\n",
       "      <td>высшее</td>\n",
       "      <td>0</td>\n",
       "      <td>гражданский брак</td>\n",
       "      <td>1</td>\n",
       "      <td>M</td>\n",
       "      <td>сотрудник</td>\n",
       "      <td>0</td>\n",
       "      <td>90410.586745</td>\n",
       "      <td>строительство недвижимости</td>\n",
       "    </tr>\n",
       "    <tr>\n",
       "      <th>18</th>\n",
       "      <td>0</td>\n",
       "      <td>400281.136913</td>\n",
       "      <td>53</td>\n",
       "      <td>среднее</td>\n",
       "      <td>1</td>\n",
       "      <td>вдовец / вдова</td>\n",
       "      <td>2</td>\n",
       "      <td>F</td>\n",
       "      <td>пенсионер</td>\n",
       "      <td>0</td>\n",
       "      <td>56823.777243</td>\n",
       "      <td>на покупку подержанного автомобиля</td>\n",
       "    </tr>\n",
       "    <tr>\n",
       "      <th>19</th>\n",
       "      <td>0</td>\n",
       "      <td>-10038.818549</td>\n",
       "      <td>48</td>\n",
       "      <td>СРЕДНЕЕ</td>\n",
       "      <td>1</td>\n",
       "      <td>в разводе</td>\n",
       "      <td>3</td>\n",
       "      <td>F</td>\n",
       "      <td>сотрудник</td>\n",
       "      <td>0</td>\n",
       "      <td>242831.107982</td>\n",
       "      <td>на покупку своего автомобиля</td>\n",
       "    </tr>\n",
       "  </tbody>\n",
       "</table>\n",
       "</div>"
      ],
      "text/plain": [
       "    children  days_employed  dob_years            education  education_id  \\\n",
       "0          1   -8437.673028         42               высшее             0   \n",
       "1          1   -4024.803754         36              среднее             1   \n",
       "2          0   -5623.422610         33              Среднее             1   \n",
       "3          3   -4124.747207         32              среднее             1   \n",
       "4          0  340266.072047         53              среднее             1   \n",
       "5          0    -926.185831         27               высшее             0   \n",
       "6          0   -2879.202052         43               высшее             0   \n",
       "7          0    -152.779569         50              СРЕДНЕЕ             1   \n",
       "8          2   -6929.865299         35               ВЫСШЕЕ             0   \n",
       "9          0   -2188.756445         41              среднее             1   \n",
       "10         2   -4171.483647         36               высшее             0   \n",
       "11         0    -792.701887         40              среднее             1   \n",
       "12         0            NaN         65              среднее             1   \n",
       "13         0   -1846.641941         54  неоконченное высшее             2   \n",
       "14         0   -1844.956182         56               высшее             0   \n",
       "15         1    -972.364419         26              среднее             1   \n",
       "16         0   -1719.934226         35              среднее             1   \n",
       "17         0   -2369.999720         33               высшее             0   \n",
       "18         0  400281.136913         53              среднее             1   \n",
       "19         0  -10038.818549         48              СРЕДНЕЕ             1   \n",
       "\n",
       "       family_status  family_status_id gender income_type  debt  \\\n",
       "0    женат / замужем                 0      F   сотрудник     0   \n",
       "1    женат / замужем                 0      F   сотрудник     0   \n",
       "2    женат / замужем                 0      M   сотрудник     0   \n",
       "3    женат / замужем                 0      M   сотрудник     0   \n",
       "4   гражданский брак                 1      F   пенсионер     0   \n",
       "5   гражданский брак                 1      M   компаньон     0   \n",
       "6    женат / замужем                 0      F   компаньон     0   \n",
       "7    женат / замужем                 0      M   сотрудник     0   \n",
       "8   гражданский брак                 1      F   сотрудник     0   \n",
       "9    женат / замужем                 0      M   сотрудник     0   \n",
       "10   женат / замужем                 0      M   компаньон     0   \n",
       "11   женат / замужем                 0      F   сотрудник     0   \n",
       "12  гражданский брак                 1      M   пенсионер     0   \n",
       "13   женат / замужем                 0      F   сотрудник     0   \n",
       "14  гражданский брак                 1      F   компаньон     1   \n",
       "15   женат / замужем                 0      F   сотрудник     0   \n",
       "16   женат / замужем                 0      F   сотрудник     0   \n",
       "17  гражданский брак                 1      M   сотрудник     0   \n",
       "18    вдовец / вдова                 2      F   пенсионер     0   \n",
       "19         в разводе                 3      F   сотрудник     0   \n",
       "\n",
       "     total_income                                 purpose  \n",
       "0   253875.639453                           покупка жилья  \n",
       "1   112080.014102                 приобретение автомобиля  \n",
       "2   145885.952297                           покупка жилья  \n",
       "3   267628.550329              дополнительное образование  \n",
       "4   158616.077870                         сыграть свадьбу  \n",
       "5   255763.565419                           покупка жилья  \n",
       "6   240525.971920                       операции с жильем  \n",
       "7   135823.934197                             образование  \n",
       "8    95856.832424                   на проведение свадьбы  \n",
       "9   144425.938277                 покупка жилья для семьи  \n",
       "10  113943.491460                    покупка недвижимости  \n",
       "11   77069.234271       покупка коммерческой недвижимости  \n",
       "12            NaN                         сыграть свадьбу  \n",
       "13  130458.228857                 приобретение автомобиля  \n",
       "14  165127.911772              покупка жилой недвижимости  \n",
       "15  116820.904450  строительство собственной недвижимости  \n",
       "16  289202.704229                            недвижимость  \n",
       "17   90410.586745              строительство недвижимости  \n",
       "18   56823.777243      на покупку подержанного автомобиля  \n",
       "19  242831.107982            на покупку своего автомобиля  "
      ]
     },
     "execution_count": 2,
     "metadata": {},
     "output_type": "execute_result"
    }
   ],
   "source": [
    "data.head(20)"
   ]
  },
  {
   "cell_type": "markdown",
   "id": "0ed8f27f",
   "metadata": {
    "deletable": false,
    "editable": false,
    "id": "0ed8f27f"
   },
   "source": [
    "**Задание 3. Выведите основную информацию о датафрейме с помощью метода `info()`.**"
   ]
  },
  {
   "cell_type": "code",
   "execution_count": 3,
   "id": "ab3f863b",
   "metadata": {
    "deletable": false,
    "id": "ab3f863b",
    "outputId": "15376089-8dad-46c9-b520-c05248d43158"
   },
   "outputs": [
    {
     "name": "stdout",
     "output_type": "stream",
     "text": [
      "<class 'pandas.core.frame.DataFrame'>\n",
      "RangeIndex: 21525 entries, 0 to 21524\n",
      "Data columns (total 12 columns):\n",
      " #   Column            Non-Null Count  Dtype  \n",
      "---  ------            --------------  -----  \n",
      " 0   children          21525 non-null  int64  \n",
      " 1   days_employed     19351 non-null  float64\n",
      " 2   dob_years         21525 non-null  int64  \n",
      " 3   education         21525 non-null  object \n",
      " 4   education_id      21525 non-null  int64  \n",
      " 5   family_status     21525 non-null  object \n",
      " 6   family_status_id  21525 non-null  int64  \n",
      " 7   gender            21525 non-null  object \n",
      " 8   income_type       21525 non-null  object \n",
      " 9   debt              21525 non-null  int64  \n",
      " 10  total_income      19351 non-null  float64\n",
      " 11  purpose           21525 non-null  object \n",
      "dtypes: float64(2), int64(5), object(5)\n",
      "memory usage: 2.0+ MB\n"
     ]
    }
   ],
   "source": [
    "data.info()"
   ]
  },
  {
   "cell_type": "markdown",
   "id": "c4eea3b9",
   "metadata": {},
   "source": [
    "В таблице 12 столбцов. Тип данных в двух столбцах - float; в пяти столбцах - int; в пяти столбцах — object.\n",
    "\n",
    "Согласно документации к данным:\n",
    "Описание данных\n",
    "* `children` — количество детей в семье\n",
    "* `days_employed` — общий трудовой стаж в днях\n",
    "* `dob_years` — возраст клиента в годах\n",
    "* `education` — уровень образования клиента\n",
    "* `education_id` — идентификатор уровня образования\n",
    "* `family_status` — семейное положение\n",
    "* `family_status_id` — идентификатор семейного положения\n",
    "* `gender` — пол клиента\n",
    "* `income_type` — тип занятости\n",
    "* `debt` — имел ли задолженность по возврату кредитов\n",
    "* `total_income` — ежемесячный доход\n",
    "* `purpose` — цель получения кредита"
   ]
  },
  {
   "cell_type": "markdown",
   "id": "60e3e22d",
   "metadata": {
    "deletable": false,
    "editable": false,
    "id": "60e3e22d"
   },
   "source": [
    "## Предобработка данных"
   ]
  },
  {
   "cell_type": "markdown",
   "id": "03dc170c",
   "metadata": {
    "deletable": false,
    "editable": false,
    "id": "03dc170c"
   },
   "source": [
    "### Удаление пропусков"
   ]
  },
  {
   "cell_type": "markdown",
   "id": "a4f54eef",
   "metadata": {
    "deletable": false,
    "editable": false,
    "id": "a4f54eef"
   },
   "source": [
    "**Задание 4. Выведите количество пропущенных значений для каждого столбца. Используйте комбинацию двух методов.**"
   ]
  },
  {
   "cell_type": "code",
   "execution_count": 4,
   "id": "168e6edb",
   "metadata": {
    "deletable": false,
    "id": "2dc372b2",
    "outputId": "81f4d817-781c-465c-ed15-91ce4446810d",
    "scrolled": true
   },
   "outputs": [
    {
     "data": {
      "text/plain": [
       "children               0\n",
       "days_employed       2174\n",
       "dob_years              0\n",
       "education              0\n",
       "education_id           0\n",
       "family_status          0\n",
       "family_status_id       0\n",
       "gender                 0\n",
       "income_type            0\n",
       "debt                   0\n",
       "total_income        2174\n",
       "purpose                0\n",
       "dtype: int64"
      ]
     },
     "execution_count": 4,
     "metadata": {},
     "output_type": "execute_result"
    }
   ],
   "source": [
    "data.isna().sum()"
   ]
  },
  {
   "cell_type": "markdown",
   "id": "d42daec6",
   "metadata": {},
   "source": [
    "В столбце `'days_employed'` и `'total_income'` пропущено 2174 значений."
   ]
  },
  {
   "cell_type": "markdown",
   "id": "dd251bd7",
   "metadata": {},
   "source": [
    "<p>\n",
    "<div class=\"alert-success\">\n",
    "<b>Комментарий ревьюера ✔️</b>\n",
    "\n",
    "\n",
    "Удобно было бы сразу вывести долю пропусков. Так мы увидим, что можно отбросить, а с чем надо работать. Пример кода:\n",
    "    \n",
    "    pd.DataFrame(data.isna().mean()*100).style.set_precision(1).background_gradient('coolwarm')"
   ]
  },
  {
   "cell_type": "markdown",
   "id": "14f011b1",
   "metadata": {
    "deletable": false,
    "editable": false,
    "id": "14f011b1"
   },
   "source": [
    "**Задание 5. В двух столбцах есть пропущенные значения. Один из них — `days_employed`. Пропуски в этом столбце вы обработаете на следующем этапе. Другой столбец с пропущенными значениями — `total_income` — хранит данные о доходах. На сумму дохода сильнее всего влияет тип занятости, поэтому заполнить пропуски в этом столбце нужно медианным значением по каждому типу из столбца `income_type`. Например, у человека с типом занятости `сотрудник` пропуск в столбце `total_income` должен быть заполнен медианным доходом среди всех записей с тем же типом.**"
   ]
  },
  {
   "cell_type": "code",
   "execution_count": 5,
   "id": "bdabfb6e",
   "metadata": {
    "deletable": false,
    "id": "bdabfb6e"
   },
   "outputs": [],
   "source": [
    "# Создадим цикл, в котором пройдем по каждому уникальному типу занятости (столбец 'income_type')\n",
    "# Далее в столбце 'income_type' в строки с пропуском запишем медианное значение \n",
    "for t in data['income_type'].unique():\n",
    "    data.loc[(data['income_type'] == t) & (data['total_income'].isna()), 'total_income'] = \\\n",
    "    data.loc[(data['income_type'] == t), 'total_income'].median()"
   ]
  },
  {
   "cell_type": "markdown",
   "id": "5be34059",
   "metadata": {
    "deletable": false,
    "editable": false,
    "id": "5be34059"
   },
   "source": [
    "### Обработка аномальных значений"
   ]
  },
  {
   "cell_type": "markdown",
   "id": "a87606cb",
   "metadata": {
    "deletable": false,
    "editable": false,
    "id": "a87606cb"
   },
   "source": [
    "**Задание 6. В данных могут встречаться артефакты (аномалии) — значения, которые не отражают действительность и появились по какой-то ошибке. таким артефактом будет отрицательное количество дней трудового стажа в столбце `days_employed`. Для реальных данных это нормально. Обработайте значения в этом столбце: замените все отрицательные значения положительными с помощью метода `abs()`.**"
   ]
  },
  {
   "cell_type": "code",
   "execution_count": 6,
   "id": "020c46cc",
   "metadata": {
    "deletable": false,
    "id": "020c46cc"
   },
   "outputs": [],
   "source": [
    "data['days_employed'] = data['days_employed'].abs()"
   ]
  },
  {
   "cell_type": "markdown",
   "id": "45538a3a",
   "metadata": {
    "deletable": false,
    "editable": false,
    "id": "45538a3a"
   },
   "source": [
    "**Задание 7. Для каждого типа занятости выведите медианное значение трудового стажа `days_employed` в днях.**"
   ]
  },
  {
   "cell_type": "code",
   "execution_count": 7,
   "id": "cd3e6328",
   "metadata": {
    "deletable": false,
    "id": "cd3e6328",
    "outputId": "801ef80e-522b-4668-f34e-565af7432bcf"
   },
   "outputs": [
    {
     "data": {
      "text/plain": [
       "income_type\n",
       "безработный        366413.652744\n",
       "в декрете            3296.759962\n",
       "госслужащий          2689.368353\n",
       "компаньон            1547.382223\n",
       "пенсионер          365213.306266\n",
       "предприниматель       520.848083\n",
       "сотрудник            1574.202821\n",
       "студент               578.751554\n",
       "Name: days_employed, dtype: float64"
      ]
     },
     "execution_count": 7,
     "metadata": {},
     "output_type": "execute_result"
    }
   ],
   "source": [
    "data.groupby('income_type')['days_employed'].agg('median')"
   ]
  },
  {
   "cell_type": "markdown",
   "id": "90c5f058",
   "metadata": {
    "deletable": false,
    "editable": false,
    "id": "90c5f058"
   },
   "source": [
    "У двух типов (безработные и пенсионеры) получатся аномально большие значения. Исправить такие значения сложно, поэтому оставьте их как есть."
   ]
  },
  {
   "cell_type": "markdown",
   "id": "9652e50d",
   "metadata": {
    "deletable": false,
    "editable": false,
    "id": "9652e50d"
   },
   "source": [
    "**Задание 8. Выведите перечень уникальных значений столбца `children`.**"
   ]
  },
  {
   "cell_type": "code",
   "execution_count": 8,
   "id": "dbb37b8e",
   "metadata": {
    "deletable": false,
    "id": "dbb37b8e",
    "outputId": "6975b15c-7f95-4697-d16d-a0c79b657b03"
   },
   "outputs": [
    {
     "data": {
      "text/plain": [
       "array([ 1,  0,  3,  2, -1,  4, 20,  5])"
      ]
     },
     "execution_count": 8,
     "metadata": {},
     "output_type": "execute_result"
    }
   ],
   "source": [
    "data['children'].unique()"
   ]
  },
  {
   "cell_type": "markdown",
   "id": "2b8b0715",
   "metadata": {
    "deletable": false,
    "editable": false,
    "id": "2b8b0715"
   },
   "source": [
    "**Задание 9. В столбце `children` есть два аномальных значения. Удалите строки, в которых встречаются такие аномальные значения из датафрейма `data`.**"
   ]
  },
  {
   "cell_type": "code",
   "execution_count": 9,
   "id": "20009df8",
   "metadata": {
    "deletable": false,
    "id": "20009df8"
   },
   "outputs": [],
   "source": [
    "data = data[(data['children'] != -1) & (data['children'] != 20)]"
   ]
  },
  {
   "cell_type": "markdown",
   "id": "f2d9523a",
   "metadata": {},
   "source": [
    "<p>\n",
    "<div class=\"alert-success\">\n",
    "<b>Комментарий ревьюера ✔️</b>\n",
    "\n",
    "Сейчас доля аномалий мала и ни на что не повлияет. В следующий раз старайся сразу высчитывать их долю. Мы можем удалить не больше 5-10% датафрейма. Если доля удаляемых данных больше, надо обрабатывать их по-иному"
   ]
  },
  {
   "cell_type": "markdown",
   "id": "8c6ac9f1",
   "metadata": {
    "deletable": false,
    "editable": false,
    "id": "8c6ac9f1"
   },
   "source": [
    "**Задание 10. Ещё раз выведите перечень уникальных значений столбца `children`, чтобы убедиться, что артефакты удалены.**"
   ]
  },
  {
   "cell_type": "code",
   "execution_count": 10,
   "id": "07337b81",
   "metadata": {
    "deletable": false,
    "id": "07337b81",
    "outputId": "b2097101-d49d-44d9-901b-32a65c9463d1"
   },
   "outputs": [
    {
     "data": {
      "text/plain": [
       "array([1, 0, 3, 2, 4, 5])"
      ]
     },
     "execution_count": 10,
     "metadata": {},
     "output_type": "execute_result"
    }
   ],
   "source": [
    "data['children'].unique()"
   ]
  },
  {
   "cell_type": "markdown",
   "id": "3c28b852",
   "metadata": {},
   "source": [
    "<p>\n",
    "<div class=\"alert-success\">\n",
    "<b>Комментарий ревьюера ✔️</b>\n",
    "\n",
    "\n",
    "\n",
    "Можно было бы еще обработать странное значение в данных пола. Оно единично и ни на что не повлияет, но описать его следует"
   ]
  },
  {
   "cell_type": "markdown",
   "id": "ee3f52d4",
   "metadata": {
    "deletable": false,
    "editable": false,
    "id": "ee3f52d4"
   },
   "source": [
    "### Удаление пропусков (продолжение)"
   ]
  },
  {
   "cell_type": "markdown",
   "id": "a700b0e4",
   "metadata": {
    "deletable": false,
    "editable": false,
    "id": "a700b0e4"
   },
   "source": [
    "**Задание 11. Заполните пропуски в столбце `days_employed` медианными значениями по каждого типа занятости `income_type`.**"
   ]
  },
  {
   "cell_type": "code",
   "execution_count": 11,
   "id": "61946b83",
   "metadata": {
    "deletable": false,
    "id": "61946b83"
   },
   "outputs": [],
   "source": [
    "# Создадим цикл, в котором пройдем по каждому уникальному типу занятости (столбец 'income_type')\n",
    "# Далее в столбце 'income_type' в строки с пропуском запишем медианное значение общего трудового стажа ('days_employed')\n",
    "\n",
    "for t in data['income_type'].unique():\n",
    "    data.loc[(data['income_type'] == t) & (data['days_employed'].isna()), 'days_employed'] = \\\n",
    "    data.loc[(data['income_type'] == t), 'days_employed'].median()"
   ]
  },
  {
   "cell_type": "markdown",
   "id": "550dcd9b",
   "metadata": {
    "deletable": false,
    "editable": false,
    "id": "550dcd9b"
   },
   "source": [
    "**Задание 12. Убедитесь, что все пропуски заполнены. Проверьте себя и ещё раз выведите количество пропущенных значений для каждого столбца с помощью двух методов.**"
   ]
  },
  {
   "cell_type": "code",
   "execution_count": 12,
   "id": "937c7014",
   "metadata": {
    "deletable": false,
    "id": "937c7014",
    "outputId": "8da1e4e1-358e-4e87-98c9-f261bce0a7b2"
   },
   "outputs": [
    {
     "data": {
      "text/plain": [
       "children            0\n",
       "days_employed       0\n",
       "dob_years           0\n",
       "education           0\n",
       "education_id        0\n",
       "family_status       0\n",
       "family_status_id    0\n",
       "gender              0\n",
       "income_type         0\n",
       "debt                0\n",
       "total_income        0\n",
       "purpose             0\n",
       "dtype: int64"
      ]
     },
     "execution_count": 12,
     "metadata": {},
     "output_type": "execute_result"
    }
   ],
   "source": [
    "data.isna().sum()"
   ]
  },
  {
   "cell_type": "markdown",
   "id": "d522e295",
   "metadata": {
    "deletable": false,
    "editable": false,
    "id": "d522e295"
   },
   "source": [
    "### Изменение типов данных"
   ]
  },
  {
   "cell_type": "markdown",
   "id": "c229c581",
   "metadata": {
    "deletable": false,
    "editable": false,
    "id": "c229c581"
   },
   "source": [
    "**Задание 13. Замените вещественный тип данных в столбце `total_income` на целочисленный с помощью метода `astype()`.**"
   ]
  },
  {
   "cell_type": "code",
   "execution_count": 13,
   "id": "31036462",
   "metadata": {
    "deletable": false,
    "id": "31036462"
   },
   "outputs": [],
   "source": [
    "data['total_income'] = data['total_income'].astype(int)"
   ]
  },
  {
   "cell_type": "markdown",
   "id": "b8e3d1d9",
   "metadata": {
    "deletable": false,
    "editable": false,
    "id": "b8e3d1d9"
   },
   "source": [
    "### Обработка дубликатов"
   ]
  },
  {
   "cell_type": "markdown",
   "id": "9be53c49",
   "metadata": {
    "deletable": false,
    "editable": false,
    "id": "9be53c49"
   },
   "source": [
    "**Задание 14. Обработайте неявные дубликаты в столбце `education`. В этом столбце есть одни и те же значения, но записанные по-разному: с использованием заглавных и строчных букв. Приведите их к нижнему регистру.**"
   ]
  },
  {
   "cell_type": "code",
   "execution_count": 14,
   "id": "d89e73e1",
   "metadata": {
    "deletable": false,
    "id": "d89e73e1"
   },
   "outputs": [],
   "source": [
    "data['education'] = data['education'].str.lower()"
   ]
  },
  {
   "cell_type": "markdown",
   "id": "01d4500e",
   "metadata": {
    "deletable": false,
    "editable": false,
    "id": "01d4500e"
   },
   "source": [
    "**Задание 15. Выведите на экран количество строк-дубликатов в данных. Если такие строки присутствуют, удалите их.**"
   ]
  },
  {
   "cell_type": "code",
   "execution_count": 15,
   "id": "e10efb23",
   "metadata": {
    "deletable": false,
    "id": "e10efb23",
    "outputId": "9684deba-1934-42d1-99e1-cda61740f822"
   },
   "outputs": [
    {
     "data": {
      "text/plain": [
       "71"
      ]
     },
     "execution_count": 15,
     "metadata": {},
     "output_type": "execute_result"
    }
   ],
   "source": [
    "data.duplicated().sum()"
   ]
  },
  {
   "cell_type": "code",
   "execution_count": 16,
   "id": "df853f20",
   "metadata": {
    "deletable": false,
    "id": "df853f20"
   },
   "outputs": [],
   "source": [
    "data = data.drop_duplicates()"
   ]
  },
  {
   "cell_type": "markdown",
   "id": "627be38f",
   "metadata": {
    "deletable": false,
    "editable": false,
    "id": "627be38f"
   },
   "source": [
    "### Категоризация данных"
   ]
  },
  {
   "cell_type": "markdown",
   "id": "4684c3e0",
   "metadata": {
    "deletable": false,
    "editable": false,
    "id": "4684c3e0"
   },
   "source": [
    "**Задание 16. На основании диапазонов, указанных ниже, создайте в датафрейме `data` столбец `total_income_category` с категориями:**\n",
    "\n",
    "- 0–30000 — `'E'`;\n",
    "- 30001–50000 — `'D'`;\n",
    "- 50001–200000 — `'C'`;\n",
    "- 200001–1000000 — `'B'`;\n",
    "- 1000001 и выше — `'A'`.\n",
    "\n",
    "\n",
    "**Например, кредитополучателю с доходом 25000 нужно назначить категорию `'E'`, а клиенту, получающему 235000, — `'B'`. Используйте собственную функцию с именем `categorize_income()` и метод `apply()`.**"
   ]
  },
  {
   "cell_type": "code",
   "execution_count": 17,
   "id": "78965238",
   "metadata": {
    "deletable": false,
    "id": "78965238"
   },
   "outputs": [],
   "source": [
    "def categorize_income(income):\n",
    "    try:\n",
    "        if 0 <= income <= 30000:\n",
    "            return 'E'\n",
    "        elif 30001 <= income <= 50000:\n",
    "            return 'D'\n",
    "        elif 50001 <= income <= 200000:\n",
    "            return 'C'\n",
    "        elif 200001 <= income <= 1000000:\n",
    "            return 'B'\n",
    "        elif income >= 1000001:\n",
    "            return 'A'\n",
    "    except:\n",
    "        pass"
   ]
  },
  {
   "cell_type": "code",
   "execution_count": 18,
   "id": "0980ada1",
   "metadata": {
    "deletable": false,
    "id": "0980ada1"
   },
   "outputs": [],
   "source": [
    "data['total_income_category'] = data['total_income'].apply(categorize_income)"
   ]
  },
  {
   "cell_type": "markdown",
   "id": "9917bba0",
   "metadata": {
    "deletable": false,
    "editable": false,
    "id": "9917bba0"
   },
   "source": [
    "**Задание 17. Выведите на экран перечень уникальных целей взятия кредита из столбца `purpose`.**"
   ]
  },
  {
   "cell_type": "code",
   "execution_count": 19,
   "id": "ee07b65e",
   "metadata": {
    "deletable": false,
    "id": "ee07b65e",
    "outputId": "673c12d9-7d7e-4ae0-9812-c622c89dd244"
   },
   "outputs": [
    {
     "data": {
      "text/plain": [
       "array(['покупка жилья', 'приобретение автомобиля',\n",
       "       'дополнительное образование', 'сыграть свадьбу',\n",
       "       'операции с жильем', 'образование', 'на проведение свадьбы',\n",
       "       'покупка жилья для семьи', 'покупка недвижимости',\n",
       "       'покупка коммерческой недвижимости', 'покупка жилой недвижимости',\n",
       "       'строительство собственной недвижимости', 'недвижимость',\n",
       "       'строительство недвижимости', 'на покупку подержанного автомобиля',\n",
       "       'на покупку своего автомобиля',\n",
       "       'операции с коммерческой недвижимостью',\n",
       "       'строительство жилой недвижимости', 'жилье',\n",
       "       'операции со своей недвижимостью', 'автомобили',\n",
       "       'заняться образованием', 'сделка с подержанным автомобилем',\n",
       "       'получение образования', 'автомобиль', 'свадьба',\n",
       "       'получение дополнительного образования', 'покупка своего жилья',\n",
       "       'операции с недвижимостью', 'получение высшего образования',\n",
       "       'свой автомобиль', 'сделка с автомобилем',\n",
       "       'профильное образование', 'высшее образование',\n",
       "       'покупка жилья для сдачи', 'на покупку автомобиля', 'ремонт жилью',\n",
       "       'заняться высшим образованием'], dtype=object)"
      ]
     },
     "execution_count": 19,
     "metadata": {},
     "output_type": "execute_result"
    }
   ],
   "source": [
    "data['purpose'].unique()"
   ]
  },
  {
   "cell_type": "markdown",
   "id": "52b79d56",
   "metadata": {
    "deletable": false,
    "editable": false,
    "id": "52b79d56"
   },
   "source": [
    "**Задание 18. Создайте функцию, которая на основании данных из столбца `purpose` сформирует новый столбец `purpose_category`, в который войдут следующие категории:**\n",
    "\n",
    "- `'операции с автомобилем'`,\n",
    "- `'операции с недвижимостью'`,\n",
    "- `'проведение свадьбы'`,\n",
    "- `'получение образования'`.\n",
    "\n",
    "**Например, если в столбце `purpose` находится подстрока `'на покупку автомобиля'`, то в столбце `purpose_category` должна появиться строка `'операции с автомобилем'`.**\n",
    "\n",
    "**Используйте собственную функцию с именем `categorize_purpose()` и метод `apply()`. Изучите данные в столбце `purpose` и определите, какие подстроки помогут вам правильно определить категорию.**"
   ]
  },
  {
   "cell_type": "markdown",
   "id": "c9359df0",
   "metadata": {},
   "source": [
    "В каждой подстроке для каждой цели можно выделить определенные повторяющиеся слова. \n",
    "\n",
    "Например, для категории 'операции с автомобилем' будет подстрока 'автом'. Для категории 'операции с недвижимостью' - подстрока 'жил'. Для категории 'проведение свадьбы' - подстрока 'свад'. Для категории 'получение образования' - подстрока 'образов'.\n",
    "\n",
    "По этим подстрокам в функции будет производиться присваивание категории."
   ]
  },
  {
   "cell_type": "code",
   "execution_count": 20,
   "id": "be41da5d",
   "metadata": {
    "deletable": false,
    "id": "be41da5d"
   },
   "outputs": [],
   "source": [
    "def categorize_purpose(row):\n",
    "    '''\n",
    "    Функция ищет в столбце ключевы слова ('автом', 'жил', 'свад', 'образов') и по ним возвращает название категории для цели кредита\n",
    "    '''\n",
    "    \n",
    "    try:\n",
    "        if 'автом' in row:\n",
    "            return 'операции с автомобилем'\n",
    "        elif 'жил' in row or 'недвиж' in row:\n",
    "            return 'операции с недвижимостью'\n",
    "        elif 'свад' in row:\n",
    "            return 'проведение свадьбы'\n",
    "        elif 'образов' in row:\n",
    "            return 'получение образования'\n",
    "    except:\n",
    "        return 'нет категории'"
   ]
  },
  {
   "cell_type": "code",
   "execution_count": 21,
   "id": "94c4a19a",
   "metadata": {
    "deletable": false,
    "id": "94c4a19a"
   },
   "outputs": [],
   "source": [
    "data['purpose_category'] = data['purpose'].apply(categorize_purpose)"
   ]
  },
  {
   "cell_type": "markdown",
   "id": "a6832ec7",
   "metadata": {},
   "source": [
    "<p>\n",
    "<div class=\"alert-success\">\n",
    "<b>Комментарий ревьюера ✔️</b>\n",
    "    \n",
    "Каждый шаг работы стоит заканчивать кратким выводом."
   ]
  },
  {
   "cell_type": "markdown",
   "id": "3d596c34",
   "metadata": {
    "deletable": false,
    "editable": false,
    "id": "3d596c34"
   },
   "source": [
    "### Шаг 3. Исследуйте данные и ответьте на вопросы"
   ]
  },
  {
   "cell_type": "markdown",
   "id": "ce6e1a31",
   "metadata": {},
   "source": [
    "<p>\n",
    "<div class=\"alert-info\">\n",
    "<b>Комментарий студента</b>\n",
    "    \n",
    "Так как в первом варианте кода я посчитала не то, что нужно, то я решила удалить данный код, чтобы он не мешал.\n",
    "    \n",
    "Ниже привожу решение согласно замечаниям.\n",
    "\n",
    "    \n",
    "\n",
    "</div>"
   ]
  },
  {
   "cell_type": "markdown",
   "id": "2339c012",
   "metadata": {},
   "source": [
    "<p>\n",
    "<div class=\"alert-success\">\n",
    "<b>Комментарий ревьюера 2 ✔️</b>\n",
    "\n",
    "    \n",
    "Отлично 👍 </div>"
   ]
  },
  {
   "cell_type": "markdown",
   "id": "648db036",
   "metadata": {
    "deletable": false,
    "editable": false,
    "id": "648db036"
   },
   "source": [
    "#### 3.1 Есть ли зависимость между количеством детей и возвратом кредита в срок?"
   ]
  },
  {
   "cell_type": "markdown",
   "id": "ebb8ecb4",
   "metadata": {},
   "source": [
    "<p>\n",
    "<div class=\"alert-info\">\n",
    "<b>Комментарий студента</b>\n",
    "    \n",
    "Для начало посмотрим, распределены ли равномерно выборки, если сгруппировать семьи по количеству детей.\n",
    "    \n",
    "Для этого сгруппирую семьи по количеству детей (столбец 'children') и посчитаю количество семей, которые брали кредит. Для этого применю агрегирующую функцию count к столбцу 'debt'.\n",
    "    \n",
    "</div>"
   ]
  },
  {
   "cell_type": "code",
   "execution_count": 22,
   "id": "7fcff25e",
   "metadata": {
    "deletable": false,
    "id": "7fcff25e"
   },
   "outputs": [
    {
     "data": {
      "text/plain": [
       "children\n",
       "0    14091\n",
       "1     4808\n",
       "2     2052\n",
       "3      330\n",
       "4       41\n",
       "5        9\n",
       "Name: debt, dtype: int64"
      ]
     },
     "execution_count": 22,
     "metadata": {},
     "output_type": "execute_result"
    }
   ],
   "source": [
    "data.groupby('children')['debt'].agg('count')"
   ]
  },
  {
   "cell_type": "markdown",
   "id": "c0d13597",
   "metadata": {},
   "source": [
    "<p>\n",
    "<div class=\"alert-info\">\n",
    "<b>Комментарий студента</b>\n",
    "    \n",
    "Больше всего данных представлено по семьям с 0, 1 и 2 детьми. Чтобы выявить зависимость между количеством детей и возвратом кредита в срок будем рассматривать именно эти семьи. Семьи с 3 и более детьми не будем включать в анализ, так как по ним имеется мало данных.\n",
    "    \n",
    "</div>"
   ]
  },
  {
   "cell_type": "markdown",
   "id": "5bd83755",
   "metadata": {},
   "source": [
    "<p>\n",
    "<div class=\"alert-info\">\n",
    "<b>Комментарий студента</b>\n",
    "    \n",
    "Создадим сводную таблицу, где:\n",
    "* строки - количество детей в семье; \n",
    "* колонка 'count debt' - число кредитополучателей;\n",
    "* колонка 'sum debt' - количество должников;\n",
    "* колонка 'mean debt' - доля должников.\n",
    "    \n",
    "</div>"
   ]
  },
  {
   "cell_type": "code",
   "execution_count": 23,
   "id": "4c33938c",
   "metadata": {},
   "outputs": [
    {
     "data": {
      "text/html": [
       "<div>\n",
       "<style scoped>\n",
       "    .dataframe tbody tr th:only-of-type {\n",
       "        vertical-align: middle;\n",
       "    }\n",
       "\n",
       "    .dataframe tbody tr th {\n",
       "        vertical-align: top;\n",
       "    }\n",
       "\n",
       "    .dataframe thead tr th {\n",
       "        text-align: left;\n",
       "    }\n",
       "\n",
       "    .dataframe thead tr:last-of-type th {\n",
       "        text-align: right;\n",
       "    }\n",
       "</style>\n",
       "<table border=\"1\" class=\"dataframe\">\n",
       "  <thead>\n",
       "    <tr>\n",
       "      <th></th>\n",
       "      <th>count</th>\n",
       "      <th>sum</th>\n",
       "      <th>mean</th>\n",
       "    </tr>\n",
       "    <tr>\n",
       "      <th></th>\n",
       "      <th>debt</th>\n",
       "      <th>debt</th>\n",
       "      <th>debt</th>\n",
       "    </tr>\n",
       "    <tr>\n",
       "      <th>children</th>\n",
       "      <th></th>\n",
       "      <th></th>\n",
       "      <th></th>\n",
       "    </tr>\n",
       "  </thead>\n",
       "  <tbody>\n",
       "    <tr>\n",
       "      <th>0</th>\n",
       "      <td>14091</td>\n",
       "      <td>1063</td>\n",
       "      <td>0.075438</td>\n",
       "    </tr>\n",
       "    <tr>\n",
       "      <th>1</th>\n",
       "      <td>4808</td>\n",
       "      <td>444</td>\n",
       "      <td>0.092346</td>\n",
       "    </tr>\n",
       "    <tr>\n",
       "      <th>2</th>\n",
       "      <td>2052</td>\n",
       "      <td>194</td>\n",
       "      <td>0.094542</td>\n",
       "    </tr>\n",
       "  </tbody>\n",
       "</table>\n",
       "</div>"
      ],
      "text/plain": [
       "          count   sum      mean\n",
       "           debt  debt      debt\n",
       "children                       \n",
       "0         14091  1063  0.075438\n",
       "1          4808   444  0.092346\n",
       "2          2052   194  0.094542"
      ]
     },
     "execution_count": 23,
     "metadata": {},
     "output_type": "execute_result"
    }
   ],
   "source": [
    "data_pivot_table = data.pivot_table(index='children', values='debt', aggfunc=['count', 'sum', 'mean'])\n",
    "\n",
    "# Выведем информацию только по семьям с 0, 1 и 2 детьми\n",
    "data_pivot_table.head(3)"
   ]
  },
  {
   "cell_type": "markdown",
   "id": "2eb9088e",
   "metadata": {
    "deletable": false,
    "id": "2eb9088e"
   },
   "source": [
    "<p>\n",
    "<div class=\"alert-info\">\n",
    "<b>Комментарий студента</b>\n",
    "  \n",
    "**Вывод:**\n",
    "\n",
    "Доля должников в семьях без детей составляет всего 7,54%, а в семьях с 1, 2 детьми уже 9%. Возможно семьи без детей чаще выплачивают кредит в срок, так как у нет ежедневных трат на детей.\n",
    "\n",
    "Можно сделать вывод о том, что чем меньше детей в семье, тем выше кредитоспособность семьи.\n",
    "    \n",
    "      \n",
    "</div>"
   ]
  },
  {
   "cell_type": "markdown",
   "id": "07045957",
   "metadata": {},
   "source": [
    "<p>\n",
    "<div class=\"alert-danger\">\n",
    "<b>Комментарий ревьюера ❌</b> \n",
    "    \n",
    "Проделана большая работа! Однако такое большое количество разных табличек сложно воспринимается, да и посчитано не совсем то, что нужно. В этом проекте важно потренироваться делать сводные таблицы `pivot_table()`. Выявить зависимость можно сравнив только самые большие выборки с 0, 1 и 2 детьми.\n",
    "    \n",
    "Нужно сделать `pivot_table()`, где строки (index) – категория, в данном случае количество детей, значения (values) в нашем случае – это debt, а функции (aggfunc) нужно сделать три. Первая будет `count` – число строк, она же число всех кредитополучателей, вторая `sum` – просуммирует единицы, то есть посчитает количество должников, а третья – `mean` – доля должников. Из-за того, что значения только нули и единицы, среднее будет отношением количества единиц (должников) к количеству всех строк. Для того, чтобы сделать несколько агрегирующих функций, нужно перечислить их в квадратных скобках aggfunc=[...]"
   ]
  },
  {
   "cell_type": "markdown",
   "id": "f0719bc1",
   "metadata": {},
   "source": [
    "<p>\n",
    "<div class=\"alert-success\">\n",
    "<b>Комментарий ревьюера 2 ✔️</b>\n",
    "\n",
    "\n",
    "    \n",
    "- Верно 👍 Кредитополучатели без детей являются немного более ответственными, чем клиенты у которых есть дети. \n",
    "  \n",
    "    \n",
    "- Для того, чтобы таблица смотрелась лучше стоит переименовать столбцы (здесь и далее), вот пример кода, как это можно сделать:\n",
    "  \n",
    "    \n",
    "    data.columns = ['Всего кредитополучателей', 'Всего должников', 'Доля должников']\n",
    "    \n",
    "- Можно сделать универсальную функцию для этого и следущих пунктов. \n",
    "    "
   ]
  },
  {
   "cell_type": "markdown",
   "id": "74c9b3a7",
   "metadata": {
    "deletable": false,
    "editable": false,
    "id": "74c9b3a7"
   },
   "source": [
    "#### 3.2 Есть ли зависимость между семейным положением и возвратом кредита в срок?"
   ]
  },
  {
   "cell_type": "markdown",
   "id": "ffe6b441",
   "metadata": {},
   "source": [
    "<p>\n",
    "<div class=\"alert-info\">\n",
    "<b>Комментарий студента</b>\n",
    "    \n",
    "Создадим сводную таблицу, где:\n",
    "* строки - семейное положение; \n",
    "* колонка 'count debt' - число кредитополучателей;\n",
    "* колонка 'sum debt' - количество должников;\n",
    "* колонка 'mean debt' - доля должников.\n",
    "    \n",
    "</div>"
   ]
  },
  {
   "cell_type": "code",
   "execution_count": 24,
   "id": "8098ab3b",
   "metadata": {
    "deletable": false,
    "id": "8098ab3b"
   },
   "outputs": [
    {
     "data": {
      "text/html": [
       "<div>\n",
       "<style scoped>\n",
       "    .dataframe tbody tr th:only-of-type {\n",
       "        vertical-align: middle;\n",
       "    }\n",
       "\n",
       "    .dataframe tbody tr th {\n",
       "        vertical-align: top;\n",
       "    }\n",
       "\n",
       "    .dataframe thead tr th {\n",
       "        text-align: left;\n",
       "    }\n",
       "\n",
       "    .dataframe thead tr:last-of-type th {\n",
       "        text-align: right;\n",
       "    }\n",
       "</style>\n",
       "<table border=\"1\" class=\"dataframe\">\n",
       "  <thead>\n",
       "    <tr>\n",
       "      <th></th>\n",
       "      <th>count</th>\n",
       "      <th>sum</th>\n",
       "      <th>mean</th>\n",
       "    </tr>\n",
       "    <tr>\n",
       "      <th></th>\n",
       "      <th>debt</th>\n",
       "      <th>debt</th>\n",
       "      <th>debt</th>\n",
       "    </tr>\n",
       "    <tr>\n",
       "      <th>family_status</th>\n",
       "      <th></th>\n",
       "      <th></th>\n",
       "      <th></th>\n",
       "    </tr>\n",
       "  </thead>\n",
       "  <tbody>\n",
       "    <tr>\n",
       "      <th>Не женат / не замужем</th>\n",
       "      <td>2796</td>\n",
       "      <td>273</td>\n",
       "      <td>0.097639</td>\n",
       "    </tr>\n",
       "    <tr>\n",
       "      <th>в разводе</th>\n",
       "      <td>1189</td>\n",
       "      <td>84</td>\n",
       "      <td>0.070648</td>\n",
       "    </tr>\n",
       "    <tr>\n",
       "      <th>вдовец / вдова</th>\n",
       "      <td>951</td>\n",
       "      <td>63</td>\n",
       "      <td>0.066246</td>\n",
       "    </tr>\n",
       "    <tr>\n",
       "      <th>гражданский брак</th>\n",
       "      <td>4134</td>\n",
       "      <td>385</td>\n",
       "      <td>0.093130</td>\n",
       "    </tr>\n",
       "    <tr>\n",
       "      <th>женат / замужем</th>\n",
       "      <td>12261</td>\n",
       "      <td>927</td>\n",
       "      <td>0.075606</td>\n",
       "    </tr>\n",
       "  </tbody>\n",
       "</table>\n",
       "</div>"
      ],
      "text/plain": [
       "                       count  sum      mean\n",
       "                        debt debt      debt\n",
       "family_status                              \n",
       "Не женат / не замужем   2796  273  0.097639\n",
       "в разводе               1189   84  0.070648\n",
       "вдовец / вдова           951   63  0.066246\n",
       "гражданский брак        4134  385  0.093130\n",
       "женат / замужем        12261  927  0.075606"
      ]
     },
     "execution_count": 24,
     "metadata": {},
     "output_type": "execute_result"
    }
   ],
   "source": [
    "data.pivot_table(index='family_status', values='debt', aggfunc=['count', 'sum', 'mean'])"
   ]
  },
  {
   "cell_type": "markdown",
   "id": "de07fb81",
   "metadata": {},
   "source": [
    "<p>\n",
    "<div class=\"alert-info\">\n",
    "<b>Комментарий студента</b>\n",
    " \n",
    "Наибольшая доля должников - люди не состоящих в браке (9.8%) и семьи в гражданском браке (9.3%).\n",
    "  \n",
    "Меньше всего должников среди вдовцов/вдов (6.6%), людей в разводе (7.1%) и состоящих в браке (7.6%). \n",
    "    \n",
    "Однако стоит отметить перекос в группах. Больше всего кредит берут семьи состоящие в браке, их почти 12 300. На втором месте люди не состоящих в браке (их почти 2800) и люди в разводе (почти 1200). Несмотря на то, что меньше всего должников среди вдовцов/вдов, эти люди реже всех берут кредиты.\n"
   ]
  },
  {
   "cell_type": "markdown",
   "id": "73da01ef",
   "metadata": {},
   "source": [
    "<div class=\"alert-warning\">\n",
    "<b>Комментарий ревьюера ⚠️</b>\n",
    "\n",
    "Комментарии лучше писать в ячейках Markdown, а через # пишут небольшие технические комментарии к коду. "
   ]
  },
  {
   "cell_type": "markdown",
   "id": "68d3eb95",
   "metadata": {},
   "source": [
    "<p>\n",
    "<div class=\"alert-danger\">\n",
    "<b>Комментарий ревьюера ❌</b> \n",
    "    \n",
    "Нужно сделать сводную таблицу, где строки – категория, значения – это наличие долга, а столбцы – число всех кредитополучателей, количество должников и доля должников. Именно по доле должников мы и делаем дальнейшие выводы. При этом нужно так же оценить размеры групп, нет ли перекоса."
   ]
  },
  {
   "cell_type": "markdown",
   "id": "c389ca63",
   "metadata": {
    "deletable": false,
    "id": "c389ca63"
   },
   "source": [
    "<p>\n",
    "<div class=\"alert-info\">\n",
    "<b>Комментарий студента</b>\n",
    "    \n",
    "**Вывод:** \n",
    "\n",
    "Меньше всего должников среди людей в разводе и состоящих в браке. Также редкие должники вдовцы/вдовы, однако они и не часто берут кредиты. Чаще всех кредиты берут люди в браке.\n",
    " \n",
    "\n",
    "</div>"
   ]
  },
  {
   "cell_type": "markdown",
   "id": "5baf292c",
   "metadata": {},
   "source": [
    "<p>\n",
    "<div class=\"alert-success\">\n",
    "<b>Комментарий ревьюера 2 ✔️</b>\n",
    "\n",
    "    \n",
    "Согласна, по расчетам можно вывести общую зависимость, что заемщики состоящие или состоявшие в браке лучше выплачивают кредиты."
   ]
  },
  {
   "cell_type": "markdown",
   "id": "9529de68",
   "metadata": {
    "deletable": false,
    "editable": false,
    "id": "9529de68"
   },
   "source": [
    "#### 3.3 Есть ли зависимость между уровнем дохода и возвратом кредита в срок?"
   ]
  },
  {
   "cell_type": "markdown",
   "id": "196a8f5d",
   "metadata": {},
   "source": [
    "В датафрейме был создан ноывй столбец `total_income_category`, в котором для удобства величина дохода была разбита на категории.\n",
    "\n",
    "В столбце `total_income_category` выделены следующие категории в зависимости от дохода кредитополучателя:\n",
    "\n",
    "* `'E'` доход 0 - 30 000;\n",
    "* `'D'` доход 30 001 - 50 000;\n",
    "* `'C'` доход 50 001 - 200 000;\n",
    "* `'B'` доход 200 001 - 1 000 000;\n",
    "* `'A'` доход выше 1 000 000."
   ]
  },
  {
   "cell_type": "markdown",
   "id": "98f61911",
   "metadata": {},
   "source": [
    "<p>\n",
    "<div class=\"alert-info\">\n",
    "<b>Комментарий студента</b>\n",
    "    \n",
    "Создадим сводную таблицу, где:\n",
    "* строки - категория в зависимости от дохода кредитополучателя; \n",
    "* колонка 'count debt' - число кредитополучателей;\n",
    "* колонка 'sum debt' - количество должников;\n",
    "* колонка 'mean debt' - доля должников.\n",
    "    \n",
    "</div>"
   ]
  },
  {
   "cell_type": "code",
   "execution_count": 25,
   "id": "8787f44a",
   "metadata": {
    "deletable": false,
    "id": "8787f44a",
    "scrolled": false
   },
   "outputs": [
    {
     "data": {
      "text/html": [
       "<div>\n",
       "<style scoped>\n",
       "    .dataframe tbody tr th:only-of-type {\n",
       "        vertical-align: middle;\n",
       "    }\n",
       "\n",
       "    .dataframe tbody tr th {\n",
       "        vertical-align: top;\n",
       "    }\n",
       "\n",
       "    .dataframe thead tr th {\n",
       "        text-align: left;\n",
       "    }\n",
       "\n",
       "    .dataframe thead tr:last-of-type th {\n",
       "        text-align: right;\n",
       "    }\n",
       "</style>\n",
       "<table border=\"1\" class=\"dataframe\">\n",
       "  <thead>\n",
       "    <tr>\n",
       "      <th></th>\n",
       "      <th>count</th>\n",
       "      <th>sum</th>\n",
       "      <th>mean</th>\n",
       "    </tr>\n",
       "    <tr>\n",
       "      <th></th>\n",
       "      <th>debt</th>\n",
       "      <th>debt</th>\n",
       "      <th>debt</th>\n",
       "    </tr>\n",
       "    <tr>\n",
       "      <th>total_income_category</th>\n",
       "      <th></th>\n",
       "      <th></th>\n",
       "      <th></th>\n",
       "    </tr>\n",
       "  </thead>\n",
       "  <tbody>\n",
       "    <tr>\n",
       "      <th>A</th>\n",
       "      <td>25</td>\n",
       "      <td>2</td>\n",
       "      <td>0.080000</td>\n",
       "    </tr>\n",
       "    <tr>\n",
       "      <th>B</th>\n",
       "      <td>5014</td>\n",
       "      <td>354</td>\n",
       "      <td>0.070602</td>\n",
       "    </tr>\n",
       "    <tr>\n",
       "      <th>C</th>\n",
       "      <td>15921</td>\n",
       "      <td>1353</td>\n",
       "      <td>0.084982</td>\n",
       "    </tr>\n",
       "    <tr>\n",
       "      <th>D</th>\n",
       "      <td>349</td>\n",
       "      <td>21</td>\n",
       "      <td>0.060172</td>\n",
       "    </tr>\n",
       "    <tr>\n",
       "      <th>E</th>\n",
       "      <td>22</td>\n",
       "      <td>2</td>\n",
       "      <td>0.090909</td>\n",
       "    </tr>\n",
       "  </tbody>\n",
       "</table>\n",
       "</div>"
      ],
      "text/plain": [
       "                       count   sum      mean\n",
       "                        debt  debt      debt\n",
       "total_income_category                       \n",
       "A                         25     2  0.080000\n",
       "B                       5014   354  0.070602\n",
       "C                      15921  1353  0.084982\n",
       "D                        349    21  0.060172\n",
       "E                         22     2  0.090909"
      ]
     },
     "execution_count": 25,
     "metadata": {},
     "output_type": "execute_result"
    }
   ],
   "source": [
    "data.pivot_table(index='total_income_category', values='debt', aggfunc=['count', 'sum', 'mean'])"
   ]
  },
  {
   "cell_type": "markdown",
   "id": "16f2ecfb",
   "metadata": {},
   "source": [
    "<p>\n",
    "<div class=\"alert-info\">\n",
    "<b>Комментарий студента</b>\n",
    "    \n",
    "Выборки крайне несбалансированны и для выявления зависимости между уровнем дохода и возвратом кредита в срок стоит сравнить две самые большие категории B и C.\n",
    "    \n",
    "Доля должников среди людей категории B с доходом 200 001 - 1 000 000 составляет 7%, а доля должников с меньшим доходом категория C (50 001 - 200 000) уже 8.5%.\n",
    "\n",
    "Однако стоит заметить, что люди с доходом 50 001 - 200 000 берут кредиты чаще, чем люди с более высоким доходом.\n",
    "    \n",
    "</div>"
   ]
  },
  {
   "cell_type": "markdown",
   "id": "6c648b9b",
   "metadata": {},
   "source": [
    "<p>\n",
    "<div class=\"alert-danger\">\n",
    "<b>Комментарий ревьюера ❌</b> \n",
    "    \n",
    "Нужно сделать сводную таблицу, где строки – категория, значения – это наличие долга, а столбцы – число всех кредитополучателей, количество должников и доля должников. Именно по доле должников мы и делаем дальнейшие выводы. При этом нужно так же оценить размеры групп, нет ли перекоса."
   ]
  },
  {
   "cell_type": "markdown",
   "id": "6dd14b57",
   "metadata": {
    "deletable": false,
    "id": "6dd14b57"
   },
   "source": [
    "<p>\n",
    "<div class=\"alert-info\">\n",
    "<b>Комментарий студента</b>\n",
    "\n",
    "**Вывод:** \n",
    "\n",
    "Чем выше доход кредитополучателя, тем чаще он будет выплачивать его в срок. Однако, данные несбалансированы, поэтому исследовались две самые большие категории. Было замечено, что люди с доходом 50 001 - 200 000 берут кредиты чаще, чем люди с более высоким доходом 200 001 - 1 000 000.\n",
    "    \n",
    "</div>"
   ]
  },
  {
   "cell_type": "markdown",
   "id": "9c810b43",
   "metadata": {},
   "source": [
    "<p>\n",
    "<div class=\"alert-danger\">\n",
    "<b>Комментарий ревьюера ❌</b> \n",
    "\n",
    "    \n",
    "Здесь нужно обратить внимание, что выборки крайне несбалансированны и для выявления зависимости стоит сравнить две самые большие категории B и C."
   ]
  },
  {
   "cell_type": "markdown",
   "id": "3bd2a606",
   "metadata": {},
   "source": [
    "<p>\n",
    "<div class=\"alert-success\">\n",
    "<b>Комментарий ревьюера 2 ✔️</b>\n",
    "\n",
    "    \n",
    "Верно 👍</div>"
   ]
  },
  {
   "cell_type": "markdown",
   "id": "1dcc9b12",
   "metadata": {
    "deletable": false,
    "editable": false,
    "id": "1dcc9b12"
   },
   "source": [
    "#### 3.4 Как разные цели кредита влияют на его возврат в срок?"
   ]
  },
  {
   "cell_type": "markdown",
   "id": "2a032958",
   "metadata": {},
   "source": [
    "В датафрейме был создан ноывй столбец `purpose_category`, в котором для удобства цели кредита были разбиты на категории по ключевым словам.\n",
    "\n",
    "В столбце `purpose_category` указаны следующие категории в зависимости от цели кредита:\n",
    "\n",
    "- `'операции с автомобилем'`,\n",
    "- `'операции с недвижимостью'`,\n",
    "- `'проведение свадьбы'`,\n",
    "- `'получение образования'`."
   ]
  },
  {
   "cell_type": "markdown",
   "id": "882069aa",
   "metadata": {},
   "source": [
    "<p>\n",
    "<div class=\"alert-info\">\n",
    "<b>Комментарий студента</b>\n",
    "    \n",
    "Создадим сводную таблицу, где:\n",
    "* строки - категория в зависимости от цели кредита; \n",
    "* колонка 'count debt' - число кредитополучателей;\n",
    "* колонка 'sum debt' - количество должников;\n",
    "* колонка 'mean debt' - доля должников.\n",
    "    \n",
    "</div>"
   ]
  },
  {
   "cell_type": "code",
   "execution_count": 26,
   "id": "c602bc8b",
   "metadata": {
    "deletable": false,
    "id": "c602bc8b",
    "scrolled": true
   },
   "outputs": [
    {
     "data": {
      "text/html": [
       "<div>\n",
       "<style scoped>\n",
       "    .dataframe tbody tr th:only-of-type {\n",
       "        vertical-align: middle;\n",
       "    }\n",
       "\n",
       "    .dataframe tbody tr th {\n",
       "        vertical-align: top;\n",
       "    }\n",
       "\n",
       "    .dataframe thead tr th {\n",
       "        text-align: left;\n",
       "    }\n",
       "\n",
       "    .dataframe thead tr:last-of-type th {\n",
       "        text-align: right;\n",
       "    }\n",
       "</style>\n",
       "<table border=\"1\" class=\"dataframe\">\n",
       "  <thead>\n",
       "    <tr>\n",
       "      <th></th>\n",
       "      <th>count</th>\n",
       "      <th>sum</th>\n",
       "      <th>mean</th>\n",
       "    </tr>\n",
       "    <tr>\n",
       "      <th></th>\n",
       "      <th>debt</th>\n",
       "      <th>debt</th>\n",
       "      <th>debt</th>\n",
       "    </tr>\n",
       "    <tr>\n",
       "      <th>purpose_category</th>\n",
       "      <th></th>\n",
       "      <th></th>\n",
       "      <th></th>\n",
       "    </tr>\n",
       "  </thead>\n",
       "  <tbody>\n",
       "    <tr>\n",
       "      <th>операции с автомобилем</th>\n",
       "      <td>4279</td>\n",
       "      <td>400</td>\n",
       "      <td>0.093480</td>\n",
       "    </tr>\n",
       "    <tr>\n",
       "      <th>операции с недвижимостью</th>\n",
       "      <td>10751</td>\n",
       "      <td>780</td>\n",
       "      <td>0.072551</td>\n",
       "    </tr>\n",
       "    <tr>\n",
       "      <th>получение образования</th>\n",
       "      <td>3988</td>\n",
       "      <td>369</td>\n",
       "      <td>0.092528</td>\n",
       "    </tr>\n",
       "    <tr>\n",
       "      <th>проведение свадьбы</th>\n",
       "      <td>2313</td>\n",
       "      <td>183</td>\n",
       "      <td>0.079118</td>\n",
       "    </tr>\n",
       "  </tbody>\n",
       "</table>\n",
       "</div>"
      ],
      "text/plain": [
       "                          count  sum      mean\n",
       "                           debt debt      debt\n",
       "purpose_category                              \n",
       "операции с автомобилем     4279  400  0.093480\n",
       "операции с недвижимостью  10751  780  0.072551\n",
       "получение образования      3988  369  0.092528\n",
       "проведение свадьбы         2313  183  0.079118"
      ]
     },
     "execution_count": 26,
     "metadata": {},
     "output_type": "execute_result"
    }
   ],
   "source": [
    "data.pivot_table(index='purpose_category', values='debt', aggfunc=['count', 'sum', 'mean'])"
   ]
  },
  {
   "cell_type": "markdown",
   "id": "df3d35db",
   "metadata": {},
   "source": [
    "<p>\n",
    "<div class=\"alert-info\">\n",
    "<b>Комментарий студента</b>\n",
    "    \n",
    "Наибольшая доля должников - люди, берущие кредит на операции с автомобилем\tи для  получение образования (9.3%).\n",
    "\n",
    "Меньше всего должников среди людей, берущих кредит на покупку недвижимости (7.3%) или проведение свадьбы (7.9%).\n",
    "\n",
    "Однако стоит отметить перекос в группах. Несмотря на то, что меньше всего должников среди людей, берущих кредит на проведение свадьбы, эти люди реже всех берут кредиты. Больше всего кредит берут для операций с недвижимостью, кредитополучателей с такой целью почти 10 800.\n",
    "    \n",
    "</div> \n"
   ]
  },
  {
   "cell_type": "markdown",
   "id": "a08f1b87",
   "metadata": {},
   "source": [
    "<p>\n",
    "<div class=\"alert-danger\">\n",
    "<b>Комментарий ревьюера ❌</b> \n",
    "    \n",
    "Нужно сделать сводную таблицу, где строки – категория, значения – это наличие долга, а столбцы – число всех кредитополучателей, количество должников и доля должников. Именно по доле должников мы и делаем дальнейшие выводы. При этом нужно так же оценить размеры групп, нет ли перекоса."
   ]
  },
  {
   "cell_type": "markdown",
   "id": "cf05ed63",
   "metadata": {
    "deletable": false,
    "id": "cf05ed63"
   },
   "source": [
    "<p>\n",
    "<div class=\"alert-info\">\n",
    "<b>Комментарий студента</b>\n",
    "\n",
    "**Вывод:** \n",
    "\n",
    "Люди, которые берут кредит для покупки недвижимости, чаще выплачивают его в срок. Также редкие должники люди, берущие кредит на проведение свадьбы, однако люди с такой целью не часто берут кредит. Чаще всех кредиты берут люди с целью приобрести недвижимость.\n",
    "    \n",
    "</div> "
   ]
  },
  {
   "cell_type": "markdown",
   "id": "186af3d8",
   "metadata": {},
   "source": [
    "<p>\n",
    "<div class=\"alert-success\">\n",
    "<b>Комментарий ревьюера 2 ✔️</b>\n",
    "\n",
    "    \n",
    "Молодец 👍</div>"
   ]
  },
  {
   "cell_type": "markdown",
   "id": "46c1f10b",
   "metadata": {
    "deletable": false,
    "editable": false,
    "id": "46c1f10b"
   },
   "source": [
    "#### 3.5 Приведите возможные причины появления пропусков в исходных данных."
   ]
  },
  {
   "cell_type": "markdown",
   "id": "3697d2a9",
   "metadata": {
    "deletable": false,
    "id": "3697d2a9"
   },
   "source": [
    "*Ответ:* \n",
    "\n",
    "В исходных данных пропуски были в столбцах с информацией об общем трудовом стаже и ежемесячном доходе. Данные представлены банком. \n",
    "\n",
    "Предполагаю, что данные взяты из анкет или заявок, которые оформляли люди, желающие получить кредит. Пропуски в колонке с ежемесячным доходом могут быть связаты с тем, что люди не захотели раскрывать свой доход. Также возможно это человеческий фактор, необходимые данные случайно не внесли. \n",
    "\n",
    "Пропуски в столбце общего трудового стажа могут быть связаны как с человеческим фактором, так и сложностями расчета этого показателя."
   ]
  },
  {
   "cell_type": "markdown",
   "id": "384ab832",
   "metadata": {},
   "source": [
    "<div class=\"alert-warning\">\n",
    "<b>Комментарий ревьюера ⚠️</b>\n",
    "\n",
    "    \n",
    "Помимо человеческого фактора (кто-то что-то не ввел, умышленно или нет) не стоит исключать и технические ошибки: неправильный запрос к БД, некорректная выгрузка и т.п."
   ]
  },
  {
   "cell_type": "markdown",
   "id": "3137d257",
   "metadata": {
    "deletable": false,
    "editable": false,
    "id": "3137d257"
   },
   "source": [
    "#### 3.6 Объясните, почему заполнить пропуски медианным значением — лучшее решение для количественных переменных."
   ]
  },
  {
   "cell_type": "markdown",
   "id": "cf40012a",
   "metadata": {
    "deletable": false,
    "id": "cf40012a"
   },
   "source": [
    "*Ответ:* \n",
    "\n",
    "Медиана дает более реалистичную оценку, особенно если в значениях есть выбросы. А среднее значение некорректно характеризует данные, и при заполнении пропусков средним, будет характерное смещение. "
   ]
  },
  {
   "cell_type": "markdown",
   "id": "ad68bd5f",
   "metadata": {},
   "source": [
    "<p>\n",
    "<div class=\"alert-success\">\n",
    "<b>Комментарий ревьюера ✔️</b>\n",
    "\n",
    "Действительно, в данных могут наблюдаться некоторые \"выбросы\", и даже небольшое их количество может сильно \"перетягивать\" среднее значение в большую или меньшую сторону. Медиана зачастую даёт более правдивую картину. Также важно в каждом случае смотреть на то, как распределены данные. \n",
    "</div>"
   ]
  },
  {
   "cell_type": "markdown",
   "id": "57bc304e",
   "metadata": {
    "deletable": false,
    "editable": false,
    "id": "57bc304e"
   },
   "source": [
    "### Шаг 4: общий вывод."
   ]
  },
  {
   "cell_type": "markdown",
   "id": "1ab75d1c",
   "metadata": {
    "deletable": false,
    "id": "1ab75d1c"
   },
   "source": [
    "<p>\n",
    "<div class=\"alert-info\">\n",
    "<b>Комментарий студента</b>\n",
    "\n",
    "**Вывод:** \n",
    "\n",
    "В данном проекте исследовалась надежность заемщиков. А именно какие параметры влияют на факт погашения кредита в срок. Заказчик - кредитный отдел банка.\n",
    "\n",
    "Данные для анализа состоят из таблицы с 12 столбцами. \n",
    "\n",
    "**Описание данных:**\n",
    "* children — количество детей в семье\n",
    "* days_employed — общий трудовой стаж в днях\n",
    "* dob_years — возраст клиента в годах\n",
    "* education — уровень образования клиента\n",
    "* education_id — идентификатор уровня образования\n",
    "* family_status — семейное положение\n",
    "* family_status_id — идентификатор семейного положения\n",
    "* gender — пол клиента\n",
    "* income_type — тип занятости\n",
    "* debt — имел ли задолженность по возврату кредитов\n",
    "* total_income — ежемесячный доход\n",
    "* purpose — цель получения кредита\n",
    "    \n",
    "В ходе работы была проведена предобработка данных и исследовательский анализ данных.\n",
    "    \n",
    "**Во время предобработки данных:**\n",
    "1. В столбце 'days_employed' были найдены артефакты (аномалии) — отрицательное количество дней трудового стажа. Все отрицательные значения были заменены положительными значениями.\n",
    "    \n",
    "2. В столбцах 'days_employed' и 'total_income' были обнаружены пропуски 2174 значений. Эти пропуски были заполнены. Для столбца 'days_employed' пропуски заполнили медианным значением трудового стажа в зависимости от типа занятости человека. Для столбца 'total_income' пропуски заполнили медианным значением ежемесячного дохода в зависимости от типа занятости человека.\n",
    "    \n",
    "3. В столбце 'children' было найдено два аномальных значения. Были удалены строки, в которых встречаются такие аномальные значения.\n",
    "4. В столбце 'total_income' был изменен тип данных с вещественного на целочисленный.\n",
    "5. В столбце 'education' были удалены неявные дубликаты.\n",
    "6. Был создан  столбец 'total_income_category' на основании диапазонов дохода. Были выделены следующие категории дохода:\n",
    "- 'E' доход 0 - 30 000;\n",
    "- 'D' доход 30 001 - 50 000;\n",
    "- 'C' доход 50 001 - 200 000;\n",
    "- 'B' доход 200 001 - 1 000 000;\n",
    "- 'A' доход выше 1 000 000.\n",
    "7. Был создан  столбец 'purpose_category' на основании целей кредита, указанных в столбце 'purpose'. Были выделены следующие категории:\n",
    "- 'операции с автомобилем';\n",
    "- 'операции с недвижимостью';\n",
    "- 'проведение свадьбы';\n",
    "- 'получение образования'.\n",
    "    \n",
    "**Во время исследовательского анализы были сформулированы следующие выводы:**\n",
    "1. Чем меньше детей в семье, тем выше кредитоспособность семьи;\n",
    "2. Меньше всего должников среди людей в разводе и состоящих в браке. Также редкие должники вдовцы/вдовы, однако они и не часто берут кредиты. Чаще всех кредиты берут люди в браке;\n",
    "3. Чем выше доход кредитополучателя, тем чаще он будет выплачивать его в срок. Однако стоит заметить, что люди с доходом 50 001 - 200 000 берут кредиты чаще, чем люди с более высоким доходом 200 001 - 1 000 000;\n",
    "4. Люди, которые берут кредит для покупки недвижимости, чаще выплачивают его в срок. Также редкие должники люди, берущие кредит на проведение свадьбы, однако люди с такой целью не часто берут кредит. Чаще всех кредиты берут люди с целью приобрести недвижимость.\n",
    "    \n",
    "**Рекомендации:**\n",
    "- внимательнее заполнять данные о трудовом стаже и ежемесячном доходе. Пропуски могли нести в себе важную информацию для анализа;\n",
    "- при составлении модели кредитного скоринга комплексно уделить внимание следующим показателям: количество детей в семье, уровень дохода семьи, семейное положение. Учитывать, что есть определенные группы людей, которые чаще берут кредит. Таким семьям уделить больше внимания при анализе."
   ]
  },
  {
   "cell_type": "markdown",
   "id": "c04a519c",
   "metadata": {},
   "source": [
    "<p>\n",
    "<div class=\"alert-danger\">\n",
    "<b>Комментарий ревьюера ❌</b> \n",
    "    \n",
    "После внесения исправлений, нужно поправить вывод. Вывод - это полный отчет о проделанной работе. Он должен содержать все: от обработки данных до рекомендаций заказчику. Я бы советовала в начале кратко описывать, с какими данными мы работали и что сделали, а затем отвечать на вопрос исследования - в нашем случае, рекомендовать заказчику, как формировать модель кредитного скоринга"
   ]
  },
  {
   "cell_type": "markdown",
   "id": "40207beb",
   "metadata": {},
   "source": [
    "<p>\n",
    "<div class=\"alert-success\">\n",
    "<b>Комментарий ревьюера 2 ✔️</b>\n",
    "\n",
    "    \n",
    "Молодец, хороший подробный вывод 👍</div>"
   ]
  },
  {
   "cell_type": "markdown",
   "id": "42b87942",
   "metadata": {},
   "source": [
    "<div style=\"border:solid green 3px; padding: 20px\">\n",
    "\n",
    "**Общий вывод по проекту**\n",
    "\n",
    "Екатерина, спасибо за проделанную работу. Мне понравился твой подход и в целом код работает верно. Есть несколько важных моментов, которые я отметила и которые можно было бы улучшить, подсказки ты найдешь в моих комментариях. \n",
    "\n",
    "\n",
    "**Что нужно переделать, чтобы я приняла твой проект🤓**:\n",
    " \n",
    "* Сделать сводные таблицы в каждом пункте с расчётами.\n",
    "* Обрати внимание, что выборки по уровню дохода крайне несбалансированны и для выявления зависимости стоит сравнить две самые большие категории B и C.\n",
    "* После внесения изменений поправить выводы\n",
    "    \n",
    "\n",
    "**Рекомендации ты найдешь в моих комментариях!**\n",
    "    \n",
    "Полезная ссылка про графики:\n",
    "\n",
    "https://habr.com/ru/post/468295/\n",
    "\n",
    "и еще одна\n",
    "\n",
    "https://pyprog.pro/mpl/mpl_short_guide.html\n",
    "\n",
    "\n",
    "**Желаю удачи и жду твой проект на повторное ревью!**😉"
   ]
  },
  {
   "cell_type": "markdown",
   "id": "13f6604d",
   "metadata": {},
   "source": [
    "<div style=\"border:solid green 3px; padding: 20px\">\n",
    "\n",
    "**Общий вывод по проекту 2**\n",
    "\n",
    "Екатерина, спасибо за комментарии и исправления! Отличная работа! Поздравляю со сдачей проекта!  🎉 🎉 🎉\n",
    "\n",
    "Советую тебе бесплатный курс по статистике, можно посмотреть отдельно интересующие тебя темы:\n",
    "    \n",
    "https://stepik.org/course/76/"
   ]
  }
 ],
 "metadata": {
  "ExecuteTimeLog": [
   {
    "duration": 511,
    "start_time": "2023-01-19T12:57:43.710Z"
   },
   {
    "duration": 22,
    "start_time": "2023-01-19T12:57:49.463Z"
   },
   {
    "duration": 13,
    "start_time": "2023-01-19T12:57:56.163Z"
   },
   {
    "duration": 449,
    "start_time": "2023-01-19T13:05:02.307Z"
   },
   {
    "duration": 19,
    "start_time": "2023-01-19T13:05:02.758Z"
   },
   {
    "duration": 18,
    "start_time": "2023-01-19T13:05:02.778Z"
   },
   {
    "duration": 39,
    "start_time": "2023-01-19T13:05:02.798Z"
   },
   {
    "duration": 29,
    "start_time": "2023-01-19T13:05:02.838Z"
   },
   {
    "duration": 18,
    "start_time": "2023-01-19T13:05:02.869Z"
   },
   {
    "duration": 19,
    "start_time": "2023-01-19T13:05:02.889Z"
   },
   {
    "duration": 18,
    "start_time": "2023-01-19T13:05:02.909Z"
   },
   {
    "duration": 24,
    "start_time": "2023-01-19T13:05:02.928Z"
   },
   {
    "duration": 40,
    "start_time": "2023-01-19T13:05:02.954Z"
   },
   {
    "duration": 8,
    "start_time": "2023-01-19T13:05:02.995Z"
   },
   {
    "duration": 8,
    "start_time": "2023-01-19T13:05:03.004Z"
   },
   {
    "duration": 25,
    "start_time": "2023-01-19T13:05:03.013Z"
   },
   {
    "duration": 48,
    "start_time": "2023-01-19T13:05:03.039Z"
   },
   {
    "duration": 16,
    "start_time": "2023-01-19T13:05:03.088Z"
   },
   {
    "duration": 18,
    "start_time": "2023-01-19T13:05:03.105Z"
   },
   {
    "duration": 17,
    "start_time": "2023-01-19T13:05:03.124Z"
   },
   {
    "duration": 16,
    "start_time": "2023-01-19T13:05:03.142Z"
   },
   {
    "duration": 18,
    "start_time": "2023-01-19T13:05:03.159Z"
   },
   {
    "duration": 38,
    "start_time": "2023-01-19T13:05:03.178Z"
   },
   {
    "duration": 8,
    "start_time": "2023-01-19T13:05:03.218Z"
   },
   {
    "duration": 5,
    "start_time": "2023-01-19T13:05:03.227Z"
   },
   {
    "duration": 13,
    "start_time": "2023-01-19T13:05:03.233Z"
   },
   {
    "duration": 18,
    "start_time": "2023-01-19T13:05:03.248Z"
   },
   {
    "duration": 10,
    "start_time": "2023-01-19T13:05:16.965Z"
   },
   {
    "duration": 407,
    "start_time": "2023-01-19T13:05:26.063Z"
   },
   {
    "duration": 20,
    "start_time": "2023-01-19T13:05:26.472Z"
   },
   {
    "duration": 25,
    "start_time": "2023-01-19T13:05:26.493Z"
   },
   {
    "duration": 11,
    "start_time": "2023-01-19T13:05:26.520Z"
   },
   {
    "duration": 41,
    "start_time": "2023-01-19T13:05:26.532Z"
   },
   {
    "duration": 3,
    "start_time": "2023-01-19T13:05:26.574Z"
   },
   {
    "duration": 14,
    "start_time": "2023-01-19T13:05:26.579Z"
   },
   {
    "duration": 4,
    "start_time": "2023-01-19T13:05:26.595Z"
   },
   {
    "duration": 10,
    "start_time": "2023-01-19T13:05:26.600Z"
   },
   {
    "duration": 3,
    "start_time": "2023-01-19T13:05:26.612Z"
   },
   {
    "duration": 45,
    "start_time": "2023-01-19T13:05:26.617Z"
   },
   {
    "duration": 9,
    "start_time": "2023-01-19T13:05:26.664Z"
   },
   {
    "duration": 4,
    "start_time": "2023-01-19T13:05:26.674Z"
   },
   {
    "duration": 13,
    "start_time": "2023-01-19T13:05:26.680Z"
   },
   {
    "duration": 21,
    "start_time": "2023-01-19T13:05:26.695Z"
   },
   {
    "duration": 32,
    "start_time": "2023-01-19T13:05:26.717Z"
   },
   {
    "duration": 4,
    "start_time": "2023-01-19T13:05:26.751Z"
   },
   {
    "duration": 14,
    "start_time": "2023-01-19T13:05:26.756Z"
   },
   {
    "duration": 9,
    "start_time": "2023-01-19T13:05:26.772Z"
   },
   {
    "duration": 5,
    "start_time": "2023-01-19T13:05:26.782Z"
   },
   {
    "duration": 11,
    "start_time": "2023-01-19T13:05:26.788Z"
   },
   {
    "duration": 2,
    "start_time": "2023-01-19T13:05:26.801Z"
   },
   {
    "duration": 6,
    "start_time": "2023-01-19T13:05:26.805Z"
   },
   {
    "duration": 2,
    "start_time": "2023-01-19T13:05:26.837Z"
   },
   {
    "duration": 7,
    "start_time": "2023-01-19T13:05:26.841Z"
   },
   {
    "duration": 30,
    "start_time": "2023-01-19T13:10:48.360Z"
   },
   {
    "duration": 71,
    "start_time": "2023-01-19T13:20:37.164Z"
   },
   {
    "duration": 76,
    "start_time": "2023-01-19T13:20:43.649Z"
   },
   {
    "duration": 3,
    "start_time": "2023-01-19T13:20:51.487Z"
   },
   {
    "duration": 3,
    "start_time": "2023-01-19T13:21:56.153Z"
   },
   {
    "duration": 8,
    "start_time": "2023-01-19T13:22:36.497Z"
   },
   {
    "duration": 12,
    "start_time": "2023-01-19T13:23:37.349Z"
   },
   {
    "duration": 4,
    "start_time": "2023-01-19T13:24:04.660Z"
   },
   {
    "duration": 6,
    "start_time": "2023-01-19T13:24:30.953Z"
   },
   {
    "duration": 5,
    "start_time": "2023-01-19T13:25:21.965Z"
   },
   {
    "duration": 6,
    "start_time": "2023-01-19T13:25:46.155Z"
   },
   {
    "duration": 10,
    "start_time": "2023-01-19T13:26:36.268Z"
   },
   {
    "duration": 11,
    "start_time": "2023-01-19T13:27:27.766Z"
   },
   {
    "duration": 10,
    "start_time": "2023-01-19T13:28:17.500Z"
   },
   {
    "duration": 399,
    "start_time": "2023-01-19T13:29:53.268Z"
   },
   {
    "duration": 18,
    "start_time": "2023-01-19T13:29:53.669Z"
   },
   {
    "duration": 12,
    "start_time": "2023-01-19T13:29:53.689Z"
   },
   {
    "duration": 7,
    "start_time": "2023-01-19T13:29:53.703Z"
   },
   {
    "duration": 42,
    "start_time": "2023-01-19T13:29:53.712Z"
   },
   {
    "duration": 3,
    "start_time": "2023-01-19T13:29:53.756Z"
   },
   {
    "duration": 27,
    "start_time": "2023-01-19T13:29:53.760Z"
   },
   {
    "duration": 9,
    "start_time": "2023-01-19T13:29:53.788Z"
   },
   {
    "duration": 12,
    "start_time": "2023-01-19T13:29:53.798Z"
   },
   {
    "duration": 17,
    "start_time": "2023-01-19T13:29:53.813Z"
   },
   {
    "duration": 36,
    "start_time": "2023-01-19T13:29:53.831Z"
   },
   {
    "duration": 9,
    "start_time": "2023-01-19T13:29:53.868Z"
   },
   {
    "duration": 9,
    "start_time": "2023-01-19T13:29:53.878Z"
   },
   {
    "duration": 24,
    "start_time": "2023-01-19T13:29:53.889Z"
   },
   {
    "duration": 18,
    "start_time": "2023-01-19T13:29:53.915Z"
   },
   {
    "duration": 14,
    "start_time": "2023-01-19T13:29:53.934Z"
   },
   {
    "duration": 2,
    "start_time": "2023-01-19T13:29:53.950Z"
   },
   {
    "duration": 16,
    "start_time": "2023-01-19T13:29:53.954Z"
   },
   {
    "duration": 17,
    "start_time": "2023-01-19T13:29:53.971Z"
   },
   {
    "duration": 8,
    "start_time": "2023-01-19T13:29:53.989Z"
   },
   {
    "duration": 10,
    "start_time": "2023-01-19T13:29:53.998Z"
   },
   {
    "duration": 19,
    "start_time": "2023-01-19T13:29:54.009Z"
   },
   {
    "duration": 8,
    "start_time": "2023-01-19T13:29:54.030Z"
   },
   {
    "duration": 11,
    "start_time": "2023-01-19T13:29:54.039Z"
   },
   {
    "duration": 7,
    "start_time": "2023-01-19T13:29:54.051Z"
   },
   {
    "duration": 12,
    "start_time": "2023-01-19T13:29:54.060Z"
   },
   {
    "duration": 12,
    "start_time": "2023-01-19T13:29:54.073Z"
   },
   {
    "duration": 10,
    "start_time": "2023-01-19T13:29:54.087Z"
   },
   {
    "duration": 12,
    "start_time": "2023-01-19T13:29:54.098Z"
   },
   {
    "duration": 10,
    "start_time": "2023-01-19T13:29:54.112Z"
   },
   {
    "duration": 21,
    "start_time": "2023-01-19T13:29:54.123Z"
   },
   {
    "duration": 4,
    "start_time": "2023-01-19T13:30:30.816Z"
   },
   {
    "duration": 58,
    "start_time": "2023-01-19T13:30:41.313Z"
   },
   {
    "duration": 58,
    "start_time": "2023-01-19T13:30:42.663Z"
   },
   {
    "duration": 451,
    "start_time": "2023-01-19T13:30:54.512Z"
   },
   {
    "duration": 20,
    "start_time": "2023-01-19T13:30:54.965Z"
   },
   {
    "duration": 13,
    "start_time": "2023-01-19T13:30:54.986Z"
   },
   {
    "duration": 8,
    "start_time": "2023-01-19T13:30:55.001Z"
   },
   {
    "duration": 53,
    "start_time": "2023-01-19T13:30:55.010Z"
   },
   {
    "duration": 3,
    "start_time": "2023-01-19T13:30:55.065Z"
   },
   {
    "duration": 23,
    "start_time": "2023-01-19T13:30:55.069Z"
   },
   {
    "duration": 25,
    "start_time": "2023-01-19T13:30:55.093Z"
   },
   {
    "duration": 25,
    "start_time": "2023-01-19T13:30:55.119Z"
   },
   {
    "duration": 11,
    "start_time": "2023-01-19T13:30:55.146Z"
   },
   {
    "duration": 38,
    "start_time": "2023-01-19T13:30:55.158Z"
   },
   {
    "duration": 8,
    "start_time": "2023-01-19T13:30:55.198Z"
   },
   {
    "duration": 8,
    "start_time": "2023-01-19T13:30:55.207Z"
   },
   {
    "duration": 13,
    "start_time": "2023-01-19T13:30:55.217Z"
   },
   {
    "duration": 27,
    "start_time": "2023-01-19T13:30:55.231Z"
   },
   {
    "duration": 15,
    "start_time": "2023-01-19T13:30:55.259Z"
   },
   {
    "duration": 5,
    "start_time": "2023-01-19T13:30:55.276Z"
   },
   {
    "duration": 13,
    "start_time": "2023-01-19T13:30:55.282Z"
   },
   {
    "duration": 5,
    "start_time": "2023-01-19T13:30:55.296Z"
   },
   {
    "duration": 7,
    "start_time": "2023-01-19T13:30:55.302Z"
   },
   {
    "duration": 24,
    "start_time": "2023-01-19T13:30:55.310Z"
   },
   {
    "duration": 8,
    "start_time": "2023-01-19T13:30:55.335Z"
   },
   {
    "duration": 8,
    "start_time": "2023-01-19T13:30:55.345Z"
   },
   {
    "duration": 14,
    "start_time": "2023-01-19T13:30:55.354Z"
   },
   {
    "duration": 4,
    "start_time": "2023-01-19T13:30:55.369Z"
   },
   {
    "duration": 32,
    "start_time": "2023-01-19T13:30:55.375Z"
   },
   {
    "duration": 43,
    "start_time": "2023-01-19T13:30:55.408Z"
   },
   {
    "duration": 16,
    "start_time": "2023-01-19T13:30:55.454Z"
   },
   {
    "duration": 11,
    "start_time": "2023-01-19T13:30:55.472Z"
   },
   {
    "duration": 11,
    "start_time": "2023-01-19T13:30:55.484Z"
   },
   {
    "duration": 10,
    "start_time": "2023-01-19T13:30:55.496Z"
   },
   {
    "duration": 455,
    "start_time": "2023-01-19T14:09:57.590Z"
   },
   {
    "duration": 22,
    "start_time": "2023-01-19T14:09:58.046Z"
   },
   {
    "duration": 16,
    "start_time": "2023-01-19T14:09:58.070Z"
   },
   {
    "duration": 11,
    "start_time": "2023-01-19T14:09:58.088Z"
   },
   {
    "duration": 51,
    "start_time": "2023-01-19T14:09:58.101Z"
   },
   {
    "duration": 4,
    "start_time": "2023-01-19T14:09:58.153Z"
   },
   {
    "duration": 9,
    "start_time": "2023-01-19T14:09:58.158Z"
   },
   {
    "duration": 4,
    "start_time": "2023-01-19T14:09:58.169Z"
   },
   {
    "duration": 8,
    "start_time": "2023-01-19T14:09:58.175Z"
   },
   {
    "duration": 4,
    "start_time": "2023-01-19T14:09:58.187Z"
   },
   {
    "duration": 62,
    "start_time": "2023-01-19T14:09:58.193Z"
   },
   {
    "duration": 10,
    "start_time": "2023-01-19T14:09:58.256Z"
   },
   {
    "duration": 6,
    "start_time": "2023-01-19T14:09:58.268Z"
   },
   {
    "duration": 12,
    "start_time": "2023-01-19T14:09:58.276Z"
   },
   {
    "duration": 26,
    "start_time": "2023-01-19T14:09:58.289Z"
   },
   {
    "duration": 34,
    "start_time": "2023-01-19T14:09:58.316Z"
   },
   {
    "duration": 3,
    "start_time": "2023-01-19T14:09:58.352Z"
   },
   {
    "duration": 15,
    "start_time": "2023-01-19T14:09:58.357Z"
   },
   {
    "duration": 5,
    "start_time": "2023-01-19T14:09:58.373Z"
   },
   {
    "duration": 4,
    "start_time": "2023-01-19T14:09:58.380Z"
   },
   {
    "duration": 11,
    "start_time": "2023-01-19T14:09:58.386Z"
   },
   {
    "duration": 5,
    "start_time": "2023-01-19T14:09:58.398Z"
   },
   {
    "duration": 8,
    "start_time": "2023-01-19T14:09:58.405Z"
   },
   {
    "duration": 13,
    "start_time": "2023-01-19T14:09:58.448Z"
   },
   {
    "duration": 4,
    "start_time": "2023-01-19T14:09:58.462Z"
   },
   {
    "duration": 15,
    "start_time": "2023-01-19T14:09:58.468Z"
   },
   {
    "duration": 8,
    "start_time": "2023-01-19T14:09:58.484Z"
   },
   {
    "duration": 6,
    "start_time": "2023-01-19T14:09:58.494Z"
   },
   {
    "duration": 15,
    "start_time": "2023-01-19T14:09:58.502Z"
   },
   {
    "duration": 11,
    "start_time": "2023-01-19T14:09:58.548Z"
   },
   {
    "duration": 10,
    "start_time": "2023-01-19T14:09:58.561Z"
   },
   {
    "duration": 49,
    "start_time": "2023-01-20T10:31:58.759Z"
   },
   {
    "duration": 490,
    "start_time": "2023-01-20T10:32:04.456Z"
   },
   {
    "duration": 25,
    "start_time": "2023-01-20T10:32:04.949Z"
   },
   {
    "duration": 26,
    "start_time": "2023-01-20T10:32:04.975Z"
   },
   {
    "duration": 30,
    "start_time": "2023-01-20T10:32:05.003Z"
   },
   {
    "duration": 53,
    "start_time": "2023-01-20T10:32:05.034Z"
   },
   {
    "duration": 3,
    "start_time": "2023-01-20T10:32:05.089Z"
   },
   {
    "duration": 21,
    "start_time": "2023-01-20T10:32:05.094Z"
   },
   {
    "duration": 49,
    "start_time": "2023-01-20T10:32:05.117Z"
   },
   {
    "duration": 25,
    "start_time": "2023-01-20T10:32:05.168Z"
   },
   {
    "duration": 20,
    "start_time": "2023-01-20T10:32:05.197Z"
   },
   {
    "duration": 74,
    "start_time": "2023-01-20T10:32:05.218Z"
   },
   {
    "duration": 17,
    "start_time": "2023-01-20T10:32:05.294Z"
   },
   {
    "duration": 30,
    "start_time": "2023-01-20T10:32:05.313Z"
   },
   {
    "duration": 44,
    "start_time": "2023-01-20T10:32:05.345Z"
   },
   {
    "duration": 42,
    "start_time": "2023-01-20T10:32:05.391Z"
   },
   {
    "duration": 28,
    "start_time": "2023-01-20T10:32:05.435Z"
   },
   {
    "duration": 16,
    "start_time": "2023-01-20T10:32:05.464Z"
   },
   {
    "duration": 65,
    "start_time": "2023-01-20T10:32:05.482Z"
   },
   {
    "duration": 17,
    "start_time": "2023-01-20T10:32:05.550Z"
   },
   {
    "duration": 25,
    "start_time": "2023-01-20T10:32:05.568Z"
   },
   {
    "duration": 34,
    "start_time": "2023-01-20T10:32:05.595Z"
   },
   {
    "duration": 24,
    "start_time": "2023-01-20T10:32:05.631Z"
   },
   {
    "duration": 38,
    "start_time": "2023-01-20T10:32:05.657Z"
   },
   {
    "duration": 22,
    "start_time": "2023-01-20T10:32:05.697Z"
   },
   {
    "duration": 41,
    "start_time": "2023-01-20T10:32:05.721Z"
   },
   {
    "duration": 35,
    "start_time": "2023-01-20T10:32:54.413Z"
   },
   {
    "duration": 31,
    "start_time": "2023-01-20T10:34:31.580Z"
   },
   {
    "duration": 28,
    "start_time": "2023-01-20T10:35:42.310Z"
   },
   {
    "duration": 30,
    "start_time": "2023-01-20T10:38:34.914Z"
   },
   {
    "duration": 466,
    "start_time": "2023-01-20T10:39:24.654Z"
   },
   {
    "duration": 25,
    "start_time": "2023-01-20T10:39:25.122Z"
   },
   {
    "duration": 17,
    "start_time": "2023-01-20T10:39:25.148Z"
   },
   {
    "duration": 17,
    "start_time": "2023-01-20T10:39:25.167Z"
   },
   {
    "duration": 52,
    "start_time": "2023-01-20T10:39:25.185Z"
   },
   {
    "duration": 4,
    "start_time": "2023-01-20T10:39:25.239Z"
   },
   {
    "duration": 22,
    "start_time": "2023-01-20T10:39:25.246Z"
   },
   {
    "duration": 13,
    "start_time": "2023-01-20T10:39:25.271Z"
   },
   {
    "duration": 28,
    "start_time": "2023-01-20T10:39:25.286Z"
   },
   {
    "duration": 14,
    "start_time": "2023-01-20T10:39:25.318Z"
   },
   {
    "duration": 51,
    "start_time": "2023-01-20T10:39:25.334Z"
   },
   {
    "duration": 10,
    "start_time": "2023-01-20T10:39:25.387Z"
   },
   {
    "duration": 9,
    "start_time": "2023-01-20T10:39:25.398Z"
   },
   {
    "duration": 23,
    "start_time": "2023-01-20T10:39:25.408Z"
   },
   {
    "duration": 26,
    "start_time": "2023-01-20T10:39:25.432Z"
   },
   {
    "duration": 18,
    "start_time": "2023-01-20T10:39:25.460Z"
   },
   {
    "duration": 4,
    "start_time": "2023-01-20T10:39:25.480Z"
   },
   {
    "duration": 15,
    "start_time": "2023-01-20T10:39:25.485Z"
   },
   {
    "duration": 7,
    "start_time": "2023-01-20T10:39:25.502Z"
   },
   {
    "duration": 26,
    "start_time": "2023-01-20T10:39:25.511Z"
   },
   {
    "duration": 14,
    "start_time": "2023-01-20T10:39:25.539Z"
   },
   {
    "duration": 9,
    "start_time": "2023-01-20T10:39:25.555Z"
   },
   {
    "duration": 30,
    "start_time": "2023-01-20T10:39:25.565Z"
   },
   {
    "duration": 47,
    "start_time": "2023-01-20T10:39:25.597Z"
   },
   {
    "duration": 28,
    "start_time": "2023-01-20T10:39:25.646Z"
   },
   {
    "duration": 29,
    "start_time": "2023-01-20T10:39:25.675Z"
   },
   {
    "duration": 530,
    "start_time": "2023-01-20T19:41:51.937Z"
   },
   {
    "duration": 30,
    "start_time": "2023-01-20T19:41:52.469Z"
   },
   {
    "duration": 20,
    "start_time": "2023-01-20T19:41:52.501Z"
   },
   {
    "duration": 21,
    "start_time": "2023-01-20T19:41:52.524Z"
   },
   {
    "duration": 47,
    "start_time": "2023-01-20T19:41:52.548Z"
   },
   {
    "duration": 4,
    "start_time": "2023-01-20T19:41:52.597Z"
   },
   {
    "duration": 18,
    "start_time": "2023-01-20T19:41:52.603Z"
   },
   {
    "duration": 7,
    "start_time": "2023-01-20T19:41:52.623Z"
   },
   {
    "duration": 10,
    "start_time": "2023-01-20T19:41:52.632Z"
   },
   {
    "duration": 7,
    "start_time": "2023-01-20T19:41:52.645Z"
   },
   {
    "duration": 32,
    "start_time": "2023-01-20T19:41:52.653Z"
   },
   {
    "duration": 9,
    "start_time": "2023-01-20T19:41:52.687Z"
   },
   {
    "duration": 5,
    "start_time": "2023-01-20T19:41:52.698Z"
   },
   {
    "duration": 38,
    "start_time": "2023-01-20T19:41:52.705Z"
   },
   {
    "duration": 18,
    "start_time": "2023-01-20T19:41:52.745Z"
   },
   {
    "duration": 18,
    "start_time": "2023-01-20T19:41:52.765Z"
   },
   {
    "duration": 4,
    "start_time": "2023-01-20T19:41:52.785Z"
   },
   {
    "duration": 14,
    "start_time": "2023-01-20T19:41:52.791Z"
   },
   {
    "duration": 31,
    "start_time": "2023-01-20T19:41:52.807Z"
   },
   {
    "duration": 12,
    "start_time": "2023-01-20T19:41:52.840Z"
   },
   {
    "duration": 19,
    "start_time": "2023-01-20T19:41:52.854Z"
   },
   {
    "duration": 6,
    "start_time": "2023-01-20T19:41:52.875Z"
   },
   {
    "duration": 29,
    "start_time": "2023-01-20T19:41:52.883Z"
   },
   {
    "duration": 42,
    "start_time": "2023-01-20T19:41:52.914Z"
   },
   {
    "duration": 25,
    "start_time": "2023-01-20T19:41:52.957Z"
   },
   {
    "duration": 27,
    "start_time": "2023-01-20T19:41:52.983Z"
   }
  ],
  "colab": {
   "provenance": []
  },
  "kernelspec": {
   "display_name": "Python 3 (ipykernel)",
   "language": "python",
   "name": "python3"
  },
  "language_info": {
   "codemirror_mode": {
    "name": "ipython",
    "version": 3
   },
   "file_extension": ".py",
   "mimetype": "text/x-python",
   "name": "python",
   "nbconvert_exporter": "python",
   "pygments_lexer": "ipython3",
   "version": "3.9.13"
  },
  "toc": {
   "base_numbering": 1,
   "nav_menu": {},
   "number_sections": true,
   "sideBar": true,
   "skip_h1_title": true,
   "title_cell": "Содержание",
   "title_sidebar": "Contents",
   "toc_cell": true,
   "toc_position": {},
   "toc_section_display": true,
   "toc_window_display": false
  }
 },
 "nbformat": 4,
 "nbformat_minor": 5
}
